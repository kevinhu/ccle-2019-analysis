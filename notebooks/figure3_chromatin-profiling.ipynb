{
 "cells": [
  {
   "cell_type": "code",
   "execution_count": null,
   "metadata": {
    "ExecuteTime": {
     "end_time": "2019-12-09T05:32:53.010380Z",
     "start_time": "2019-12-09T05:32:51.562286Z"
    }
   },
   "outputs": [],
   "source": [
    "import pandas as pd\n",
    "import numpy as np\n",
    "import seaborn as sns\n",
    "\n",
    "import matplotlib as mpl\n",
    "from matplotlib import pyplot as plt\n",
    "\n",
    "from scipy.stats import zscore\n",
    "\n",
    "from collections import defaultdict, Counter\n",
    "\n",
    "import re\n",
    "\n",
    "import scipy.spatial as sp\n",
    "import scipy.cluster.hierarchy as hc\n",
    "\n",
    "from matplotlib import cm\n",
    "from matplotlib.colors import ListedColormap, LinearSegmentedColormap"
   ]
  },
  {
   "cell_type": "markdown",
   "metadata": {},
   "source": [
    "# Summary\n",
    "\n",
    "This notebook describes how to roughly reproduce the analysis leading up to Figure 3."
   ]
  },
  {
   "cell_type": "code",
   "execution_count": null,
   "metadata": {
    "ExecuteTime": {
     "end_time": "2019-12-09T05:34:01.461951Z",
     "start_time": "2019-12-09T05:33:54.700833Z"
    }
   },
   "outputs": [],
   "source": [
    "chromatin_profiling = pd.read_hdf(\n",
    "    \"../data/CCLE_GlobalChromatinProfiling_20181130.hdf\", key=\"chromatin_profiling\")\n",
    "chromatin_profiling = chromatin_profiling.dropna(axis=1, thresh=875)\n",
    "chromatin_align = chromatin_profiling.fillna(chromatin_profiling.mean())\n",
    "chromatin_align = chromatin_align.apply(zscore)\n",
    "\n",
    "hs_muts = pd.read_hdf(\"../data/hs_muts.h5\", key=\"hs_muts\")\n",
    "damaging_muts = pd.read_hdf(\"../data/damaging_muts.h5\", key=\"damaging_muts\")\n",
    "fusions = pd.read_csv(\"../data/CCLE_Fusions_20181130.txt\", sep=\"\\t\")\n",
    "\n",
    "hs_muts = hs_muts.loc[chromatin_align.index]\n",
    "\n",
    "mutation_calls = pd.read_hdf(\n",
    "    \"../data/depmap_19Q1_mutation_calls.h5\", key=\"mutation_calls\")"
   ]
  },
  {
   "cell_type": "markdown",
   "metadata": {},
   "source": [
    "# Add mutations and arrangements"
   ]
  },
  {
   "cell_type": "markdown",
   "metadata": {},
   "source": [
    "## NSD2 fusions\n",
    "\n",
    "It was [previously shown](https://www.ncbi.nlm.nih.gov/pmc/articles/PMC4262138/) that fusions and mutations in NSD2 lead to specific chromatin states. Here we pull these NSD2 fusion annotations out from the full list of fusions. Note that here NSD2 is identified with its alias, WHSC1."
   ]
  },
  {
   "cell_type": "code",
   "execution_count": null,
   "metadata": {
    "ExecuteTime": {
     "end_time": "2019-12-09T05:34:02.950499Z",
     "start_time": "2019-12-09T05:34:02.938152Z"
    }
   },
   "outputs": [],
   "source": [
    "nsd2_fusions = fusions[(fusions[\"LeftGene\"] == \"WHSC1\")\n",
    "                       | (fusions[\"RightGene\"] == \"WHSC1\")]\n",
    "nsd2_fused = set(nsd2_fusions[\"BroadID\"])"
   ]
  },
  {
   "cell_type": "markdown",
   "metadata": {},
   "source": [
    "## CREBBP and EP300 mutations\n",
    "One of the discoveries we made in clustering the chromatin modification data was that certain clusters were enriched in mutations of certain genes. This would hint that these mutations are perhaps the cause of these abnormal chromatin states.\n",
    "\n",
    "In particular, we found that truncating mutations in CREBBP and EP300, two well-known chromatin modifiers, are associated with one cluster marked by increased acetylation of lysine 27 and di/tri-methylation of lysine 36 of histone H3 (H3K27ac1K36me2 and H3K27ac1K36me3). We were then able to narrow down these truncating mutations to those in the TAZ (transcription adaptor putative zinc finger) domains of these two proteins."
   ]
  },
  {
   "cell_type": "code",
   "execution_count": null,
   "metadata": {
    "ExecuteTime": {
     "end_time": "2019-12-09T05:34:04.613093Z",
     "start_time": "2019-12-09T05:34:04.337439Z"
    }
   },
   "outputs": [],
   "source": [
    "crebbp = mutation_calls[mutation_calls[\"Hugo_Symbol\"] == \"CREBBP\"]\n",
    "crebbp = crebbp[crebbp[\"Variant_annotation\"] == \"damaging\"]\n",
    "crebbp = crebbp.dropna(subset=[\"Protein_Change\"])\n",
    "\n",
    "crebbp[\"codon_n\"] = crebbp[\"Protein_Change\"].apply(\n",
    "    lambda x: int(re.search(\"[0-9]+\", str(x))[0]))\n",
    "crebbp = crebbp[(crebbp[\"codon_n\"] >= 1745) & (\n",
    "    crebbp[\"codon_n\"] <= 1846)]  # TAZ2 domain\n",
    "crebbp = set(crebbp[\"DepMap_ID\"])\n",
    "\n",
    "ep300 = mutation_calls[mutation_calls[\"Hugo_Symbol\"] == \"EP300\"]\n",
    "ep300 = ep300[ep300[\"Variant_annotation\"] == \"damaging\"]\n",
    "ep300 = ep300.dropna(subset=[\"Protein_Change\"])\n",
    "\n",
    "ep300[\"codon_n\"] = ep300[\"Protein_Change\"].apply(\n",
    "    lambda x: int(re.search(\"[0-9]+\", str(x))[0]))\n",
    "ep300 = ep300[(ep300[\"codon_n\"] >= 1708) & (\n",
    "    ep300[\"codon_n\"] <= 1809)]  # the TAZ2 domain\n",
    "ep300 = set(ep300[\"DepMap_ID\"])"
   ]
  },
  {
   "cell_type": "markdown",
   "metadata": {},
   "source": [
    "## Aggregate alterations"
   ]
  },
  {
   "cell_type": "markdown",
   "metadata": {},
   "source": [
    "Here we combine NSD2 fusions, CREBBP and EP300 mutations into a single dataframe for plotting. We also add in EZH2 mutations, which were [previously](https://www.sciencedirect.com/science/article/pii/S1046202314003600?via%3Dihub) shown to be associated with chromatin states."
   ]
  },
  {
   "cell_type": "code",
   "execution_count": null,
   "metadata": {
    "ExecuteTime": {
     "end_time": "2019-12-09T05:34:10.904444Z",
     "start_time": "2019-12-09T05:34:10.894463Z"
    }
   },
   "outputs": [],
   "source": [
    "mut_df = pd.DataFrame(index=chromatin_profiling.index)\n",
    "\n",
    "mut_df[\"EZH2\"] = hs_muts[\"EZH2\"]\n",
    "mut_df[\"NSD2\"] = mut_df.index.map(lambda x: x in nsd2_fused)\n",
    "mut_df[\"CREBBP\"] = mut_df.index.map(lambda x: x in crebbp)\n",
    "mut_df[\"EP300\"] = mut_df.index.map(lambda x: x in ep300)\n",
    "\n",
    "mut_df = mut_df.astype(int)"
   ]
  },
  {
   "cell_type": "markdown",
   "metadata": {},
   "source": [
    "# Clustered heatmap"
   ]
  },
  {
   "cell_type": "markdown",
   "metadata": {},
   "source": [
    "To plot chromatin states in conjunction with mutations, we first cluster the chromatin states such that each cluster contains cell lines with similar chromatin marks. We can then plot these clusters as a grouped heatmap, and on top we can add columns indicating whether or not each cell line contains a mutation."
   ]
  },
  {
   "cell_type": "code",
   "execution_count": null,
   "metadata": {
    "ExecuteTime": {
     "end_time": "2019-12-09T05:35:24.221852Z",
     "start_time": "2019-12-09T05:35:24.217854Z"
    }
   },
   "outputs": [],
   "source": [
    "def get_colors(s, cmap):\n",
    "\n",
    "    pal = sns.color_palette(cmap, len(s.unique()))\n",
    "    mapping = dict(zip(s.unique(), pal))\n",
    "    colors = pd.Series(s).map(mapping)\n",
    "\n",
    "    return colors, mapping"
   ]
  },
  {
   "cell_type": "code",
   "execution_count": null,
   "metadata": {
    "ExecuteTime": {
     "end_time": "2019-12-09T05:35:27.739940Z",
     "start_time": "2019-12-09T05:35:27.705717Z"
    }
   },
   "outputs": [],
   "source": [
    "n_clusters = 24\n",
    "\n",
    "cell_line_linkage = hc.linkage(chromatin_align, method='ward')\n",
    "\n",
    "clusters = hc.fcluster(cell_line_linkage, n_clusters, \"maxclust\")\n",
    "clusters = pd.Series(clusters, index=chromatin_align.index)\n",
    "\n",
    "cluster_colors = get_colors(clusters, \"tab20\")[0]"
   ]
  },
  {
   "cell_type": "code",
   "execution_count": null,
   "metadata": {
    "ExecuteTime": {
     "end_time": "2019-12-09T05:35:33.952704Z",
     "start_time": "2019-12-09T05:35:33.921193Z"
    }
   },
   "outputs": [],
   "source": [
    "cluster_splits = [chromatin_align.loc[clusters == x]\n",
    "                  for x in range(1, n_clusters+1)]\n",
    "cluster_muts = [mut_df.loc[clusters == x] for x in range(1, n_clusters+1)]\n",
    "\n",
    "lengths = [len(x) for x in cluster_splits]\n",
    "\n",
    "total_lines = sum(lengths)\n",
    "\n",
    "cumulative_lengths = [0]+list(np.cumsum(lengths))"
   ]
  },
  {
   "cell_type": "code",
   "execution_count": null,
   "metadata": {
    "ExecuteTime": {
     "end_time": "2019-12-09T05:35:55.175586Z",
     "start_time": "2019-12-09T05:35:47.713172Z"
    }
   },
   "outputs": [],
   "source": [
    "fig = plt.figure(figsize=(16, 10))\n",
    "\n",
    "spacing = 8\n",
    "\n",
    "gs = mpl.gridspec.GridSpec(8, total_lines+spacing*(n_clusters-1))\n",
    "\n",
    "for cluster_idx, cluster in enumerate(cluster_splits):\n",
    "\n",
    "    muts = cluster_muts[cluster_idx]\n",
    "    indent = spacing*cluster_idx\n",
    "\n",
    "    ax = fig.add_subplot(gs[2:, cumulative_lengths[cluster_idx] +\n",
    "                            indent:cumulative_lengths[cluster_idx+1]+indent])\n",
    "\n",
    "    ax.imshow(cluster.T, aspect=\"auto\", vmin=-8, vmax=8, cmap=\"bwr\")\n",
    "    plt.box(False)\n",
    "\n",
    "    if cluster_idx == n_clusters-1:\n",
    "        ax.set_xticklabels([])\n",
    "        ax.set_yticks(list(range(len(chromatin_align.columns))))\n",
    "        ax.set_yticklabels(chromatin_align.columns)\n",
    "\n",
    "        ax.xaxis.set_ticks_position('none')\n",
    "\n",
    "        ax.yaxis.tick_right()\n",
    "        ax.yaxis.set_ticks_position('none')\n",
    "\n",
    "    else:\n",
    "        plt.axis('off')\n",
    "\n",
    "    ax = fig.add_subplot(gs[1, cumulative_lengths[cluster_idx] +\n",
    "                            indent:cumulative_lengths[cluster_idx+1]+indent])\n",
    "\n",
    "    ax.imshow(muts.T, aspect=\"auto\",\n",
    "              cmap=mpl.colors.ListedColormap([\"#f6f6f6\", \"black\"]))\n",
    "    plt.box(False)\n",
    "\n",
    "    if cluster_idx == n_clusters-1:\n",
    "        ax.set_xticklabels([])\n",
    "        ax.set_yticks(list(range(4)))\n",
    "        ax.set_yticklabels(mut_df.columns)\n",
    "\n",
    "        ax.xaxis.set_ticks_position('none')\n",
    "\n",
    "        ax.yaxis.tick_right()\n",
    "        ax.yaxis.set_ticks_position('none')\n",
    "\n",
    "    else:\n",
    "        plt.axis('off')\n",
    "\n",
    "plt.savefig(\"../plots/figure3.pdf\", dpi=512,\n",
    "            bbox_inches=\"tight\", background=\"transparent\")"
   ]
  }
 ],
 "metadata": {
  "kernelspec": {
   "display_name": "Python 3",
   "language": "python",
   "name": "python3"
  },
  "language_info": {
   "codemirror_mode": {
    "name": "ipython",
    "version": 3
   },
   "file_extension": ".py",
   "mimetype": "text/x-python",
   "name": "python",
   "nbconvert_exporter": "python",
   "pygments_lexer": "ipython3",
   "version": "3.7.4"
  },
  "toc": {
   "base_numbering": 1,
   "nav_menu": {},
   "number_sections": true,
   "sideBar": true,
   "skip_h1_title": false,
   "title_cell": "Table of Contents",
   "title_sidebar": "Contents",
   "toc_cell": false,
   "toc_position": {},
   "toc_section_display": true,
   "toc_window_display": false
  }
 },
 "nbformat": 4,
 "nbformat_minor": 2
}
