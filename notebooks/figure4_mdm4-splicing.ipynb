{
 "cells": [
  {
   "cell_type": "code",
   "execution_count": null,
   "metadata": {
    "ExecuteTime": {
     "end_time": "2019-12-09T05:36:47.244986Z",
     "start_time": "2019-12-09T05:36:45.895428Z"
    }
   },
   "outputs": [],
   "source": [
    "import pandas as pd\n",
    "import numpy as np\n",
    "import seaborn as sns\n",
    "\n",
    "import matplotlib as mpl\n",
    "from matplotlib import pyplot as plt\n",
    "\n",
    "from scipy.stats import zscore, pearsonr, spearmanr\n",
    "\n",
    "from collections import defaultdict, Counter\n",
    "\n",
    "import scipy.spatial as sp\n",
    "import scipy.cluster.hierarchy as hc\n",
    "\n",
    "from matplotlib import cm\n",
    "from matplotlib.colors import ListedColormap, LinearSegmentedColormap\n",
    "from adjustText import adjust_text\n",
    "\n",
    "from statsmodels.stats.multitest import multipletests\n",
    "\n",
    "import re\n",
    "\n",
    "from matplotlib.lines import Line2D\n",
    "\n",
    "from tqdm.auto import tqdm\n",
    "tqdm.pandas()"
   ]
  },
  {
   "cell_type": "markdown",
   "metadata": {},
   "source": [
    "# Summary\n",
    "\n",
    "This notebook describes how to reproduce some of the subplots shown in Figure 4, which highlights the functional significance and proximal causes of MDM4 exon 6 splicing."
   ]
  },
  {
   "cell_type": "markdown",
   "metadata": {},
   "source": [
    "# Load annotations"
   ]
  },
  {
   "cell_type": "code",
   "execution_count": null,
   "metadata": {
    "ExecuteTime": {
     "end_time": "2019-12-09T05:36:52.413304Z",
     "start_time": "2019-12-09T05:36:48.989147Z"
    }
   },
   "outputs": [],
   "source": [
    "ccle_genex = pd.read_hdf(\n",
    "    \"../data/CCLE_RNAseq_rsem_genes_tpm_20180929.hdf\", key=\"ccle_genex\")\n",
    "exonusage = pd.read_hdf(\n",
    "    \"../data/CCLE_RNAseq_ExonUsageRatio_20180929.hdf\", key=\"exonusage\")\n",
    "\n",
    "hs_muts = pd.read_hdf(\"../data/hs_muts.h5\", key=\"hs_muts\")\n",
    "damaging_muts = pd.read_hdf(\"../data/damaging_muts.h5\", key=\"damaging_muts\")\n",
    "copynumber = pd.read_hdf(\"../data/CCLE_gene_cn.hdf\", key=\"copynumber\")\n",
    "\n",
    "avana = pd.read_hdf(\"../data/Achilles_gene_effect.hdf\", key=\"avana\")\n",
    "drive = pd.read_hdf(\"../data/D2_DRIVE_gene_dep_scores.hdf\", key=\"drive\")\n",
    "achilles = pd.read_hdf(\n",
    "    \"../data/D2_Achilles_gene_dep_scores.hdf\", key=\"achilles\")"
   ]
  },
  {
   "cell_type": "markdown",
   "metadata": {},
   "source": [
    "Genes can be named by several ways (ENSEMBL, Entrez, HGNC, etc.). Here, we harmonize all of them by using the Biomart service. In particular, we convert the Entrez IDs used in the dependency screens to ENSEMBL ones."
   ]
  },
  {
   "cell_type": "code",
   "execution_count": null,
   "metadata": {
    "ExecuteTime": {
     "end_time": "2019-12-09T05:36:53.736357Z",
     "start_time": "2019-12-09T05:36:52.886325Z"
    }
   },
   "outputs": [],
   "source": [
    "ensembl_gene_protein = pd.read_csv(\n",
    "    \"../data/ensembl_gene_protein.txt\", sep=\"\\t\")\n",
    "ensembl_gene_protein = ensembl_gene_protein.dropna(\n",
    "    subset=[\"Protein stable ID\", \"NCBI gene ID\"])\n",
    "ensembl_gene_protein[\"NCBI gene ID\"] = ensembl_gene_protein[\"NCBI gene ID\"].astype(\n",
    "    int).astype(str)\n",
    "ensembl_gene_protein[\"format_name\"] = ensembl_gene_protein[\"HGNC symbol\"] + \\\n",
    "    \"_\" + ensembl_gene_protein[\"Gene stable ID\"]\n",
    "\n",
    "entrez_ensembl_map = dict(\n",
    "    zip(ensembl_gene_protein[\"NCBI gene ID\"], ensembl_gene_protein[\"format_name\"]))"
   ]
  },
  {
   "cell_type": "code",
   "execution_count": null,
   "metadata": {
    "ExecuteTime": {
     "end_time": "2019-12-09T05:38:21.165898Z",
     "start_time": "2019-12-09T05:38:20.796002Z"
    }
   },
   "outputs": [],
   "source": [
    "def rename_entrez_ensembl(df):\n",
    "\n",
    "    df_names = pd.DataFrame(df.columns, columns=[\"col_name\"])\n",
    "\n",
    "    df_names[\"entrez_id\"] = df_names[\"col_name\"].str.split(\"_\").str[-1]\n",
    "\n",
    "    df_names[\"format_name\"] = df_names[\"entrez_id\"].apply(\n",
    "        lambda x: entrez_ensembl_map.get(x, np.nan))\n",
    "\n",
    "    df_names = df_names.dropna()\n",
    "\n",
    "    df = df[list(df_names[\"col_name\"])]\n",
    "\n",
    "    df.columns = df_names[\"format_name\"]\n",
    "\n",
    "    return df\n",
    "\n",
    "\n",
    "avana = rename_entrez_ensembl(avana)\n",
    "drive = rename_entrez_ensembl(drive)\n",
    "achilles = rename_entrez_ensembl(achilles)\n",
    "\n",
    "avana = avana.loc[:, ~avana.columns.duplicated(keep=\"first\")]\n",
    "drive = drive.loc[:, ~drive.columns.duplicated(keep=\"first\")]\n",
    "achilles = achilles.loc[:, ~achilles.columns.duplicated(keep=\"first\")]"
   ]
  },
  {
   "cell_type": "markdown",
   "metadata": {},
   "source": [
    "# Exon and gene correlations with dependency\n",
    "\n",
    "MDM4 splicing first popped up as a notable biomarker when we ran an initial analysis looking at correlations between gene expression, exon inclusion, and dependencies. We already knew of multiple genes that exhibited a strong correlation between expression and dependency (for instance, certain cell lines became dependent on the gene due to overexpression of the gene).\n",
    "\n",
    "Here we pull out genes in which the inclusion levels of one of the gene's exons is a better determinant of the dependency of the same gene than the bulk expression of that gene. "
   ]
  },
  {
   "cell_type": "code",
   "execution_count": null,
   "metadata": {
    "ExecuteTime": {
     "end_time": "2019-12-09T05:38:27.546634Z",
     "start_time": "2019-12-09T05:38:27.037463Z"
    }
   },
   "outputs": [],
   "source": [
    "exon_info = pd.DataFrame(exonusage.columns, columns=[\"exon_id\"])\n",
    "exon_info[\"ensembl_id\"] = exon_info[\"exon_id\"].str.split(\"_\").str[-1]\n",
    "exon_info[\"ensembl_id_stable\"] = exon_info[\"ensembl_id\"].str.split(\".\").str[0]\n",
    "exon_info[\"gene_name\"] = exon_info[\"exon_id\"].apply(\n",
    "    lambda x: re.split(\"_[35]p_chr\", x)[0])\n",
    "\n",
    "exon_info[\"stable_id\"] = exon_info[\"gene_name\"] + \\\n",
    "    \"_\" + exon_info[\"ensembl_id_stable\"]\n",
    "exon_info[\"format_id\"] = exon_info[\"gene_name\"] + \"_\" + exon_info[\"ensembl_id\"]"
   ]
  },
  {
   "cell_type": "markdown",
   "metadata": {},
   "source": [
    "Here we define a useful helper function for calculating the Pearson/Spearman correlation coefficient between two Pandas series, which we assume to not be aligned and also to have missing values."
   ]
  },
  {
   "cell_type": "code",
   "execution_count": null,
   "metadata": {
    "ExecuteTime": {
     "end_time": "2019-12-09T05:38:30.960938Z",
     "start_time": "2019-12-09T05:38:30.955839Z"
    }
   },
   "outputs": [],
   "source": [
    "def correlate_nan(x, y, method=\"pearson\"):\n",
    "\n",
    "    assert method == \"pearson\" or method == \"spearman\", \"Correlation method must be Pearson or Spearman!\"\n",
    "\n",
    "    x = x.dropna()\n",
    "    y = y.dropna()\n",
    "    x, y = x.align(y, join=\"inner\")\n",
    "\n",
    "    if len(x >= 25) and len(y >= 25):\n",
    "        if method == \"pearson\":\n",
    "            return pearsonr(x, y)\n",
    "        elif method == \"spearman\":\n",
    "            return spearmanr(x, y)\n",
    "\n",
    "    else:\n",
    "\n",
    "        return (0, 1)"
   ]
  },
  {
   "cell_type": "markdown",
   "metadata": {},
   "source": [
    "To compute the dependency correlates, we define a function that we may apply to the precomputed dataframe of gene and exon IDs."
   ]
  },
  {
   "cell_type": "code",
   "execution_count": null,
   "metadata": {
    "ExecuteTime": {
     "end_time": "2019-12-09T05:50:52.456648Z",
     "start_time": "2019-12-09T05:38:34.636907Z"
    }
   },
   "outputs": [],
   "source": [
    "def dependency_correlates(exon_info, dependency_set):\n",
    "    dependency_ids = set(dependency_set.columns)\n",
    "    gene_ids = set(ccle_genex.columns)\n",
    "\n",
    "    exon_info = exon_info[exon_info[\"stable_id\"].isin(dependency_ids)]\n",
    "    exon_info = exon_info[exon_info[\"format_id\"].isin(gene_ids)]\n",
    "\n",
    "    exon_info = exon_info\n",
    "\n",
    "    def gene_corr(row): return correlate_nan(\n",
    "        ccle_genex[row[\"format_id\"]], dependency_set[row[\"stable_id\"]])\n",
    "    def exon_corr(row): return correlate_nan(\n",
    "        exonusage[row[\"exon_id\"]], dependency_set[row[\"stable_id\"]])\n",
    "\n",
    "    gene_corrs = exon_info.progress_apply(gene_corr, axis=1)\n",
    "    exon_corrs = exon_info.progress_apply(exon_corr, axis=1)\n",
    "\n",
    "    exon_info[\"gene_r\"] = [x[0] for x in gene_corrs]\n",
    "    exon_info[\"gene_pval\"] = [x[1] for x in gene_corrs]\n",
    "\n",
    "    exon_info[\"exon_r\"] = [x[0] for x in exon_corrs]\n",
    "    exon_info[\"exon_pval\"] = [x[1] for x in exon_corrs]\n",
    "\n",
    "    return exon_info\n",
    "\n",
    "\n",
    "avana_correlates = dependency_correlates(exon_info, avana)\n",
    "drive_correlates = dependency_correlates(exon_info, drive)\n",
    "achilles_correlates = dependency_correlates(exon_info, achilles)"
   ]
  },
  {
   "cell_type": "markdown",
   "metadata": {},
   "source": [
    "Because genes can have multiple exons, we only want to consider the single exon that has the highest absolute correlation with dependency."
   ]
  },
  {
   "cell_type": "code",
   "execution_count": null,
   "metadata": {
    "ExecuteTime": {
     "end_time": "2019-12-09T05:55:39.067109Z",
     "start_time": "2019-12-09T05:55:38.989073Z"
    }
   },
   "outputs": [],
   "source": [
    "avana_correlates[\"exon_r2\"] = avana_correlates[\"exon_r\"]**2\n",
    "drive_correlates[\"exon_r2\"] = drive_correlates[\"exon_r\"]**2\n",
    "achilles_correlates[\"exon_r2\"] = achilles_correlates[\"exon_r\"]**2\n",
    "\n",
    "avana_exon_unique = avana_correlates.sort_values(\n",
    "    by=\"exon_r2\", ascending=False)\n",
    "avana_exon_unique[\"first\"] = ~avana_exon_unique[\"ensembl_id\"].duplicated(\n",
    "    keep=\"first\")\n",
    "\n",
    "drive_exon_unique = drive_correlates.sort_values(\n",
    "    by=\"exon_r2\", ascending=False)\n",
    "drive_exon_unique[\"first\"] = ~drive_exon_unique[\"ensembl_id\"].duplicated(\n",
    "    keep=\"first\")\n",
    "\n",
    "achilles_exon_unique = achilles_correlates.sort_values(\n",
    "    by=\"exon_r2\", ascending=False)\n",
    "achilles_exon_unique[\"first\"] = ~achilles_exon_unique[\"ensembl_id\"].duplicated(\n",
    "    keep=\"first\")"
   ]
  },
  {
   "cell_type": "markdown",
   "metadata": {},
   "source": [
    "# Plot correlations\n",
    "\n",
    "Here we reproduce Figure 4a, or the density scatterplot with highlighted points. On the x-axis we plot the max correlation between a gene's dependency and the inclusion levels of one of its exons. On the y-axis we plot the correlation between the same gene's dependency and the bulk expression levels of said gene. We want to look for points that have a relatively high/low x-coordinate (a strong exon-dependency relationship) and a relatively small y-coordinate (a weaker expression-dependency relationship)."
   ]
  },
  {
   "cell_type": "code",
   "execution_count": null,
   "metadata": {
    "ExecuteTime": {
     "end_time": "2019-12-09T05:55:40.579888Z",
     "start_time": "2019-12-09T05:55:40.564005Z"
    }
   },
   "outputs": [],
   "source": [
    "def plot_exon_gene_dependencies(x, y, significants, labels):\n",
    "\n",
    "    plt.figure(figsize=(6, 6))\n",
    "\n",
    "    ax = plt.subplot(111)\n",
    "\n",
    "    xedges, yedges = np.linspace(min(x), max(\n",
    "        x), 128), np.linspace(min(y), max(y), 128)\n",
    "    hist, xedges, yedges = np.histogram2d(x, y, (xedges, yedges))\n",
    "    xidx = np.clip(np.digitize(x, xedges), 0, hist.shape[0]-1)\n",
    "    yidx = np.clip(np.digitize(y, yedges), 0, hist.shape[1]-1)\n",
    "\n",
    "    c = hist[xidx, yidx]\n",
    "    ax.scatter(x, y, c=np.arcsinh(c), cmap=\"Blues\",\n",
    "               lw=0, s=4, rasterized=True, vmin=-8)\n",
    "\n",
    "    plt.axvline(x=0, linewidth=1, color='k', alpha=0.5, linestyle=\"--\")\n",
    "    plt.axhline(y=0, linewidth=1, color='k', alpha=0.5, linestyle=\"--\")\n",
    "\n",
    "    xlims = plt.xlim()\n",
    "    ylims = plt.ylim()\n",
    "\n",
    "    plt.xlim(xlims[0]*1.25, xlims[1]*1.25)\n",
    "    plt.ylim(ylims[0], ylims[1]*1.1)\n",
    "\n",
    "    plt.tick_params(axis=u'both', which=u'both', length=5)\n",
    "\n",
    "    ax.spines['right'].set_visible(False)\n",
    "    ax.spines['top'].set_visible(False)\n",
    "\n",
    "    if len(significants) > 0:\n",
    "\n",
    "        texts = []\n",
    "\n",
    "        for x_pos, y_pos, label in zip(x[significants], y[significants],\n",
    "                                       labels[significants]):\n",
    "            plt.scatter(x_pos, y_pos, c=\"red\", s=16)\n",
    "            texts.append(plt.text(x_pos-0.01, y_pos-0.01,\n",
    "                                  label, ha='right', va='top'))\n",
    "\n",
    "        plt.xlabel(\"Dependency vs exon inclusion\")\n",
    "        plt.ylabel(\"Dependency vs gene expression\")\n",
    "\n",
    "        adjust_text(texts, autoalign='', arrowprops=dict(\n",
    "            arrowstyle='-', color='black'))"
   ]
  },
  {
   "cell_type": "code",
   "execution_count": null,
   "metadata": {
    "ExecuteTime": {
     "end_time": "2019-12-09T05:55:50.258102Z",
     "start_time": "2019-12-09T05:55:46.345410Z"
    }
   },
   "outputs": [],
   "source": [
    "significants = (avana_exon_unique[\"exon_r\"]\n",
    "                < -0.4) & (avana_exon_unique[\"first\"])\n",
    "labels = avana_exon_unique[\"gene_name\"]\n",
    "\n",
    "plot_exon_gene_dependencies(avana_exon_unique[\"exon_r\"],\n",
    "                            avana_exon_unique[\"gene_r\"],\n",
    "                            significants,\n",
    "                            labels\n",
    "                            )"
   ]
  },
  {
   "cell_type": "code",
   "execution_count": null,
   "metadata": {
    "ExecuteTime": {
     "end_time": "2019-12-09T05:56:02.026644Z",
     "start_time": "2019-12-09T05:55:56.697337Z"
    }
   },
   "outputs": [],
   "source": [
    "significants = (drive_exon_unique[\"exon_r\"]\n",
    "                < -0.4) & (drive_exon_unique[\"first\"])\n",
    "labels = drive_exon_unique[\"gene_name\"]\n",
    "\n",
    "plot_exon_gene_dependencies(drive_exon_unique[\"exon_r\"],\n",
    "                            drive_exon_unique[\"gene_r\"],\n",
    "                            significants,\n",
    "                            labels\n",
    "                            )"
   ]
  },
  {
   "cell_type": "code",
   "execution_count": null,
   "metadata": {
    "ExecuteTime": {
     "end_time": "2019-12-09T05:59:27.568242Z",
     "start_time": "2019-12-09T05:59:24.309084Z"
    }
   },
   "outputs": [],
   "source": [
    "significants = (achilles_exon_unique[\"exon_r\"]\n",
    "                < -0.4) & (achilles_exon_unique[\"first\"])\n",
    "labels = achilles_exon_unique[\"gene_name\"]\n",
    "\n",
    "plot_exon_gene_dependencies(achilles_exon_unique[\"exon_r\"],\n",
    "                            achilles_exon_unique[\"gene_r\"],\n",
    "                            significants,\n",
    "                            labels\n",
    "                            )\n",
    "\n",
    "plt.savefig(\"../plots/figure4-a.pdf\", dpi=512, bbox_inches=\"tight\", background=\"transparent\")"
   ]
  },
  {
   "cell_type": "markdown",
   "metadata": {},
   "source": [
    "# MDM4 sensitivity boxplot\n",
    "\n",
    "The MDM4 protein's primary function is to inhibit the p53 tumor-suppressor, which is often inactivated in cells by mutations. We know from prior research that inclusion of exon 6 of MDM4 is necessary for this suppressive function. Therefore, we would expect cell lines in which there is both high inclusion of exon 6 and a wild-type p53 protein to be the most sensitive to MDM4, as these cell lines are depending upon MDM4 to suppress p53."
   ]
  },
  {
   "cell_type": "code",
   "execution_count": null,
   "metadata": {
    "ExecuteTime": {
     "end_time": "2019-12-09T05:59:38.578790Z",
     "start_time": "2019-12-09T05:59:38.213093Z"
    }
   },
   "outputs": [],
   "source": [
    "mdm4_merge = pd.concat([\n",
    "    avana[\"MDM4_ENSG00000198625\"].rename(\"MDM4_avana\"),\n",
    "    drive[\"MDM4_ENSG00000198625\"].rename(\"MDM4_drive\"),\n",
    "    achilles[\"MDM4_ENSG00000198625\"].rename(\"MDM4_achilles\"),\n",
    "    exonusage[\"MDM4_3p_chr1_204506558_204506625_ENSG00000198625.8\"].rename(\n",
    "        \"exon6_3p\"),\n",
    "    exonusage[\"MDM4_5p_chr1_204506558_204506625_ENSG00000198625.8\"].rename(\n",
    "        \"exon6_5p\"),\n",
    "    hs_muts[\"TP53\"].rename(\"TP53_hs\"),\n",
    "    damaging_muts[\"TP53\"].rename(\"TP53_damaging\")\n",
    "], axis=1, sort=True)\n",
    "\n",
    "mdm4_merge[\"exon6_inclusion\"] = (\n",
    "    mdm4_merge[\"exon6_3p\"] + mdm4_merge[\"exon6_5p\"])/2\n",
    "\n",
    "mdm4_merge = mdm4_merge.dropna(subset=[\"exon6_inclusion\", \"TP53_hs\"])\n",
    "\n",
    "mdm4_merge[\"exon6_included\"] = mdm4_merge[\"exon6_inclusion\"] > 0.25\n",
    "\n",
    "\n",
    "def mdm4_tp53_category(row):\n",
    "    exon6 = row[\"exon6_included\"]\n",
    "    tp53 = row[\"TP53_hs\"]\n",
    "\n",
    "    if tp53:\n",
    "        if exon6:\n",
    "            return 2\n",
    "        else:\n",
    "            return 3\n",
    "    else:\n",
    "        if exon6:\n",
    "            return 0\n",
    "        else:\n",
    "            return 1\n",
    "\n",
    "\n",
    "mdm4_merge[\"status\"] = mdm4_merge.apply(mdm4_tp53_category, axis=1)\n",
    "\n",
    "mdm4_merge = mdm4_merge.dropna(subset=[\"MDM4_avana\"])\n",
    "\n",
    "plt.figure(figsize=(4, 4))\n",
    "ax = plt.subplot(111)\n",
    "sns.boxplot(mdm4_merge[\"status\"],\n",
    "            mdm4_merge[\"MDM4_avana\"],\n",
    "            notch=True,\n",
    "            palette=sns.color_palette(\n",
    "                [\"#466CB3\", \"#61AC41\", \"#CD230E\", \"#EB6100\"])\n",
    "            )\n",
    "\n",
    "counts = Counter(mdm4_merge[\"status\"])\n",
    "\n",
    "ax.set_xticklabels([\n",
    "    \"p53 WT\\nMDM4-FL\\n(\"+str(counts[0])+\")\",\n",
    "    \"p53 WT\\nMDM4-S\\n(\"+str(counts[1])+\")\",\n",
    "    \"p53 mut\\nMDM4-FL\\n(\"+str(counts[2])+\")\",\n",
    "    \"p53 mut\\nMDM4-S\\n(\"+str(counts[3])+\")\"])\n",
    "\n",
    "plt.xlabel(\"\")\n",
    "plt.ylabel(\"MDM4 dependency\")\n",
    "\n",
    "ax.spines[\"top\"].set_visible(False)\n",
    "ax.spines[\"right\"].set_visible(False)\n",
    "\n",
    "plt.savefig(\"../plots/figure4-d.pdf\", bbox_inches=\"tight\", background=\"transparent\")"
   ]
  },
  {
   "cell_type": "markdown",
   "metadata": {},
   "source": [
    "# RPL22L1 discovery\n",
    "\n",
    "One of the interesting discoveries that we made regarding MDM4 exon 6 inclusion was that it was not only an important marker of MDM4 sensitivity, but also that it is closely tied to the expression levels of one particular gene: RPL22L1. Here we show how RPL22L1 emerges as a top gene expression predictor of MDM4 exon 6 inclusion levels by correlating MDM4 exon 6 inclusion levels with the expression levels of every single profiled gene.\n",
    "\n",
    "The end result is the volcano plot at the end of the section, which reproduces Figure 4f."
   ]
  },
  {
   "cell_type": "code",
   "execution_count": null,
   "metadata": {
    "ExecuteTime": {
     "end_time": "2019-12-09T06:06:22.377622Z",
     "start_time": "2019-12-09T05:59:41.780814Z"
    }
   },
   "outputs": [],
   "source": [
    "exon6_correlates = pd.DataFrame()\n",
    "exon6_correlates[\"gene\"] = ccle_genex.columns\n",
    "\n",
    "\n",
    "def correlate_exon6(row):\n",
    "    gene = row[\"gene\"]\n",
    "\n",
    "    row[\"r\"], row[\"pval\"] = correlate_nan(ccle_genex[gene],\n",
    "                                          exonusage[\"MDM4_3p_chr1_204506558_204506625_ENSG00000198625.8\"],\n",
    "                                          method=\"spearman\"\n",
    "                                          )\n",
    "\n",
    "    return row\n",
    "\n",
    "\n",
    "exon6_correlates = exon6_correlates.progress_apply(correlate_exon6, axis=1)"
   ]
  },
  {
   "cell_type": "code",
   "execution_count": null,
   "metadata": {
    "ExecuteTime": {
     "end_time": "2019-12-09T06:09:37.641774Z",
     "start_time": "2019-12-09T06:09:37.622726Z"
    }
   },
   "outputs": [],
   "source": [
    "exon6_correlates = exon6_correlates.dropna()\n",
    "exon6_correlates[\"qval\"] = multipletests(\n",
    "    exon6_correlates[\"pval\"], alpha=0.01, method=\"fdr_bh\")[1]"
   ]
  },
  {
   "cell_type": "code",
   "execution_count": null,
   "metadata": {
    "ExecuteTime": {
     "end_time": "2019-12-09T06:09:43.399700Z",
     "start_time": "2019-12-09T06:09:41.430856Z"
    }
   },
   "outputs": [],
   "source": [
    "plt.figure(figsize=(3, 4))\n",
    "\n",
    "ax = plt.subplot(111)\n",
    "\n",
    "x = exon6_correlates[\"r\"]\n",
    "y = -np.log10(exon6_correlates[\"qval\"])\n",
    "\n",
    "significants = y > 50\n",
    "\n",
    "labels = np.array(exon6_correlates[\"gene\"].str.split(\"_\").str[0])\n",
    "\n",
    "ax.scatter(x, y, c=\"black\", rasterized=True, s=12)\n",
    "\n",
    "for x_pos, y_pos, label in zip(x[significants], y[significants], labels[significants]):\n",
    "\n",
    "    plt.scatter(x_pos, y_pos, c=\"red\", s=16, rasterized=True)\n",
    "\n",
    "    if x_pos > 0:\n",
    "        plt.text(x_pos-0.01, y_pos-1, label, ha='right', va='top')\n",
    "    else:\n",
    "        plt.text(x_pos+0.025, y_pos-1, label, ha='left', va='top')\n",
    "\n",
    "ax.spines[\"top\"].set_visible(False)\n",
    "ax.spines[\"right\"].set_visible(False)\n",
    "\n",
    "plt.xlabel(\"Spearman correlation\")\n",
    "plt.ylabel(\"-log10(q value)\")\n",
    "\n",
    "plt.savefig(\"../plots/figure4-f.pdf\", dpi=512, bbox_inches=\"tight\")"
   ]
  },
  {
   "cell_type": "markdown",
   "metadata": {},
   "source": [
    "# RPL22L1 exons\n",
    "\n",
    "To see if MDM4 exon 6 is a particular splicing target of RPL22L1, we can correlate RPL22L1 expression levels with the inclusion levels of all profiled exons. Here we find that RPL22L1 expression is in fact most highly correlated with the inclusion levels of one of its own exons in addition to MDM4. \n",
    "\n",
    "The end result is a similar volcano plot that reproduces Figure 4g."
   ]
  },
  {
   "cell_type": "code",
   "execution_count": null,
   "metadata": {
    "ExecuteTime": {
     "end_time": "2019-12-09T06:16:38.663702Z",
     "start_time": "2019-12-09T06:09:48.723277Z"
    }
   },
   "outputs": [],
   "source": [
    "rpl22l1_correlates = pd.DataFrame()\n",
    "rpl22l1_correlates[\"exon\"] = exonusage.columns\n",
    "\n",
    "\n",
    "def correlate_rpl22l1(row):\n",
    "    exon = row[\"exon\"]\n",
    "\n",
    "    row[\"r\"], row[\"pval\"] = correlate_nan(ccle_genex[\"RPL22L1_ENSG00000163584.13\"],\n",
    "                                          exonusage[exon],\n",
    "                                          method=\"spearman\"\n",
    "                                          )\n",
    "\n",
    "    return row\n",
    "\n",
    "\n",
    "rpl22l1_correlates = rpl22l1_correlates.progress_apply(\n",
    "    correlate_rpl22l1, axis=1)"
   ]
  },
  {
   "cell_type": "code",
   "execution_count": null,
   "metadata": {
    "ExecuteTime": {
     "end_time": "2019-12-09T06:16:43.393923Z",
     "start_time": "2019-12-09T06:16:43.372633Z"
    }
   },
   "outputs": [],
   "source": [
    "rpl22l1_correlates = rpl22l1_correlates.dropna()\n",
    "rpl22l1_correlates[\"qval\"] = multipletests(\n",
    "    rpl22l1_correlates[\"pval\"], alpha=0.01, method=\"fdr_bh\")[1]"
   ]
  },
  {
   "cell_type": "code",
   "execution_count": null,
   "metadata": {
    "ExecuteTime": {
     "end_time": "2019-12-09T06:17:09.873389Z",
     "start_time": "2019-12-09T06:17:07.474888Z"
    }
   },
   "outputs": [],
   "source": [
    "plt.figure(figsize=(3, 4))\n",
    "\n",
    "ax = plt.subplot(111)\n",
    "\n",
    "x = rpl22l1_correlates[\"r\"]\n",
    "y = -np.log10(rpl22l1_correlates[\"qval\"])\n",
    "\n",
    "significants = y > 50\n",
    "\n",
    "labels = np.array(rpl22l1_correlates[\"exon\"].str.split(\"_\").str[0])\n",
    "\n",
    "ax.scatter(x, y, c=\"black\", rasterized=True, s=12)\n",
    "\n",
    "for x_pos, y_pos, label in zip(x[significants], y[significants], labels[significants]):\n",
    "    plt.scatter(x_pos, y_pos, c=\"red\", s=16)\n",
    "    if x_pos > 0:\n",
    "        plt.text(x_pos-0.01, y_pos-1, label, ha='right', va='top')\n",
    "    else:\n",
    "        plt.text(x_pos+0.025, y_pos-1, label, ha='left', va='top')\n",
    "\n",
    "ax.spines[\"top\"].set_visible(False)\n",
    "ax.spines[\"right\"].set_visible(False)\n",
    "\n",
    "plt.xlabel(\"Spearman correlation\")\n",
    "plt.ylabel(\"-log10(q value)\")\n",
    "\n",
    "plt.savefig(\"../plots/figure4-g.pdf\", dpi=512, bbox_inches=\"tight\")"
   ]
  },
  {
   "cell_type": "markdown",
   "metadata": {},
   "source": [
    "# RPL22L1 and RPL22\n",
    "\n",
    "We actually know from previous research that RPL22L1 becomes overexpressed in cancer cells because its paralog, RPL22, becomes inactivated due to nonsense mutations and copy number deletions. Here we show both RPL22L1 expression and MDM4 exon 6 inclusion in the context of RPL22 mutations/copy number, which reproduces Figure 4h and 4i."
   ]
  },
  {
   "cell_type": "code",
   "execution_count": null,
   "metadata": {
    "ExecuteTime": {
     "end_time": "2019-12-09T06:17:20.197487Z",
     "start_time": "2019-12-09T06:17:20.154018Z"
    }
   },
   "outputs": [],
   "source": [
    "rpl22_merge = pd.concat([\n",
    "    ccle_genex[\"RPL22L1_ENSG00000163584.13\"].rename(\"RPL22L1_expression\"),\n",
    "    copynumber[\"RPL22_6146\"].rename(\"RPL22_copynumber\"),\n",
    "    damaging_muts[\"RPL22\"].rename(\"RPL22_damaging\"),\n",
    "    exonusage[\"MDM4_3p_chr1_204506558_204506625_ENSG00000198625.8\"].rename(\n",
    "        \"MDM4_exon6\")\n",
    "], axis=1, join=\"outer\", sort=True)\n",
    "\n",
    "rpl22_merge = rpl22_merge.dropna(subset=[\"RPL22_copynumber\", \"RPL22_damaging\"])\n",
    "\n",
    "\n",
    "def rpl22_status(row):\n",
    "    rpl22_copynumber = row[\"RPL22_copynumber\"] < 0.75\n",
    "    rpl22_mut = row[\"RPL22_damaging\"]\n",
    "\n",
    "    if not rpl22_copynumber and not rpl22_mut:\n",
    "        return 0\n",
    "    if rpl22_copynumber:\n",
    "        return 1\n",
    "    if rpl22_mut:\n",
    "        return 2\n",
    "\n",
    "\n",
    "rpl22_merge[\"status\"] = rpl22_merge.apply(rpl22_status, axis=1)"
   ]
  },
  {
   "cell_type": "code",
   "execution_count": null,
   "metadata": {
    "ExecuteTime": {
     "end_time": "2019-12-09T06:17:23.488327Z",
     "start_time": "2019-12-09T06:17:23.218734Z"
    }
   },
   "outputs": [],
   "source": [
    "rpl22_rpl22l1_merge = rpl22_merge.dropna(subset=[\"RPL22L1_expression\"])\n",
    "\n",
    "plt.figure(figsize=(4, 3))\n",
    "ax = plt.subplot(111)\n",
    "\n",
    "sns.boxplot(rpl22_rpl22l1_merge[\"status\"],\n",
    "            rpl22_rpl22l1_merge[\"RPL22L1_expression\"],\n",
    "            notch=True,\n",
    "            color=\"lightgrey\"\n",
    "            )\n",
    "\n",
    "counts = Counter(rpl22_rpl22l1_merge[\"status\"])\n",
    "\n",
    "ax.set_xticklabels([\n",
    "    \"RPL22 WT\\n(\"+str(counts[0])+\")\",\n",
    "    \"RPL22\\nCN loss\\n(\"+str(counts[1])+\")\",\n",
    "    \"RPL22\\ntrunc mut/indel\\n(\"+str(counts[2])+\")\"])\n",
    "\n",
    "plt.xlabel(\"\")\n",
    "plt.ylabel(\"RPL22L1 expression\")\n",
    "\n",
    "ax.spines[\"top\"].set_visible(False)\n",
    "ax.spines[\"right\"].set_visible(False)\n",
    "\n",
    "plt.savefig(\"../plots/figure4-h.pdf\", bbox_inches=\"tight\")"
   ]
  },
  {
   "cell_type": "code",
   "execution_count": null,
   "metadata": {
    "ExecuteTime": {
     "end_time": "2019-12-09T06:17:26.969037Z",
     "start_time": "2019-12-09T06:17:26.711884Z"
    }
   },
   "outputs": [],
   "source": [
    "rpl22_mdm4_merge = rpl22_merge.dropna(subset=[\"MDM4_exon6\"])\n",
    "\n",
    "plt.figure(figsize=(4, 3))\n",
    "ax = plt.subplot(111)\n",
    "\n",
    "sns.boxplot(rpl22_mdm4_merge[\"status\"],\n",
    "            rpl22_mdm4_merge[\"MDM4_exon6\"],\n",
    "            notch=True,\n",
    "            color=\"lightgrey\"\n",
    "            )\n",
    "\n",
    "counts = Counter(rpl22_mdm4_merge[\"status\"])\n",
    "\n",
    "ax.set_xticklabels([\n",
    "    \"RPL22 WT\\n(\"+str(counts[0])+\")\",\n",
    "    \"RPL22\\nCN loss\\n(\"+str(counts[1])+\")\",\n",
    "    \"RPL22\\ntrunc mut/indel\\n(\"+str(counts[2])+\")\"])\n",
    "\n",
    "plt.xlabel(\"\")\n",
    "plt.ylabel(\"MDM4 exon 6 inclusion\")\n",
    "\n",
    "ax.spines[\"top\"].set_visible(False)\n",
    "ax.spines[\"right\"].set_visible(False)\n",
    "\n",
    "plt.savefig(\"../plots/figure4-i.pdf\", bbox_inches=\"tight\")"
   ]
  },
  {
   "cell_type": "markdown",
   "metadata": {},
   "source": [
    "# RPL22L1 dependency\n",
    "\n",
    "Lastly, we confirm that overexpression of RPL22L1 induces a dependency on RPL22L1 itself. We can show this by plotting RPL22L1 expression against RPL22L1 dependency, and coloring each cell line by its p53 and RPL22 statuses."
   ]
  },
  {
   "cell_type": "code",
   "execution_count": null,
   "metadata": {
    "ExecuteTime": {
     "end_time": "2019-12-09T06:18:09.676100Z",
     "start_time": "2019-12-09T06:18:09.186162Z"
    }
   },
   "outputs": [],
   "source": [
    "all_merge = pd.concat([\n",
    "    ccle_genex[\"RPL22L1_ENSG00000163584.13\"].rename(\"RPL22L1_expression\"),\n",
    "    avana[\"RPL22L1_ENSG00000163584\"].rename(\"RPL22L1_dependency\"),\n",
    "    damaging_muts[\"RPL22\"].rename(\"RPL22_damaging\"),\n",
    "    hs_muts[\"TP53\"].rename(\"TP53_hs\").map(\n",
    "        lambda x: {0: \"TP53 WT\", 1: \"TP53 mut\"}[x])\n",
    "], axis=1, join=\"inner\", sort=True)\n",
    "\n",
    "plt.figure(figsize=(5, 4))\n",
    "ax = plt.subplot(111)\n",
    "\n",
    "rpl22_mut = all_merge[all_merge[\"RPL22_damaging\"] == 1]\n",
    "\n",
    "sns.scatterplot(rpl22_mut[\"RPL22L1_expression\"],\n",
    "                rpl22_mut[\"RPL22L1_dependency\"],\n",
    "                linewidth=4,\n",
    "                edgecolor=\"#62d2a2\"\n",
    "                )\n",
    "\n",
    "sns.scatterplot(all_merge[\"RPL22L1_expression\"],\n",
    "                all_merge[\"RPL22L1_dependency\"],\n",
    "                linewidth=0,\n",
    "                alpha=0.5,\n",
    "                hue=all_merge[\"TP53_hs\"],\n",
    "                palette=sns.color_palette([\"#3f72af\", \"#e23e57\"]),\n",
    "                legend=False\n",
    "                )\n",
    "\n",
    "ax.spines[\"top\"].set_visible(False)\n",
    "ax.spines[\"right\"].set_visible(False)\n",
    "\n",
    "plt.xlabel(\"RPL22L1 expression (log2(TPM))\")\n",
    "plt.ylabel(\"RPL22L1 dependency (CERES)\")\n",
    "\n",
    "legend_elements = [Line2D([0], [0], marker='o', color=\"white\", label='TP53 WT',\n",
    "                          markerfacecolor='#3f72af', markersize=8),\n",
    "                   Line2D([0], [0], marker='o', color=\"white\", label='TP53 mut',\n",
    "                          markerfacecolor='#e23e57', markersize=8),\n",
    "                   Line2D([0], [0], marker='o', color=\"white\", label='RPL22 mut',\n",
    "                          markerfacecolor='white', markeredgecolor=\"#62d2a2\", markeredgewidth=2, markersize=8), ]\n",
    "\n",
    "ax.legend(handles=legend_elements, loc='lower left', frameon=False)\n",
    "\n",
    "plt.ylim(-1.25, 0.25)\n",
    "\n",
    "plt.savefig(\"../plots/figure4-j.pdf\", bbox_inches=\"tight\")"
   ]
  }
 ],
 "metadata": {
  "kernelspec": {
   "display_name": "Python 3",
   "language": "python",
   "name": "python3"
  },
  "language_info": {
   "codemirror_mode": {
    "name": "ipython",
    "version": 3
   },
   "file_extension": ".py",
   "mimetype": "text/x-python",
   "name": "python",
   "nbconvert_exporter": "python",
   "pygments_lexer": "ipython3",
   "version": "3.7.4"
  },
  "toc": {
   "base_numbering": 1,
   "nav_menu": {},
   "number_sections": true,
   "sideBar": true,
   "skip_h1_title": false,
   "title_cell": "Table of Contents",
   "title_sidebar": "Contents",
   "toc_cell": false,
   "toc_position": {},
   "toc_section_display": true,
   "toc_window_display": true
  }
 },
 "nbformat": 4,
 "nbformat_minor": 2
}
