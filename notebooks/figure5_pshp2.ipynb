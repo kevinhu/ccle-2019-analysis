{
 "cells": [
  {
   "cell_type": "code",
   "execution_count": 1,
   "metadata": {
    "ExecuteTime": {
     "end_time": "2019-12-09T06:19:49.074759Z",
     "start_time": "2019-12-09T06:19:47.597358Z"
    }
   },
   "outputs": [
    {
     "name": "stderr",
     "output_type": "stream",
     "text": [
      "/Users/khu/anaconda3/envs/cenv/lib/python3.7/site-packages/tqdm/_tqdm.py:603: FutureWarning: The Panel class is removed from pandas. Accessing it from the top-level namespace will also be removed in the next version\n",
      "  from pandas import Panel\n"
     ]
    }
   ],
   "source": [
    "import pandas as pd\n",
    "import numpy as np\n",
    "import seaborn as sns\n",
    "\n",
    "import matplotlib as mpl\n",
    "from matplotlib import pyplot as plt\n",
    "\n",
    "from scipy.stats import zscore, pearsonr, spearmanr\n",
    "\n",
    "from collections import defaultdict, Counter\n",
    "\n",
    "from matplotlib import cm\n",
    "from adjustText import adjust_text\n",
    "\n",
    "from tqdm.auto import tqdm\n",
    "tqdm.pandas()"
   ]
  },
  {
   "cell_type": "markdown",
   "metadata": {},
   "source": [
    "# Summary\n",
    "\n",
    "This notebook describes how to reproduce the analysis in Figure 5 regarding the SHP2 protein. In particular, here we reproduce the analysis that led to discovery of phosphorylated SHP2 as the primary determinant of SHP2 sensitivity, as opposed to raw PTPN11 (the gene that encodes SHP2) expression."
   ]
  },
  {
   "cell_type": "markdown",
   "metadata": {},
   "source": [
    "# Load annotations"
   ]
  },
  {
   "cell_type": "code",
   "execution_count": 2,
   "metadata": {
    "ExecuteTime": {
     "end_time": "2019-12-09T06:19:54.529229Z",
     "start_time": "2019-12-09T06:19:51.555800Z"
    }
   },
   "outputs": [],
   "source": [
    "rppa = pd.read_hdf(\"../data/CCLE_RPPA_20181003.hdf\", key=\"rppa\")\n",
    "ccle_genex = pd.read_hdf(\n",
    "    \"../data/CCLE_RNAseq_rsem_genes_tpm_20180929.hdf\", key=\"ccle_genex\")\n",
    "\n",
    "avana = pd.read_hdf(\"../data/Achilles_gene_effect.hdf\", key=\"avana\")\n",
    "drive = pd.read_hdf(\"../data/D2_DRIVE_gene_dep_scores.hdf\", key=\"drive\")\n",
    "achilles = pd.read_hdf(\n",
    "    \"../data/D2_Achilles_gene_dep_scores.hdf\", key=\"achilles\")\n",
    "\n",
    "rppa_info = pd.read_excel(\n",
    "    \"../data/41586_2019_1186_MOESM17_ESM.xlsx\", sheet_name=\"RPPA_Ab_information\")"
   ]
  },
  {
   "cell_type": "markdown",
   "metadata": {},
   "source": [
    "The RPPA info document provides antibody to gene mappings for matching RPPA antibody IDs to gene IDs used in the dependency screens and gene expression data. Here we add these mapped gene names to the RPPA info DataFrame."
   ]
  },
  {
   "cell_type": "code",
   "execution_count": 3,
   "metadata": {
    "ExecuteTime": {
     "end_time": "2019-12-09T06:20:23.886073Z",
     "start_time": "2019-12-09T06:20:23.796372Z"
    }
   },
   "outputs": [],
   "source": [
    "avana_name_map = dict(zip([\"_\".join(x.split(\"_\")[:-1])\n",
    "                           for x in avana.columns], avana.columns))\n",
    "drive_name_map = dict(zip([\"_\".join(x.split(\"_\")[:-1])\n",
    "                           for x in drive.columns], drive.columns))\n",
    "achilles_name_map = dict(zip([\"_\".join(x.split(\"_\")[:-1])\n",
    "                              for x in achilles.columns], achilles.columns))\n",
    "gene_name_map = dict(zip([\"_\".join(x.split(\"_\")[:-1])\n",
    "                          for x in ccle_genex.columns], ccle_genex.columns))\n",
    "\n",
    "rppa_info[\"avana_gene\"] = rppa_info[\"Target_Genes\"].apply(\n",
    "    lambda x: avana_name_map.get(x, \"\"))\n",
    "rppa_info[\"drive_gene\"] = rppa_info[\"Target_Genes\"].apply(\n",
    "    lambda x: drive_name_map.get(x, \"\"))\n",
    "rppa_info[\"achilles_gene\"] = rppa_info[\"Target_Genes\"].apply(\n",
    "    lambda x: achilles_name_map.get(x, \"\"))\n",
    "rppa_info[\"gene\"] = rppa_info[\"Target_Genes\"].apply(\n",
    "    lambda x: gene_name_map.get(x, \"\"))"
   ]
  },
  {
   "cell_type": "markdown",
   "metadata": {},
   "source": [
    "We discovered pSHP2 as an interesting gene by looking for genes in which the relative abundances of the RPPA antibody targeting the encoded protein were a better predictor of the same gene's dependency than RNA expression values. \n",
    "\n",
    "For computing these correlations between protein levels, gene expression, and dependency scores we first define a helper function for getting the raw correlation values."
   ]
  },
  {
   "cell_type": "code",
   "execution_count": 4,
   "metadata": {
    "ExecuteTime": {
     "end_time": "2019-12-09T06:20:27.000570Z",
     "start_time": "2019-12-09T06:20:26.995131Z"
    }
   },
   "outputs": [],
   "source": [
    "def correlate_nan(x, y, method=\"pearson\"):\n",
    "\n",
    "    assert method == \"pearson\" or method == \"spearman\", \"Correlation method must be Pearson or Spearman!\"\n",
    "\n",
    "    x = x.dropna()\n",
    "    y = y.dropna()\n",
    "    x, y = x.align(y, join=\"inner\")\n",
    "\n",
    "    if len(x >= 25) and len(y >= 25):\n",
    "        if method == \"pearson\":\n",
    "            return pearsonr(x, y)\n",
    "        elif method == \"spearman\":\n",
    "            return spearmanr(x, y)\n",
    "\n",
    "    else:\n",
    "\n",
    "        return (0, 1)"
   ]
  },
  {
   "cell_type": "markdown",
   "metadata": {},
   "source": [
    "We also define a helper function to get the correlation value per each row of the DataFrame, or for each antibody."
   ]
  },
  {
   "cell_type": "code",
   "execution_count": 5,
   "metadata": {
    "ExecuteTime": {
     "end_time": "2019-12-09T06:20:29.939583Z",
     "start_time": "2019-12-09T06:20:29.931964Z"
    }
   },
   "outputs": [],
   "source": [
    "def dependency_correlates(row):\n",
    "\n",
    "    ab = row[\"Antibody_Name\"]\n",
    "    avana_gene = row[\"avana_gene\"]\n",
    "    drive_gene = row[\"drive_gene\"]\n",
    "    achilles_gene = row[\"achilles_gene\"]\n",
    "    gene = row[\"gene\"]\n",
    "\n",
    "    if avana_gene != \"\":\n",
    "        row[\"avana_protein_corr\"] = correlate_nan(\n",
    "            rppa[ab], avana[avana_gene])[0]\n",
    "    if drive_gene != \"\":\n",
    "        row[\"drive_protein_corr\"] = correlate_nan(\n",
    "            rppa[ab], drive[drive_gene])[0]\n",
    "    if achilles_gene != \"\":\n",
    "        row[\"achilles_protein_corr\"] = correlate_nan(\n",
    "            rppa[ab], achilles[achilles_gene])[0]\n",
    "\n",
    "    if gene != \"\":\n",
    "        if avana_gene != \"\":\n",
    "            row[\"avana_mrna_corr\"] = correlate_nan(\n",
    "                ccle_genex[gene], avana[avana_gene])[0]\n",
    "        if drive_gene != \"\":\n",
    "            row[\"drive_mrna_corr\"] = correlate_nan(\n",
    "                ccle_genex[gene], drive[drive_gene])[0]\n",
    "        if achilles_gene != \"\":\n",
    "            row[\"achilles_mrna_corr\"] = correlate_nan(\n",
    "                ccle_genex[gene], achilles[achilles_gene])[0]\n",
    "\n",
    "    return row"
   ]
  },
  {
   "cell_type": "code",
   "execution_count": 6,
   "metadata": {
    "ExecuteTime": {
     "end_time": "2019-12-09T06:20:39.043815Z",
     "start_time": "2019-12-09T06:20:34.380916Z"
    }
   },
   "outputs": [
    {
     "data": {
      "application/vnd.jupyter.widget-view+json": {
       "model_id": "8db3b219c566493aa46dd153f6f480c8",
       "version_major": 2,
       "version_minor": 0
      },
      "text/plain": [
       "HBox(children=(IntProgress(value=0, max=214), HTML(value='')))"
      ]
     },
     "metadata": {},
     "output_type": "display_data"
    },
    {
     "name": "stdout",
     "output_type": "stream",
     "text": [
      "\n"
     ]
    }
   ],
   "source": [
    "rppa_info = rppa_info.progress_apply(dependency_correlates, axis=1)"
   ]
  },
  {
   "cell_type": "markdown",
   "metadata": {},
   "source": [
    "To visualize the relationships between gene-based and protein-based predictability of dependencies, we can plot on the x-axis the association between the protein levels and the dependency, and on the y-axis the association between the gene expression levels and the same dependency. Most genes will fall on the diagonal as their protein levels are closely tied to their gene expression levels and vice-versa, but a few will show that the protein expression level is a better determinant of dependency."
   ]
  },
  {
   "cell_type": "code",
   "execution_count": 7,
   "metadata": {
    "ExecuteTime": {
     "end_time": "2019-12-09T06:20:41.020346Z",
     "start_time": "2019-12-09T06:20:41.011274Z"
    }
   },
   "outputs": [],
   "source": [
    "def plot_rna_protein(protein_corrs, rna_corrs, ax):\n",
    "\n",
    "    x = protein_corrs\n",
    "    y = rna_corrs\n",
    "    labels = np.array(rppa_info[\"Antibody_Name\"])\n",
    "    labels_mask = ((x-y) < -0.25) & (x < -0.1)\n",
    "\n",
    "    plt.axvline(x=0, linestyle=\"--\", color=\"black\", alpha=0.5)\n",
    "    plt.axhline(y=0, linestyle=\"--\", color=\"black\", alpha=0.5)\n",
    "\n",
    "    ax.scatter(x,\n",
    "               y,\n",
    "               linewidth=1,\n",
    "               edgecolor=\"black\"\n",
    "               )\n",
    "\n",
    "    texts = []\n",
    "\n",
    "    for x_pos, y_pos, label in zip(x[labels_mask],\n",
    "                                   y[labels_mask],\n",
    "                                   labels[labels_mask]):\n",
    "\n",
    "        plt.scatter(x_pos, y_pos, c=\"red\", s=16)\n",
    "\n",
    "        texts.append(plt.text(x_pos, y_pos, label.replace(\"_Caution\", \"\"),\n",
    "                              ha='center', va='center'))\n",
    "\n",
    "    adjust_text(texts, ha=\"right\")\n",
    "\n",
    "    ax.spines[\"top\"].set_visible(False)\n",
    "    ax.spines[\"right\"].set_visible(False)\n",
    "\n",
    "    xy_min = min(plt.xlim()[0], plt.ylim()[0])\n",
    "    xy_max = max(plt.xlim()[1], plt.ylim()[1])\n",
    "\n",
    "    plt.xlim(xy_min, xy_max)\n",
    "    plt.ylim(xy_min, xy_max)\n",
    "\n",
    "    plt.xlabel(\"Protein expression vs. dependency\")\n",
    "    plt.ylabel(\"RNA expression vs. dependency\")"
   ]
  },
  {
   "cell_type": "markdown",
   "metadata": {},
   "source": [
    "Here we see on the Achilles screening plot that the particular SHP2 variant with phosphorylation of tyrosine at position 542 (SHP-2_pY542) is closely associated with knockdown sensitivity to PTPN11. We also see that MDM4/MDMX shows up as well, in line with what we would expect from Figure 4."
   ]
  },
  {
   "cell_type": "code",
   "execution_count": null,
   "metadata": {
    "ExecuteTime": {
     "end_time": "2019-12-09T06:20:45.505992Z",
     "start_time": "2019-12-09T06:20:44.292349Z"
    }
   },
   "outputs": [],
   "source": [
    "plt.figure(figsize=(15, 4))\n",
    "\n",
    "plot_rna_protein(rppa_info[\"avana_protein_corr\"],\n",
    "                 rppa_info[\"avana_mrna_corr\"],\n",
    "                 plt.subplot(131))\n",
    "plt.title(\"Avana\")\n",
    "\n",
    "plot_rna_protein(rppa_info[\"drive_protein_corr\"],\n",
    "                 rppa_info[\"drive_mrna_corr\"],\n",
    "                 plt.subplot(132))\n",
    "plt.title(\"DRIVE\")\n",
    "\n",
    "plot_rna_protein(rppa_info[\"achilles_protein_corr\"],\n",
    "                 rppa_info[\"achilles_mrna_corr\"],\n",
    "                 plt.subplot(133))\n",
    "plt.title(\"Achilles\")\n",
    "\n",
    "plt.subplots_adjust(wspace=0.25)\n",
    "\n",
    "plt.savefig(\"../plots/figure5-a.pdf\", bbox_inches=\"tight\")"
   ]
  },
  {
   "cell_type": "markdown",
   "metadata": {},
   "source": [
    "If we plot the raw protein and mRNA levels for SHP2/PTPN11, we see a distinct association with cell lines with high levels of pSHP2 protein are highly sensitive to PTPN11 knockdown. On the other hand, we see no discernable relationship between PTPN11 mRNA expression levels and sensitivty to PTPN11 inactivation."
   ]
  },
  {
   "cell_type": "code",
   "execution_count": 9,
   "metadata": {
    "ExecuteTime": {
     "end_time": "2019-12-09T06:20:52.147650Z",
     "start_time": "2019-12-09T06:20:51.843746Z"
    }
   },
   "outputs": [
    {
     "data": {
      "image/png": "[encoded data removed]",
      "text/plain": [
       "<Figure size 648x288 with 2 Axes>"
      ]
     },
     "metadata": {
      "needs_background": "light"
     },
     "output_type": "display_data"
    }
   ],
   "source": [
    "plt.figure(figsize=(9, 4))\n",
    "\n",
    "ax = plt.subplot(121)\n",
    "sns.scatterplot(rppa[\"SHP-2_pY542_Caution\"],\n",
    "                avana[\"PTPN11_5781\"],\n",
    "                alpha=0.75,\n",
    "                linewidth=0\n",
    "                )\n",
    "ax.spines[\"top\"].set_visible(False)\n",
    "ax.spines[\"right\"].set_visible(False)\n",
    "plt.xlabel(\"SHP2.pY542 level\")\n",
    "plt.ylabel(\"PTPN11 dependency\")\n",
    "\n",
    "ax = plt.subplot(122)\n",
    "sns.scatterplot(ccle_genex[\"PTPN11_ENSG00000179295.11\"],\n",
    "                avana[\"PTPN11_5781\"],\n",
    "                alpha=0.75,\n",
    "                linewidth=0\n",
    "                )\n",
    "plt.xlabel(\"PTPN11 RNA expression\")\n",
    "plt.ylabel(\"PTPN11 dependency\")\n",
    "\n",
    "ax.spines[\"top\"].set_visible(False)\n",
    "ax.spines[\"right\"].set_visible(False)\n",
    "\n",
    "plt.subplots_adjust(wspace=0.25)"
   ]
  }
 ],
 "metadata": {
  "kernelspec": {
   "display_name": "Python 3",
   "language": "python",
   "name": "python3"
  },
  "language_info": {
   "codemirror_mode": {
    "name": "ipython",
    "version": 3
   },
   "file_extension": ".py",
   "mimetype": "text/x-python",
   "name": "python",
   "nbconvert_exporter": "python",
   "pygments_lexer": "ipython3",
   "version": "3.7.4"
  },
  "toc": {
   "base_numbering": 1,
   "nav_menu": {},
   "number_sections": true,
   "sideBar": true,
   "skip_h1_title": false,
   "title_cell": "Table of Contents",
   "title_sidebar": "Contents",
   "toc_cell": false,
   "toc_position": {},
   "toc_section_display": true,
   "toc_window_display": false
  }
 },
 "nbformat": 4,
 "nbformat_minor": 2
}
