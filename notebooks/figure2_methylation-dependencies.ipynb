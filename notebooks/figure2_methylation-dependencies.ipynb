{
 "cells": [
  {
   "cell_type": "code",
   "execution_count": 51,
   "metadata": {
    "ExecuteTime": {
     "end_time": "2019-10-18T23:20:27.279456Z",
     "start_time": "2019-10-18T23:20:27.264855Z"
    }
   },
   "outputs": [
    {
     "name": "stderr",
     "output_type": "stream",
     "text": [
      "/Users/khu/anaconda3/envs/cenv/lib/python3.7/site-packages/tqdm/_tqdm.py:603: FutureWarning: The Panel class is removed from pandas. Accessing it from the top-level namespace will also be removed in the next version\n",
      "  from pandas import Panel\n"
     ]
    }
   ],
   "source": [
    "import pandas as pd\n",
    "import numpy as np\n",
    "import seaborn as sns\n",
    "\n",
    "import matplotlib as mpl\n",
    "from matplotlib import pyplot as plt\n",
    "\n",
    "from scipy.stats import zscore, pearsonr\n",
    "\n",
    "from collections import defaultdict, Counter\n",
    "\n",
    "import scipy.spatial as sp\n",
    "import scipy.cluster.hierarchy as hc\n",
    "\n",
    "from matplotlib import cm\n",
    "from matplotlib.colors import ListedColormap, LinearSegmentedColormap\n",
    "\n",
    "from tqdm.auto import tqdm\n",
    "tqdm.pandas()"
   ]
  },
  {
   "cell_type": "code",
   "execution_count": 26,
   "metadata": {
    "ExecuteTime": {
     "end_time": "2019-10-18T22:54:04.321287Z",
     "start_time": "2019-10-18T22:54:02.745267Z"
    }
   },
   "outputs": [],
   "source": [
    "tss1kb_meth = pd.read_hdf(\"../data/CCLE_RRBS_TSS1kb_20181022.hdf\",key=\"tss1kb_meth\")\n",
    "ccle_genex = pd.read_hdf(\"../data/CCLE_RNAseq_rsem_genes_tpm_20180929.hdf\",key=\"ccle_genex\")\n",
    "\n",
    "avana = pd.read_hdf(\"../data/Achilles_gene_effect.hdf\",key=\"avana\")\n",
    "drive = pd.read_hdf(\"../data/D2_DRIVE_gene_dep_scores.hdf\",key=\"drive\")\n",
    "achilles = pd.read_hdf(\"../data/D2_Achilles_gene_dep_scores.hdf\",key=\"achilles\")"
   ]
  },
  {
   "cell_type": "markdown",
   "metadata": {},
   "source": [
    "# Methylation and mRNA expression"
   ]
  },
  {
   "cell_type": "code",
   "execution_count": 41,
   "metadata": {
    "ExecuteTime": {
     "end_time": "2019-10-18T23:14:07.809250Z",
     "start_time": "2019-10-18T23:14:07.697049Z"
    }
   },
   "outputs": [],
   "source": [
    "meth_genes = pd.DataFrame(index=tss1kb_meth.columns)\n",
    "meth_genes[\"gene_name\"] = meth_genes.index.map(lambda x: x.split(\"_\")[0])\n",
    "\n",
    "genex_genes = pd.DataFrame(index=ccle_genex.columns)\n",
    "genex_genes[\"gene_name\"] = genex_genes.index.map(lambda x: \"_\".join(x.split(\"_\")[:-1]))\n",
    "genex_genes[\"ensembl_id_v\"] = genex_genes.index.map(lambda x: x.split(\"_\")[-1])\n",
    "genex_genes[\"ensembl_id\"] = genex_genes[\"ensembl_id_v\"].apply(lambda x: x.split(\".\")[0])"
   ]
  },
  {
   "cell_type": "code",
   "execution_count": 52,
   "metadata": {
    "ExecuteTime": {
     "end_time": "2019-10-18T23:21:50.793225Z",
     "start_time": "2019-10-18T23:20:48.995941Z"
    }
   },
   "outputs": [
    {
     "data": {
      "application/vnd.jupyter.widget-view+json": {
       "model_id": "888c9cd2837540a38db6e9ed978da58e",
       "version_major": 2,
       "version_minor": 0
      },
      "text/plain": [
       "HBox(children=(IntProgress(value=0, max=12342), HTML(value='')))"
      ]
     },
     "metadata": {},
     "output_type": "display_data"
    },
    {
     "name": "stderr",
     "output_type": "stream",
     "text": [
      "/Users/khu/anaconda3/envs/cenv/lib/python3.7/site-packages/scipy/stats/stats.py:3399: PearsonRConstantInputWarning: An input array is constant; the correlation coefficent is not defined.\n",
      "  warnings.warn(PearsonRConstantInputWarning())\n"
     ]
    },
    {
     "name": "stdout",
     "output_type": "stream",
     "text": [
      "\n"
     ]
    }
   ],
   "source": [
    "genex_gene_map = dict(zip(genex_genes[\"gene_name\"], genex_genes.index))\n",
    "\n",
    "meth_matched = meth_genes.copy()\n",
    "\n",
    "meth_matched[\"genex_id\"] = meth_matched[\"gene_name\"].apply(lambda x: genex_gene_map.get(x, \"\"))\n",
    "\n",
    "meth_matched = meth_matched[meth_matched[\"genex_id\"]!=\"\"]\n",
    "\n",
    "def meth_genex_correlate(row):\n",
    "    meth_name = row.name\n",
    "    genex_name = row[\"genex_id\"]\n",
    "    \n",
    "    meth = tss1kb_meth[meth_name].dropna()\n",
    "    genex = ccle_genex[genex_name].dropna()\n",
    "    \n",
    "    meth, genex = meth.align(genex, axis=0, join=\"inner\")\n",
    "    \n",
    "    r, pval = pearsonr(meth, genex)\n",
    "    \n",
    "    row[\"corr\"] = r\n",
    "    row[\"pval\"] = pval\n",
    "    row[\"n\"] = len(meth)\n",
    "    \n",
    "    return row\n",
    "\n",
    "meth_matched = meth_matched.progress_apply(meth_genex_correlate, axis=1)\n",
    "meth_matched = meth_matched.dropna()"
   ]
  },
  {
   "cell_type": "code",
   "execution_count": 65,
   "metadata": {
    "ExecuteTime": {
     "end_time": "2019-10-18T23:24:32.086690Z",
     "start_time": "2019-10-18T23:24:31.826539Z"
    }
   },
   "outputs": [
    {
     "data": {
      "text/plain": [
       "<matplotlib.lines.Line2D at 0x1a31edee90>"
      ]
     },
     "execution_count": 65,
     "metadata": {},
     "output_type": "execute_result"
    },
    {
     "data": {
      "image/png": "[encoded data removed]",
      "text/plain": [
       "<Figure size 432x288 with 1 Axes>"
      ]
     },
     "metadata": {
      "needs_background": "light"
     },
     "output_type": "display_data"
    }
   ],
   "source": [
    "ax = plt.subplot(111)\n",
    "\n",
    "sns.distplot(meth_matched[\"corr\"],kde=False)\n",
    "plt.xlabel(\"Methylation vs. expression correlation\")\n",
    "\n",
    "ax.spines[\"top\"].set_visible(False)\n",
    "ax.spines[\"right\"].set_visible(False)\n",
    "\n",
    "plt.ylabel(\"Frequency\")\n",
    "plt.xlim(-1,1)\n",
    "\n",
    "plt.axvline(0,linestyle=\"--\",color=\"black\")"
   ]
  },
  {
   "cell_type": "markdown",
   "metadata": {
    "ExecuteTime": {
     "end_time": "2019-10-18T23:15:25.734217Z",
     "start_time": "2019-10-18T23:15:25.731803Z"
    }
   },
   "source": [
    "# Methylation and dependency"
   ]
  },
  {
   "cell_type": "code",
   "execution_count": 24,
   "metadata": {
    "ExecuteTime": {
     "end_time": "2019-10-18T22:54:00.863254Z",
     "start_time": "2019-10-18T22:53:52.100740Z"
    }
   },
   "outputs": [],
   "source": [
    "string = pd.read_csv(\"../data/9606.protein.links.v11.0.txt.gz\",sep=\" \")\n",
    "string = string[string[\"combined_score\"]>=800]\n",
    "\n",
    "string[\"protein1_ensembl\"] = string[\"protein1\"].apply(lambda x: x[5:])\n",
    "string[\"protein2_ensembl\"] = string[\"protein2\"].apply(lambda x: x[5:])\n"
   ]
  },
  {
   "cell_type": "code",
   "execution_count": 25,
   "metadata": {
    "ExecuteTime": {
     "end_time": "2019-10-18T22:54:02.742497Z",
     "start_time": "2019-10-18T22:54:00.865425Z"
    }
   },
   "outputs": [],
   "source": [
    "ensembl_gene_protein = pd.read_csv(\"../data/ensembl_gene_protein.txt\",sep=\"\\t\")\n",
    "ensembl_gene_protein = ensembl_gene_protein.dropna(subset=[\"Protein stable ID\",\"NCBI gene ID\"])\n",
    "ensembl_gene_protein[\"NCBI gene ID\"] = ensembl_gene_protein[\"NCBI gene ID\"].astype(int).astype(str)\n",
    "\n",
    "protein_gene_map = dict(zip(ensembl_gene_protein[\"Protein stable ID\"],ensembl_gene_protein[\"Gene stable ID\"]))\n",
    "\n",
    "string[\"gene1_ensembl\"]  = string[\"protein1_ensembl\"].apply(lambda x: protein_gene_map.get(x,np.nan))\n",
    "string[\"gene2_ensembl\"]  = string[\"protein2_ensembl\"].apply(lambda x: protein_gene_map.get(x,np.nan))\n",
    "\n",
    "string = string.dropna()"
   ]
  },
  {
   "cell_type": "code",
   "execution_count": 27,
   "metadata": {
    "ExecuteTime": {
     "end_time": "2019-10-18T22:54:04.363563Z",
     "start_time": "2019-10-18T22:54:04.323393Z"
    }
   },
   "outputs": [],
   "source": [
    "entrez_ensembl_map = dict(zip(ensembl_gene_protein[\"NCBI gene ID\"],ensembl_gene_protein[\"Gene stable ID\"]))"
   ]
  },
  {
   "cell_type": "code",
   "execution_count": null,
   "metadata": {},
   "outputs": [],
   "source": []
  },
  {
   "cell_type": "code",
   "execution_count": 31,
   "metadata": {
    "ExecuteTime": {
     "end_time": "2019-10-18T22:54:44.430666Z",
     "start_time": "2019-10-18T22:54:44.308601Z"
    }
   },
   "outputs": [],
   "source": [
    "genes_info = pd.DataFrame(index = ccle_genex.columns)\n",
    "\n",
    "genes_info[\"gene_name\"] = genes_info.index.map(lambda x: \"_\".join(x.split(\"_\")[:-1]))\n",
    "genes_info[\"ensembl_id_v\"] = genes_info.index.map(lambda x: x.split(\"_\")[-1])\n",
    "genes_info[\"ensembl_id\"] = genes_info[\"ensembl_id_v\"].apply(lambda x: x.split(\".\")[0])\n",
    "\n",
    "ensembl_name_map = dict(zip(genes_info[\"ensembl_id\"],genes_info[\"gene_name\"]))"
   ]
  },
  {
   "cell_type": "code",
   "execution_count": 34,
   "metadata": {
    "ExecuteTime": {
     "end_time": "2019-10-18T22:55:22.194024Z",
     "start_time": "2019-10-18T22:55:21.674971Z"
    }
   },
   "outputs": [],
   "source": [
    "string[\"gene1_name\"] = string[\"gene1_ensembl\"].apply(lambda x: ensembl_name_map.get(x,\"\"))\n",
    "string[\"gene2_name\"] = string[\"gene2_ensembl\"].apply(lambda x: ensembl_name_map.get(x,\"\"))\n",
    "string = string[(string[\"gene1_name\"]!=\"\")&(string[\"gene2_name\"]!=\"\")]"
   ]
  }
 ],
 "metadata": {
  "kernelspec": {
   "display_name": "Python 3",
   "language": "python",
   "name": "python3"
  },
  "language_info": {
   "codemirror_mode": {
    "name": "ipython",
    "version": 3
   },
   "file_extension": ".py",
   "mimetype": "text/x-python",
   "name": "python",
   "nbconvert_exporter": "python",
   "pygments_lexer": "ipython3",
   "version": "3.7.4"
  },
  "toc": {
   "base_numbering": 1,
   "nav_menu": {},
   "number_sections": true,
   "sideBar": true,
   "skip_h1_title": false,
   "title_cell": "Table of Contents",
   "title_sidebar": "Contents",
   "toc_cell": false,
   "toc_position": {},
   "toc_section_display": true,
   "toc_window_display": false
  }
 },
 "nbformat": 4,
 "nbformat_minor": 2
}
