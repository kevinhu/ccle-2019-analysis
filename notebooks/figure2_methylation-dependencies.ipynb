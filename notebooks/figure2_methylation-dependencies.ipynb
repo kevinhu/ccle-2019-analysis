{
 "cells": [
  {
   "cell_type": "code",
   "execution_count": 1,
   "metadata": {
    "ExecuteTime": {
     "end_time": "2019-09-21T23:53:17.674409Z",
     "start_time": "2019-09-21T23:53:16.904971Z"
    }
   },
   "outputs": [],
   "source": [
    "import pandas as pd\n",
    "import numpy as np\n",
    "import seaborn as sns\n",
    "\n",
    "import matplotlib as mpl\n",
    "from matplotlib import pyplot as plt\n",
    "\n",
    "from scipy.stats import zscore\n",
    "\n",
    "from collections import defaultdict, Counter\n",
    "\n",
    "import scipy.spatial as sp\n",
    "import scipy.cluster.hierarchy as hc\n",
    "\n",
    "from matplotlib import cm\n",
    "from matplotlib.colors import ListedColormap, LinearSegmentedColormap"
   ]
  },
  {
   "cell_type": "code",
   "execution_count": 9,
   "metadata": {
    "ExecuteTime": {
     "end_time": "2019-09-22T00:17:27.631151Z",
     "start_time": "2019-09-22T00:16:31.284982Z"
    }
   },
   "outputs": [
    {
     "name": "stderr",
     "output_type": "stream",
     "text": [
      "/Users/khu/anaconda3/envs/cenv/lib/python3.7/site-packages/ipykernel_launcher.py:1: ParserWarning: Falling back to the 'python' engine because the 'c' engine does not support regex separators (separators > 1 char and different from '\\s+' are interpreted as regex); you can avoid this warning by specifying engine='python'.\n",
      "  \"\"\"Entry point for launching an IPython kernel.\n"
     ]
    }
   ],
   "source": [
    "string = pd.read_csv(\"../data/9606.protein.links.v11.0.txt.gz\",sep=\"\\s\")\n",
    "string = string[string[\"combined_score\"]>=800]\n",
    "\n",
    "string[\"protein1_ensembl\"] = string[\"protein1\"].apply(lambda x: x[5:])\n",
    "string[\"protein2_ensembl\"] = string[\"protein2\"].apply(lambda x: x[5:])\n"
   ]
  },
  {
   "cell_type": "code",
   "execution_count": 18,
   "metadata": {
    "ExecuteTime": {
     "end_time": "2019-09-22T00:20:02.645973Z",
     "start_time": "2019-09-22T00:20:02.047683Z"
    }
   },
   "outputs": [],
   "source": [
    "ensembl_gene_protein = pd.read_csv(\"../data/ensembl_gene_protein.txt\",sep=\"\\t\")\n",
    "ensembl_gene_protein = ensembl_gene_protein.dropna(subset=[\"Protein stable ID\"])\n",
    "\n",
    "protein_gene_map = dict(zip(ensembl_gene_protein[\"Protein stable ID\"],ensembl_gene_protein[\"Gene stable ID\"]))\n",
    "\n",
    "string[\"protein1_gene\"]  = string[\"protein1_ensembl\"].apply(lambda x: protein_gene_map.get(x,np.nan))\n",
    "string[\"protein2_gene\"]  = string[\"protein2_ensembl\"].apply(lambda x: protein_gene_map.get(x,np.nan))\n",
    "\n",
    "string = string.dropna()"
   ]
  },
  {
   "cell_type": "code",
   "execution_count": null,
   "metadata": {},
   "outputs": [],
   "source": []
  },
  {
   "cell_type": "code",
   "execution_count": 28,
   "metadata": {
    "ExecuteTime": {
     "end_time": "2019-09-22T00:23:07.516064Z",
     "start_time": "2019-09-22T00:23:06.649915Z"
    }
   },
   "outputs": [],
   "source": [
    "tss1kb_meth = pd.read_hdf(\"../data/CCLE_RRBS_TSS1kb_20181022.hdf\",key=\"tss1kb_meth\")\n",
    "ccle_genex = pd.read_hdf(\"../data/CCLE_RNAseq_rsem_genes_tpm_20180929.hdf\",key=\"ccle_genex\")\n",
    "\n"
   ]
  }
 ],
 "metadata": {
  "kernelspec": {
   "display_name": "Python 3",
   "language": "python",
   "name": "python3"
  },
  "language_info": {
   "codemirror_mode": {
    "name": "ipython",
    "version": 3
   },
   "file_extension": ".py",
   "mimetype": "text/x-python",
   "name": "python",
   "nbconvert_exporter": "python",
   "pygments_lexer": "ipython3",
   "version": "3.7.4"
  },
  "toc": {
   "base_numbering": 1,
   "nav_menu": {},
   "number_sections": true,
   "sideBar": true,
   "skip_h1_title": false,
   "title_cell": "Table of Contents",
   "title_sidebar": "Contents",
   "toc_cell": false,
   "toc_position": {},
   "toc_section_display": true,
   "toc_window_display": false
  }
 },
 "nbformat": 4,
 "nbformat_minor": 2
}
