{
 "cells": [
  {
   "cell_type": "code",
   "execution_count": null,
   "metadata": {
    "ExecuteTime": {
     "end_time": "2019-12-09T04:38:47.652358Z",
     "start_time": "2019-12-09T04:38:46.153386Z"
    }
   },
   "outputs": [],
   "source": [
    "import pandas as pd\n",
    "import numpy as np\n",
    "import seaborn as sns\n",
    "\n",
    "import matplotlib as mpl\n",
    "from matplotlib import pyplot as plt\n",
    "\n",
    "from scipy.stats import zscore, pearsonr\n",
    "from statsmodels.stats.multitest import multipletests\n",
    "\n",
    "from collections import defaultdict, Counter\n",
    "\n",
    "import scipy.spatial as sp\n",
    "import scipy.cluster.hierarchy as hc\n",
    "\n",
    "from matplotlib import cm\n",
    "from matplotlib.colors import ListedColormap, LinearSegmentedColormap\n",
    "\n",
    "from tqdm.auto import tqdm\n",
    "tqdm.pandas()"
   ]
  },
  {
   "cell_type": "markdown",
   "metadata": {},
   "source": [
    "# Summary\n",
    "\n",
    "This notebook describes how to roughly reproduce the analysis and results of Figure 2 and some associated supplemental figures, which center around the addition of genome-wide methylation data."
   ]
  },
  {
   "cell_type": "markdown",
   "metadata": {},
   "source": [
    "# Load annotations"
   ]
  },
  {
   "cell_type": "markdown",
   "metadata": {},
   "source": [
    "## Characterization sets"
   ]
  },
  {
   "cell_type": "code",
   "execution_count": null,
   "metadata": {
    "ExecuteTime": {
     "end_time": "2019-12-09T04:38:50.952292Z",
     "start_time": "2019-12-09T04:38:48.692375Z"
    }
   },
   "outputs": [],
   "source": [
    "tss1kb_meth = pd.read_hdf(\"../data/CCLE_RRBS_TSS1kb_20181022.hdf\",key=\"tss1kb_meth\")\n",
    "tssclust_meth = pd.read_hdf(\"../data/CCLE_RRBS_tss_CpG_clusters_20181022.hdf\",key=\"tssclust_meth\")\n",
    "ccle_genex = pd.read_hdf(\"../data/CCLE_RNAseq_rsem_genes_tpm_20180929.hdf\",key=\"ccle_genex\")\n",
    "\n",
    "avana = pd.read_hdf(\"../data/Achilles_gene_effect.hdf\",key=\"avana\")\n",
    "drive = pd.read_hdf(\"../data/D2_DRIVE_gene_dep_scores.hdf\",key=\"drive\")\n",
    "achilles = pd.read_hdf(\"../data/D2_Achilles_gene_dep_scores.hdf\",key=\"achilles\")\n",
    "\n",
    "avana.columns = [\"_\".join(x.split(\"_\")[:-1]) for x in avana.columns]\n",
    "drive.columns = [\"_\".join(x.split(\"_\")[:-1]) for x in drive.columns]\n",
    "achilles.columns = [\"_\".join(x.split(\"_\")[:-1]) for x in achilles.columns]"
   ]
  },
  {
   "cell_type": "markdown",
   "metadata": {},
   "source": [
    "## Cell line subtypes"
   ]
  },
  {
   "cell_type": "code",
   "execution_count": null,
   "metadata": {
    "ExecuteTime": {
     "end_time": "2019-12-09T04:38:51.583560Z",
     "start_time": "2019-12-09T04:38:50.954697Z"
    }
   },
   "outputs": [],
   "source": [
    "cell_line_annotations = pd.read_excel(\"../data/41586_2019_1186_MOESM4_ESM.xlsx\",\n",
    "                                      sheet_name=\"Cell Line Annotations\")\n",
    "\n",
    "\n",
    "subtypes = cell_line_annotations[[\"depMapID\",\"type_refined\"]].set_index(\"depMapID\")\n",
    "subtypes = subtypes[\"type_refined\"]\n",
    "subtypes = subtypes.dropna()\n",
    "subtypes = subtypes.apply(lambda x: x.capitalize().replace(\"_\",\" \")) # preformatting\n",
    "\n",
    "# rename subtypes to display\n",
    "rename_map = {\"T-cell lymphoma other\":\"Other T-cell lymphoma\",\n",
    "              \"Aml\":\"AML\",\n",
    "              \"Ewings sarcoma\": \"Ewing's sarcoma\",\n",
    "              \"Fibroblast like\":\"Fibroblast-like\",\n",
    "              \"Lung nsc\":\"Lunc, NSC\",\n",
    "              \"Lymphoma hodgkin\":\"Hodgkin's lymphoma\",\n",
    "              \"Lymphoma dlbcl\":\"DLBCL\",\n",
    "              \"T-cell all\":\"T-cell ALL\",\n",
    "              \"B-cell all\":\"B-cell ALL\",\n",
    "              \"Cml\":\"CML\",\n",
    "              \"B-cell lymphoma other\":\"Other B-cell lymphoma\",\n",
    "              \"Leukemia other\":\"Other leukemia\",\n",
    "              \"Lymphoma burkitt\":\"Burkitt's lymphoma\"\n",
    "             }\n",
    "\n",
    "subtypes = subtypes.apply(lambda x:rename_map.get(x,x))"
   ]
  },
  {
   "cell_type": "markdown",
   "metadata": {},
   "source": [
    "# Methylation and mRNA expression"
   ]
  },
  {
   "cell_type": "markdown",
   "metadata": {},
   "source": [
    "## Match methylation loci and genes"
   ]
  },
  {
   "cell_type": "code",
   "execution_count": null,
   "metadata": {
    "ExecuteTime": {
     "end_time": "2019-12-09T04:38:53.048196Z",
     "start_time": "2019-12-09T04:38:52.946065Z"
    }
   },
   "outputs": [],
   "source": [
    "meth_genes = pd.DataFrame(index=tssclust_meth.columns)\n",
    "meth_genes[\"gene_name\"] = meth_genes.index.map(lambda x: x.split(\"_\")[0])\n",
    "\n",
    "genex_genes = pd.DataFrame(index=ccle_genex.columns)\n",
    "genex_genes[\"gene_name\"] = genex_genes.index.map(lambda x: \"_\".join(x.split(\"_\")[:-1]))\n",
    "genex_genes[\"ensembl_id_v\"] = genex_genes.index.map(lambda x: x.split(\"_\")[-1])\n",
    "genex_genes[\"ensembl_id\"] = genex_genes[\"ensembl_id_v\"].apply(lambda x: x.split(\".\")[0])"
   ]
  },
  {
   "cell_type": "markdown",
   "metadata": {},
   "source": [
    "## Compute methylation-expression correlations"
   ]
  },
  {
   "cell_type": "code",
   "execution_count": null,
   "metadata": {
    "ExecuteTime": {
     "end_time": "2019-12-09T04:42:28.659683Z",
     "start_time": "2019-12-09T04:38:54.506556Z"
    }
   },
   "outputs": [],
   "source": [
    "genex_gene_map = dict(zip(genex_genes[\"gene_name\"], genex_genes.index))\n",
    "\n",
    "meth_matched = meth_genes.copy()\n",
    "\n",
    "meth_matched[\"genex_id\"] = meth_matched[\"gene_name\"].apply(lambda x: genex_gene_map.get(x, \"\"))\n",
    "\n",
    "meth_matched = meth_matched[meth_matched[\"genex_id\"]!=\"\"]\n",
    "\n",
    "def meth_genex_correlate(row):\n",
    "    meth_name = row.name\n",
    "    genex_name = row[\"genex_id\"]\n",
    "    \n",
    "    meth = tssclust_meth[meth_name].dropna()\n",
    "    genex = ccle_genex[genex_name].dropna()\n",
    "    \n",
    "    meth, genex = meth.align(genex, axis=0, join=\"inner\")\n",
    "    \n",
    "    r, pval = pearsonr(meth, genex)\n",
    "    \n",
    "    row[\"corr\"] = r\n",
    "    row[\"pval\"] = pval\n",
    "    row[\"n\"] = len(meth)\n",
    "    \n",
    "    return row\n",
    "\n",
    "meth_matched = meth_matched.progress_apply(meth_genex_correlate, axis=1)\n",
    "meth_matched = meth_matched.dropna()"
   ]
  },
  {
   "cell_type": "markdown",
   "metadata": {},
   "source": [
    "## Plot associations"
   ]
  },
  {
   "cell_type": "code",
   "execution_count": null,
   "metadata": {
    "ExecuteTime": {
     "end_time": "2019-12-09T04:42:28.937721Z",
     "start_time": "2019-12-09T04:42:28.661519Z"
    }
   },
   "outputs": [],
   "source": [
    "ax = plt.subplot(111)\n",
    "\n",
    "sns.distplot(meth_matched[\"corr\"],kde=False)\n",
    "plt.xlabel(\"Methylation vs. expression correlation\")\n",
    "\n",
    "ax.spines[\"top\"].set_visible(False)\n",
    "ax.spines[\"right\"].set_visible(False)\n",
    "\n",
    "plt.ylabel(\"Frequency\")\n",
    "plt.xlim(-1,1)\n",
    "\n",
    "plt.axvline(0,linestyle=\"--\",color=\"black\")"
   ]
  },
  {
   "cell_type": "markdown",
   "metadata": {},
   "source": [
    "## Select negative associations"
   ]
  },
  {
   "cell_type": "code",
   "execution_count": null,
   "metadata": {
    "ExecuteTime": {
     "end_time": "2019-12-09T04:42:28.946934Z",
     "start_time": "2019-12-09T04:42:28.940237Z"
    }
   },
   "outputs": [],
   "source": [
    "high_negative = meth_matched[meth_matched[\"corr\"]<-0.5].copy(deep=True)\n",
    "high_negative_genes = set(high_negative[\"gene_name\"])"
   ]
  },
  {
   "cell_type": "markdown",
   "metadata": {
    "ExecuteTime": {
     "end_time": "2019-10-18T23:15:25.734217Z",
     "start_time": "2019-10-18T23:15:25.731803Z"
    }
   },
   "source": [
    "# Methylation and dependency"
   ]
  },
  {
   "cell_type": "markdown",
   "metadata": {},
   "source": [
    "## Load STRING relationships"
   ]
  },
  {
   "cell_type": "code",
   "execution_count": null,
   "metadata": {
    "ExecuteTime": {
     "end_time": "2019-12-09T04:42:39.835782Z",
     "start_time": "2019-12-09T04:42:28.949163Z"
    }
   },
   "outputs": [],
   "source": [
    "string = pd.read_csv(\"../data/9606.protein.links.v11.0.txt.gz\",sep=\" \")\n",
    "string = string[string[\"combined_score\"]>=800]\n",
    "\n",
    "string[\"protein1_ensembl\"] = string[\"protein1\"].apply(lambda x: x[5:])\n",
    "string[\"protein2_ensembl\"] = string[\"protein2\"].apply(lambda x: x[5:])\n",
    "\n",
    "ensembl_gene_protein = pd.read_csv(\"../data/ensembl_gene_protein.txt\",sep=\"\\t\")\n",
    "ensembl_gene_protein = ensembl_gene_protein.dropna(subset=[\"Protein stable ID\",\"NCBI gene ID\"])\n",
    "ensembl_gene_protein[\"NCBI gene ID\"] = ensembl_gene_protein[\"NCBI gene ID\"].astype(int).astype(str)\n",
    "\n",
    "protein_gene_map = dict(zip(ensembl_gene_protein[\"Protein stable ID\"],ensembl_gene_protein[\"Gene stable ID\"]))\n",
    "\n",
    "string[\"gene1_ensembl\"]  = string[\"protein1_ensembl\"].apply(lambda x: protein_gene_map.get(x,np.nan))\n",
    "string[\"gene2_ensembl\"]  = string[\"protein2_ensembl\"].apply(lambda x: protein_gene_map.get(x,np.nan))\n",
    "\n",
    "string = string.dropna()"
   ]
  },
  {
   "cell_type": "markdown",
   "metadata": {},
   "source": [
    "## Add ENSEMBL gene names"
   ]
  },
  {
   "cell_type": "code",
   "execution_count": null,
   "metadata": {
    "ExecuteTime": {
     "end_time": "2019-12-09T04:42:40.890610Z",
     "start_time": "2019-12-09T04:42:39.837670Z"
    }
   },
   "outputs": [],
   "source": [
    "ensembl_name_map = dict(zip(genex_genes[\"ensembl_id\"],genex_genes[\"gene_name\"]))\n",
    "entrez_ensembl_map = dict(zip(ensembl_gene_protein[\"NCBI gene ID\"],ensembl_gene_protein[\"Gene stable ID\"]))\n",
    "\n",
    "string[\"gene1_name\"] = string[\"gene1_ensembl\"].apply(lambda x: ensembl_name_map.get(x,\"\"))\n",
    "string[\"gene2_name\"] = string[\"gene2_ensembl\"].apply(lambda x: ensembl_name_map.get(x,\"\"))\n",
    "string = string[(string[\"gene1_name\"]!=\"\")&(string[\"gene2_name\"]!=\"\")]"
   ]
  },
  {
   "cell_type": "markdown",
   "metadata": {},
   "source": [
    "## Select genes with methylation-dependency correlation"
   ]
  },
  {
   "cell_type": "code",
   "execution_count": null,
   "metadata": {
    "ExecuteTime": {
     "end_time": "2019-12-09T05:09:04.260713Z",
     "start_time": "2019-12-09T05:09:03.866528Z"
    }
   },
   "outputs": [],
   "source": [
    "# since string contains pairs in both directions, only need to select for one\n",
    "gene1_valid = string[\"gene1_name\"].isin(high_negative_genes)\n",
    "\n",
    "string_select = string[gene1_valid].copy(deep=True)\n",
    "\n",
    "high_negative[\"locus\"] = list(high_negative.index)\n",
    "genes_meth_map = high_negative.groupby(\"gene_name\")[\"locus\"].apply(list)\n",
    "genes_meth_map = dict(zip(genes_meth_map.index, genes_meth_map))\n",
    "\n",
    "string_select[\"gene1_loci\"] = string_select[\"gene1_name\"].apply(lambda x: genes_meth_map[x])\n",
    "string_select = string_select.explode(\"gene1_loci\")"
   ]
  },
  {
   "cell_type": "code",
   "execution_count": null,
   "metadata": {
    "ExecuteTime": {
     "end_time": "2019-12-09T05:09:05.099861Z",
     "start_time": "2019-12-09T05:09:05.003656Z"
    }
   },
   "outputs": [],
   "source": [
    "avana_genes = set(avana.columns)\n",
    "drive_genes = set(drive.columns)\n",
    "achilles_genes = set(achilles.columns)\n",
    "\n",
    "string_select[\"in_avana\"] = string_select[\"gene2_name\"].apply(lambda x: x in avana_genes)\n",
    "string_select[\"in_drive\"] = string_select[\"gene2_name\"].apply(lambda x: x in drive_genes)\n",
    "string_select[\"in_achilles\"] = string_select[\"gene2_name\"].apply(lambda x: x in achilles_genes)\n",
    "\n",
    "string_select_avana = string_select[string_select[\"in_avana\"]]\n",
    "string_select_drive = string_select[string_select[\"in_drive\"]]\n",
    "string_select_achilles = string_select[string_select[\"in_achilles\"]]"
   ]
  },
  {
   "cell_type": "code",
   "execution_count": null,
   "metadata": {
    "ExecuteTime": {
     "end_time": "2019-12-09T05:29:09.872858Z",
     "start_time": "2019-12-09T05:09:05.939182Z"
    }
   },
   "outputs": [],
   "source": [
    "def meth_dependency_correlate(row, dependency_set):\n",
    "    meth_name = row[\"gene1_loci\"]\n",
    "    dependency_name = row[\"gene2_name\"]\n",
    "    \n",
    "    meth = tssclust_meth[meth_name].dropna()\n",
    "    dependency = dependency_set[dependency_name].dropna()\n",
    "    \n",
    "    meth, dependency = meth.align(dependency, axis=0, join=\"inner\")\n",
    "    \n",
    "    r, pval = pearsonr(meth, dependency)\n",
    "    \n",
    "    row[\"corr\"] = r\n",
    "    row[\"pval\"] = pval\n",
    "    row[\"n\"] = len(meth)\n",
    "    \n",
    "    return row\n",
    "\n",
    "string_select_avana = string_select_avana.progress_apply(meth_dependency_correlate, \n",
    "                                                         dependency_set=avana, axis=1)\n",
    "\n",
    "string_select_drive = string_select_drive.progress_apply(meth_dependency_correlate, \n",
    "                                                         dependency_set=drive, axis=1)\n",
    "\n",
    "string_select_achilles = string_select_achilles.progress_apply(meth_dependency_correlate, \n",
    "                                                         dependency_set=achilles, axis=1)"
   ]
  },
  {
   "cell_type": "code",
   "execution_count": null,
   "metadata": {
    "ExecuteTime": {
     "end_time": "2019-12-09T05:29:16.370963Z",
     "start_time": "2019-12-09T05:29:15.906450Z"
    }
   },
   "outputs": [],
   "source": [
    "def process_string_correlates(string_corrs):\n",
    "    string_corrs[\"qval\"] = multipletests(string_corrs[\"pval\"], alpha=0.01, method=\"fdr_bh\")[1]\n",
    "    string_corrs = string_corrs.reset_index()\n",
    "    \n",
    "    string_corrs[\"corr_id\"] = string_corrs[\"gene1_name\"]+\"-\"+string_corrs[\"gene2_name\"]\n",
    "    string_corrs = string_corrs.sort_values(by=\"pval\")\n",
    "    string_corrs = string_corrs.drop_duplicates(subset=[\"corr_id\"],keep=\"first\")\n",
    "    \n",
    "    string_corrs[\"pval_rank\"] = string_corrs[\"pval\"].rank()\n",
    "    \n",
    "    return string_corrs\n",
    "    \n",
    "string_select_avana = process_string_correlates(string_select_avana)\n",
    "string_select_drive = process_string_correlates(string_select_drive)\n",
    "string_select_achilles = process_string_correlates(string_select_achilles)"
   ]
  },
  {
   "cell_type": "code",
   "execution_count": 33,
   "metadata": {
    "ExecuteTime": {
     "end_time": "2019-12-09T05:31:07.199608Z",
     "start_time": "2019-12-09T05:31:07.171981Z"
    }
   },
   "outputs": [],
   "source": [
    "def plot_meth_dependency(corr_set, ax):\n",
    "\n",
    "    ax.scatter(corr_set[\"corr\"],\n",
    "               -np.log10(corr_set[\"qval\"]),\n",
    "               c=\"lightgray\",\n",
    "               rasterized=True\n",
    "               )\n",
    "\n",
    "    select_labels = corr_set[corr_set[\"pval_rank\"] <= 10]\n",
    "    for row_name in list(select_labels.index):\n",
    "        row = select_labels.loc[row_name]\n",
    "\n",
    "        ax.text(row[\"corr\"]+0.15, -np.log10(row[\"qval\"])+2,\n",
    "                row[\"gene1_name\"]+\" \",\n",
    "                ha=\"right\",\n",
    "                color=\"#3f72af\")\n",
    "        ax.text(row[\"corr\"]+0.15, -np.log10(row[\"qval\"])+2,\n",
    "                \"/\",\n",
    "                ha=\"center\",\n",
    "                color=\"grey\")\n",
    "        ax.text(row[\"corr\"]+0.15, -np.log10(row[\"qval\"])+2,\n",
    "                \" \"+row[\"gene2_name\"],\n",
    "                ha=\"left\",\n",
    "                color=\"#e23e57\")\n",
    "\n",
    "    ax.set_xlim(-1, 1)\n",
    "\n",
    "    ax.set_xticks([-1, -0.5, 0, 0.5, 1])\n",
    "\n",
    "    ymax = plt.ylim()[1]\n",
    "\n",
    "    ax.text(1, ymax/30,\n",
    "            \"Gene X methylation\",\n",
    "            ha=\"right\",\n",
    "            color=\"#3f72af\")\n",
    "    ax.text(1, ymax/30,\n",
    "            \"  /\",\n",
    "            ha=\"center\",\n",
    "            color=\"grey\")\n",
    "    ax.text(1, ymax/30+ymax/30,\n",
    "            \"\\nGene Y dependency\",\n",
    "            ha=\"right\",\n",
    "            va=\"top\",\n",
    "            color=\"#e23e57\")\n",
    "\n",
    "    ax.spines[\"top\"].set_visible(False)\n",
    "    ax.spines[\"right\"].set_visible(False)\n",
    "\n",
    "    ax.set_xlabel(\"Pearson correlation\")\n",
    "    ax.set_ylabel(\"$-log_{10}(q-value)$\")"
   ]
  },
  {
   "cell_type": "markdown",
   "metadata": {},
   "source": [
    "## Volcano plots"
   ]
  },
  {
   "cell_type": "code",
   "execution_count": null,
   "metadata": {
    "ExecuteTime": {
     "end_time": "2019-12-09T05:31:40.476498Z",
     "start_time": "2019-12-09T05:31:33.023033Z"
    }
   },
   "outputs": [],
   "source": [
    "plt.figure(figsize=(16,4))\n",
    "\n",
    "ax = plt.subplot(131)\n",
    "plot_meth_dependency(string_select_avana,ax)\n",
    "plt.title(\"Avana\")\n",
    "\n",
    "ax = plt.subplot(132)\n",
    "plot_meth_dependency(string_select_drive,ax)\n",
    "plt.title(\"DRIVE\")\n",
    "\n",
    "ax = plt.subplot(133)\n",
    "plot_meth_dependency(string_select_achilles,ax)\n",
    "plt.title(\"Achilles\")\n",
    "\n",
    "plt.savefig(\"../plots/figure2-a.pdf\",bbox_inches=\"tight\",dpi=512,background=\"transparent\")"
   ]
  },
  {
   "cell_type": "markdown",
   "metadata": {},
   "source": [
    "# Plots for gene relationships "
   ]
  },
  {
   "cell_type": "code",
   "execution_count": null,
   "metadata": {
    "ExecuteTime": {
     "end_time": "2019-12-09T05:29:35.892839Z",
     "start_time": "2019-12-09T05:29:35.885634Z"
    }
   },
   "outputs": [],
   "source": [
    "def plot_methylation(meth_x, y, subtype_map):\n",
    "    \n",
    "    plt.figure(figsize=(3, 4))\n",
    "    ax = plt.subplot(111)\n",
    "\n",
    "    meth_x = meth_x.dropna().rename(\"meth\")\n",
    "    y = y.rename(\"y\")\n",
    "\n",
    "    info = pd.concat([meth_x,y,subtypes.rename(\"subtype\")],axis=1,join=\"inner\")\n",
    "    highlight_subtypes = list([x for x in subtype_map.keys() if x != \"Other\"])\n",
    "\n",
    "    info[\"highlight_subtype\"] = info[\"subtype\"].apply(\n",
    "        lambda x: x if x in highlight_subtypes else \"Other\")\n",
    "\n",
    "    sns.scatterplot(info[\"meth\"],\n",
    "                    info[\"y\"],\n",
    "                    hue=info[\"highlight_subtype\"].rename(\"\"),\n",
    "                    palette=subtype_map,\n",
    "                    linewidth=0,\n",
    "                    alpha=0.5,\n",
    "                    ax = ax,\n",
    "                    hue_order = highlight_subtypes + [\"Other\"]\n",
    "                   )\n",
    "\n",
    "    ax.spines[\"top\"].set_visible(False)\n",
    "    ax.spines[\"right\"].set_visible(False)\n",
    "\n",
    "    ax.legend(bbox_to_anchor=(1.05, 1), loc=2, borderaxespad=0.)"
   ]
  },
  {
   "cell_type": "markdown",
   "metadata": {},
   "source": [
    "## SOX10 methylation\n",
    "\n",
    "One of the top correlates that we discover is a strong relationship between demethylation of SOX10 (a key transcription factor involved in embryonic development) and sensitivity to SOX10 knockdown. Here we see that SOX10 demethylation results in re-activation of SOX10 expression, which induces a dependency on SOX10 for sustained growth.\n",
    "\n",
    "Interestingly, this reactivation of SOX10 through demethylation appears to be almost entirely specific to melanomas."
   ]
  },
  {
   "cell_type": "code",
   "execution_count": null,
   "metadata": {
    "ExecuteTime": {
     "end_time": "2019-12-09T05:29:37.939052Z",
     "start_time": "2019-12-09T05:29:37.506573Z"
    }
   },
   "outputs": [],
   "source": [
    "plot_methylation(tssclust_meth[\"SOX10_1\"], ccle_genex[\"SOX10_ENSG00000100146.12\"],\n",
    "                 {\"Other\": \"lightgrey\", \"Melanoma\": \"black\"},\n",
    "                 )\n",
    "\n",
    "plt.xlabel(\"SOX10 methylation\")\n",
    "plt.ylabel(\"SOX10 mRNA expression\")\n",
    "\n",
    "plt.savefig(\"../plots/figure2-b.pdf\",bbox_inches=\"tight\",dpi=512,background=\"transparent\")"
   ]
  },
  {
   "cell_type": "code",
   "execution_count": null,
   "metadata": {
    "ExecuteTime": {
     "end_time": "2019-12-09T05:29:39.310147Z",
     "start_time": "2019-12-09T05:29:38.939286Z"
    }
   },
   "outputs": [],
   "source": [
    "plot_methylation(tssclust_meth[\"SOX10_1\"], avana[\"SOX10\"],\n",
    "                 {\"Other\": \"lightgrey\", \"Melanoma\": \"black\"},\n",
    "                 )\n",
    "\n",
    "plt.xlabel(\"SOX10 methylation\")\n",
    "plt.ylabel(\"SOX10 dependency\")\n",
    "\n",
    "plt.savefig(\"../plots/figure2-c.pdf\",bbox_inches=\"tight\",dpi=512,background=\"transparent\")"
   ]
  },
  {
   "cell_type": "markdown",
   "metadata": {},
   "source": [
    "## RPP25 methylation\n",
    "\n",
    "Another top correlate that we find is one in which increased methylation of RPP25 (a component of ribonuclease P, an essential complex responsible for tRNA processing), which leads to dependence on its paralog RPP25L.\n",
    "\n",
    "This is a classic example of a **paralog dependency**, in which deactivation of one gene causes a **synthetic lethal** reliance on its functionally redundant paralog. In particular, we see that RPP25 hypermethylation causes near-silencing of RPP25 expression, which causes a cell line to become dependent on RPP25L."
   ]
  },
  {
   "cell_type": "code",
   "execution_count": null,
   "metadata": {
    "ExecuteTime": {
     "end_time": "2019-12-09T05:29:40.769544Z",
     "start_time": "2019-12-09T05:29:40.522862Z"
    }
   },
   "outputs": [],
   "source": [
    "plot_methylation(tssclust_meth[\"RPP25_1\"], ccle_genex[\"RPP25_ENSG00000178718.5\"],\n",
    "                 {\"Other\": \"lightgrey\",\n",
    "                  \"Urinary tract\": \"#aa96da\",\n",
    "                  \"Ovary\": \"#a8d8ea\",\n",
    "                  \"Endometrium\": \"#cbf1f5\",\n",
    "                  \"Glioma\": \"#3f72af\"},\n",
    "                 )\n",
    "\n",
    "plt.xlabel(\"RPP25 methylation\")\n",
    "plt.ylabel(\"RPP25 mRNA expression\")"
   ]
  },
  {
   "cell_type": "code",
   "execution_count": null,
   "metadata": {
    "ExecuteTime": {
     "end_time": "2019-12-09T05:29:42.538763Z",
     "start_time": "2019-12-09T05:29:42.099458Z"
    }
   },
   "outputs": [],
   "source": [
    "plot_methylation(tssclust_meth[\"RPP25_1\"], avana[\"RPP25L\"],\n",
    "                 {\"Other\": \"lightgrey\",\n",
    "                  \"Urinary tract\": \"#aa96da\",\n",
    "                  \"Ovary\": \"#a8d8ea\",\n",
    "                  \"Endometrium\": \"#cbf1f5\",\n",
    "                  \"Glioma\": \"#3f72af\"},\n",
    "                 )\n",
    "\n",
    "plt.xlabel(\"RPP25 methylation\")\n",
    "plt.ylabel(\"RPP25L1 dependency\")\n",
    "\n",
    "plt.savefig(\"../plots/figure2-d.pdf\",bbox_inches=\"tight\",dpi=512,background=\"transparent\")"
   ]
  },
  {
   "cell_type": "markdown",
   "metadata": {},
   "source": [
    "## LDHB methylation\n",
    "\n",
    "The LDHA/LDHB axis is of particular interest in cancer because this pair of genes is responsible for the essential process of pyruvate-lactate conversion. Here we show that certain cancers are hypermethylated in LDHB, which leads to reduced expression of LDHB and a paralog lethal dependency on LDHA. "
   ]
  },
  {
   "cell_type": "code",
   "execution_count": null,
   "metadata": {
    "ExecuteTime": {
     "end_time": "2019-12-09T05:29:43.875192Z",
     "start_time": "2019-12-09T05:29:43.635780Z"
    }
   },
   "outputs": [],
   "source": [
    "plot_methylation(tssclust_meth[\"LDHB_1\"], ccle_genex[\"LDHB_ENSG00000111716.8\"],\n",
    "                 {\"Other\": \"lightgrey\",\n",
    "                  \"Liver\": \"#abedd8\",\n",
    "                  \"Pancreas\": \"#00b8a9\",\n",
    "                  \"Stomach\": \"#a8e6cf\",\n",
    "                  \"Breast\": \"#cca8e9\",\n",
    "                  \"Prostate\": \"#6639a6\"\n",
    "                  },\n",
    "                 )\n",
    "\n",
    "plt.xlabel(\"LDHB methylation\")\n",
    "plt.ylabel(\"LDHB mRNA expression\")"
   ]
  },
  {
   "cell_type": "code",
   "execution_count": null,
   "metadata": {
    "ExecuteTime": {
     "end_time": "2019-12-09T05:29:45.495296Z",
     "start_time": "2019-12-09T05:29:45.044128Z"
    }
   },
   "outputs": [],
   "source": [
    "plot_methylation(tssclust_meth[\"LDHB_1\"], avana[\"LDHA\"],\n",
    "                 {\"Other\": \"lightgrey\",\n",
    "                  \"Liver\": \"#abedd8\",\n",
    "                  \"Pancreas\": \"#00b8a9\",\n",
    "                  \"Stomach\": \"#a8e6cf\",\n",
    "                  \"Breast\": \"#cca8e9\",\n",
    "                  \"Prostate\": \"#6639a6\"\n",
    "                  },\n",
    "                 )\n",
    "\n",
    "plt.xlabel(\"LDHB methylation\")\n",
    "plt.ylabel(\"LDHA dependency\")\n",
    "\n",
    "plt.savefig(\"../plots/figure2-e.pdf\",bbox_inches=\"tight\",dpi=512,background=\"transparent\")"
   ]
  },
  {
   "cell_type": "markdown",
   "metadata": {},
   "source": [
    "## VHL methylation\n",
    "\n",
    "VHL (a well-known tumor suppressor gene) is commonly inactivated by damaging mutations in several cancers. Here we find that another mechanism for VHL inactivation is hypermethylation, which is associated with a marked loss of VHL mRNA levels."
   ]
  },
  {
   "cell_type": "code",
   "execution_count": null,
   "metadata": {
    "ExecuteTime": {
     "end_time": "2019-12-09T05:29:46.881542Z",
     "start_time": "2019-12-09T05:29:46.684373Z"
    }
   },
   "outputs": [],
   "source": [
    "plot_methylation(tssclust_meth[\"VHL_2\"], ccle_genex[\"VHL_ENSG00000134086.7\"],\n",
    "                 {\"Other\": \"lightgrey\",\n",
    "                  \"Kidney\": \"black\"\n",
    "                  },\n",
    "                 )\n",
    "\n",
    "plt.xlabel(\"VHL methylation\")\n",
    "plt.ylabel(\"VHL mRNA expression\")"
   ]
  }
 ],
 "metadata": {
  "kernelspec": {
   "display_name": "Python 3",
   "language": "python",
   "name": "python3"
  },
  "language_info": {
   "codemirror_mode": {
    "name": "ipython",
    "version": 3
   },
   "file_extension": ".py",
   "mimetype": "text/x-python",
   "name": "python",
   "nbconvert_exporter": "python",
   "pygments_lexer": "ipython3",
   "version": "3.7.4"
  },
  "toc": {
   "base_numbering": 1,
   "nav_menu": {},
   "number_sections": true,
   "sideBar": true,
   "skip_h1_title": false,
   "title_cell": "Table of Contents",
   "title_sidebar": "Contents",
   "toc_cell": false,
   "toc_position": {},
   "toc_section_display": true,
   "toc_window_display": true
  }
 },
 "nbformat": 4,
 "nbformat_minor": 2
}
