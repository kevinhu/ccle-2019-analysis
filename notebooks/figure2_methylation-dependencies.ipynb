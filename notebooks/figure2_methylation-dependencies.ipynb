{
 "cells": [
  {
   "cell_type": "code",
   "execution_count": 160,
   "metadata": {
    "ExecuteTime": {
     "end_time": "2019-10-19T01:05:36.838254Z",
     "start_time": "2019-10-19T01:05:36.754781Z"
    }
   },
   "outputs": [
    {
     "name": "stderr",
     "output_type": "stream",
     "text": [
      "/Users/khu/anaconda3/envs/cenv/lib/python3.7/site-packages/tqdm/_tqdm.py:603: FutureWarning: The Panel class is removed from pandas. Accessing it from the top-level namespace will also be removed in the next version\n",
      "  from pandas import Panel\n"
     ]
    }
   ],
   "source": [
    "import pandas as pd\n",
    "import numpy as np\n",
    "import seaborn as sns\n",
    "\n",
    "import matplotlib as mpl\n",
    "from matplotlib import pyplot as plt\n",
    "\n",
    "from scipy.stats import zscore, pearsonr\n",
    "from statsmodels.stats.multitest import multipletests\n",
    "\n",
    "from collections import defaultdict, Counter\n",
    "\n",
    "import scipy.spatial as sp\n",
    "import scipy.cluster.hierarchy as hc\n",
    "\n",
    "from matplotlib import cm\n",
    "from matplotlib.colors import ListedColormap, LinearSegmentedColormap\n",
    "\n",
    "from tqdm.auto import tqdm\n",
    "tqdm.pandas()"
   ]
  },
  {
   "cell_type": "code",
   "execution_count": 190,
   "metadata": {
    "ExecuteTime": {
     "end_time": "2019-10-19T01:20:29.848017Z",
     "start_time": "2019-10-19T01:20:28.597919Z"
    }
   },
   "outputs": [],
   "source": [
    "tss1kb_meth = pd.read_hdf(\"../data/CCLE_RRBS_TSS1kb_20181022.hdf\",key=\"tss1kb_meth\")\n",
    "tssclust_meth = pd.read_hdf(\"../data/CCLE_RRBS_tss_CpG_clusters_20181022.hdf\",key=\"tssclust_meth\")\n",
    "ccle_genex = pd.read_hdf(\"../data/CCLE_RNAseq_rsem_genes_tpm_20180929.hdf\",key=\"ccle_genex\")\n",
    "\n",
    "avana = pd.read_hdf(\"../data/Achilles_gene_effect.hdf\",key=\"avana\")\n",
    "drive = pd.read_hdf(\"../data/D2_DRIVE_gene_dep_scores.hdf\",key=\"drive\")\n",
    "achilles = pd.read_hdf(\"../data/D2_Achilles_gene_dep_scores.hdf\",key=\"achilles\")\n",
    "\n",
    "avana.columns = [\"_\".join(x.split(\"_\")[:-1]) for x in avana.columns]\n",
    "drive.columns = [\"_\".join(x.split(\"_\")[:-1]) for x in drive.columns]\n",
    "achilles.columns = [\"_\".join(x.split(\"_\")[:-1]) for x in achilles.columns]"
   ]
  },
  {
   "cell_type": "markdown",
   "metadata": {},
   "source": [
    "# Methylation and mRNA expression"
   ]
  },
  {
   "cell_type": "code",
   "execution_count": 192,
   "metadata": {
    "ExecuteTime": {
     "end_time": "2019-10-19T01:20:47.805184Z",
     "start_time": "2019-10-19T01:20:47.678902Z"
    }
   },
   "outputs": [],
   "source": [
    "meth_genes = pd.DataFrame(index=tssclust_meth.columns)\n",
    "meth_genes[\"gene_name\"] = meth_genes.index.map(lambda x: x.split(\"_\")[0])\n",
    "\n",
    "genex_genes = pd.DataFrame(index=ccle_genex.columns)\n",
    "genex_genes[\"gene_name\"] = genex_genes.index.map(lambda x: \"_\".join(x.split(\"_\")[:-1]))\n",
    "genex_genes[\"ensembl_id_v\"] = genex_genes.index.map(lambda x: x.split(\"_\")[-1])\n",
    "genex_genes[\"ensembl_id\"] = genex_genes[\"ensembl_id_v\"].apply(lambda x: x.split(\".\")[0])"
   ]
  },
  {
   "cell_type": "code",
   "execution_count": 194,
   "metadata": {
    "ExecuteTime": {
     "end_time": "2019-10-19T01:24:27.002228Z",
     "start_time": "2019-10-19T01:21:01.012188Z"
    }
   },
   "outputs": [
    {
     "data": {
      "application/vnd.jupyter.widget-view+json": {
       "model_id": "a504be5371484ffdac4e44c62eb3f017",
       "version_major": 2,
       "version_minor": 0
      },
      "text/plain": [
       "HBox(children=(IntProgress(value=0, max=41312), HTML(value='')))"
      ]
     },
     "metadata": {},
     "output_type": "display_data"
    },
    {
     "name": "stderr",
     "output_type": "stream",
     "text": [
      "/Users/khu/anaconda3/envs/cenv/lib/python3.7/site-packages/scipy/stats/stats.py:3399: PearsonRConstantInputWarning: An input array is constant; the correlation coefficent is not defined.\n",
      "  warnings.warn(PearsonRConstantInputWarning())\n"
     ]
    }
   ],
   "source": [
    "genex_gene_map = dict(zip(genex_genes[\"gene_name\"], genex_genes.index))\n",
    "\n",
    "meth_matched = meth_genes.copy()\n",
    "\n",
    "meth_matched[\"genex_id\"] = meth_matched[\"gene_name\"].apply(lambda x: genex_gene_map.get(x, \"\"))\n",
    "\n",
    "meth_matched = meth_matched[meth_matched[\"genex_id\"]!=\"\"]\n",
    "\n",
    "def meth_genex_correlate(row):\n",
    "    meth_name = row.name\n",
    "    genex_name = row[\"genex_id\"]\n",
    "    \n",
    "    meth = tssclust_meth[meth_name].dropna()\n",
    "    genex = ccle_genex[genex_name].dropna()\n",
    "    \n",
    "    meth, genex = meth.align(genex, axis=0, join=\"inner\")\n",
    "    \n",
    "    r, pval = pearsonr(meth, genex)\n",
    "    \n",
    "    row[\"corr\"] = r\n",
    "    row[\"pval\"] = pval\n",
    "    row[\"n\"] = len(meth)\n",
    "    \n",
    "    return row\n",
    "\n",
    "meth_matched = meth_matched.progress_apply(meth_genex_correlate, axis=1)\n",
    "meth_matched = meth_matched.dropna()"
   ]
  },
  {
   "cell_type": "code",
   "execution_count": 195,
   "metadata": {
    "ExecuteTime": {
     "end_time": "2019-10-19T01:24:40.947796Z",
     "start_time": "2019-10-19T01:24:40.686108Z"
    }
   },
   "outputs": [
    {
     "data": {
      "text/plain": [
       "<matplotlib.lines.Line2D at 0x1a67085dd0>"
      ]
     },
     "execution_count": 195,
     "metadata": {},
     "output_type": "execute_result"
    },
    {
     "data": {
      "image/png": "[encoded data removed]",
      "text/plain": [
       "<Figure size 432x288 with 1 Axes>"
      ]
     },
     "metadata": {
      "needs_background": "light"
     },
     "output_type": "display_data"
    }
   ],
   "source": [
    "ax = plt.subplot(111)\n",
    "\n",
    "sns.distplot(meth_matched[\"corr\"],kde=False)\n",
    "plt.xlabel(\"Methylation vs. expression correlation\")\n",
    "\n",
    "ax.spines[\"top\"].set_visible(False)\n",
    "ax.spines[\"right\"].set_visible(False)\n",
    "\n",
    "plt.ylabel(\"Frequency\")\n",
    "plt.xlim(-1,1)\n",
    "\n",
    "plt.axvline(0,linestyle=\"--\",color=\"black\")"
   ]
  },
  {
   "cell_type": "code",
   "execution_count": 196,
   "metadata": {
    "ExecuteTime": {
     "end_time": "2019-10-19T01:24:43.142564Z",
     "start_time": "2019-10-19T01:24:43.134551Z"
    }
   },
   "outputs": [],
   "source": [
    "high_negative = meth_matched[meth_matched[\"corr\"]<-0.4].copy(deep=True)\n",
    "high_negative_genes = set(high_negative[\"gene_name\"])"
   ]
  },
  {
   "cell_type": "markdown",
   "metadata": {
    "ExecuteTime": {
     "end_time": "2019-10-18T23:15:25.734217Z",
     "start_time": "2019-10-18T23:15:25.731803Z"
    }
   },
   "source": [
    "# Methylation and dependency"
   ]
  },
  {
   "cell_type": "code",
   "execution_count": 197,
   "metadata": {
    "ExecuteTime": {
     "end_time": "2019-10-19T01:24:59.739125Z",
     "start_time": "2019-10-19T01:24:48.422738Z"
    }
   },
   "outputs": [],
   "source": [
    "string = pd.read_csv(\"../data/9606.protein.links.v11.0.txt.gz\",sep=\" \")\n",
    "string = string[string[\"combined_score\"]>=800]\n",
    "\n",
    "string[\"protein1_ensembl\"] = string[\"protein1\"].apply(lambda x: x[5:])\n",
    "string[\"protein2_ensembl\"] = string[\"protein2\"].apply(lambda x: x[5:])\n",
    "\n",
    "ensembl_gene_protein = pd.read_csv(\"../data/ensembl_gene_protein.txt\",sep=\"\\t\")\n",
    "ensembl_gene_protein = ensembl_gene_protein.dropna(subset=[\"Protein stable ID\",\"NCBI gene ID\"])\n",
    "ensembl_gene_protein[\"NCBI gene ID\"] = ensembl_gene_protein[\"NCBI gene ID\"].astype(int).astype(str)\n",
    "\n",
    "protein_gene_map = dict(zip(ensembl_gene_protein[\"Protein stable ID\"],ensembl_gene_protein[\"Gene stable ID\"]))\n",
    "\n",
    "string[\"gene1_ensembl\"]  = string[\"protein1_ensembl\"].apply(lambda x: protein_gene_map.get(x,np.nan))\n",
    "string[\"gene2_ensembl\"]  = string[\"protein2_ensembl\"].apply(lambda x: protein_gene_map.get(x,np.nan))\n",
    "\n",
    "string = string.dropna()"
   ]
  },
  {
   "cell_type": "code",
   "execution_count": 198,
   "metadata": {
    "ExecuteTime": {
     "end_time": "2019-10-19T01:25:05.018963Z",
     "start_time": "2019-10-19T01:25:03.910306Z"
    }
   },
   "outputs": [],
   "source": [
    "ensembl_name_map = dict(zip(genex_genes[\"ensembl_id\"],genex_genes[\"gene_name\"]))\n",
    "entrez_ensembl_map = dict(zip(ensembl_gene_protein[\"NCBI gene ID\"],ensembl_gene_protein[\"Gene stable ID\"]))\n",
    "\n",
    "string[\"gene1_name\"] = string[\"gene1_ensembl\"].apply(lambda x: ensembl_name_map.get(x,\"\"))\n",
    "string[\"gene2_name\"] = string[\"gene2_ensembl\"].apply(lambda x: ensembl_name_map.get(x,\"\"))\n",
    "string = string[(string[\"gene1_name\"]!=\"\")&(string[\"gene2_name\"]!=\"\")]"
   ]
  },
  {
   "cell_type": "code",
   "execution_count": 199,
   "metadata": {
    "ExecuteTime": {
     "end_time": "2019-10-19T01:25:05.656079Z",
     "start_time": "2019-10-19T01:25:05.604334Z"
    }
   },
   "outputs": [],
   "source": [
    "# since string contains pairs in both directions, only need to select for one\n",
    "gene1_valid = string[\"gene1_name\"].isin(high_negative_genes)\n",
    "\n",
    "string_select = string[gene1_valid].copy(deep=True)"
   ]
  },
  {
   "cell_type": "code",
   "execution_count": 200,
   "metadata": {
    "ExecuteTime": {
     "end_time": "2019-10-19T01:25:06.514444Z",
     "start_time": "2019-10-19T01:25:06.293223Z"
    }
   },
   "outputs": [],
   "source": [
    "high_negative[\"locus\"] = list(high_negative.index)\n",
    "genes_meth_map = high_negative.groupby(\"gene_name\")[\"locus\"].apply(list)\n",
    "genes_meth_map = dict(zip(genes_meth_map.index, genes_meth_map))"
   ]
  },
  {
   "cell_type": "code",
   "execution_count": 201,
   "metadata": {
    "ExecuteTime": {
     "end_time": "2019-10-19T01:25:07.605272Z",
     "start_time": "2019-10-19T01:25:07.220790Z"
    }
   },
   "outputs": [],
   "source": [
    "string_select[\"gene1_loci\"] = string_select[\"gene1_name\"].apply(lambda x: genes_meth_map[x])\n",
    "string_select = string_select.explode(\"gene1_loci\")"
   ]
  },
  {
   "cell_type": "code",
   "execution_count": 202,
   "metadata": {
    "ExecuteTime": {
     "end_time": "2019-10-19T01:25:09.294734Z",
     "start_time": "2019-10-19T01:25:09.116058Z"
    }
   },
   "outputs": [],
   "source": [
    "avana_genes = set(avana.columns)\n",
    "drive_genes = set(drive.columns)\n",
    "achilles_genes = set(achilles.columns)\n",
    "\n",
    "string_select[\"in_avana\"] = string_select[\"gene2_name\"].apply(lambda x: x in avana_genes)\n",
    "string_select[\"in_drive\"] = string_select[\"gene2_name\"].apply(lambda x: x in drive_genes)\n",
    "string_select[\"in_achilles\"] = string_select[\"gene2_name\"].apply(lambda x: x in achilles_genes)\n",
    "\n",
    "string_select_avana = string_select[string_select[\"in_avana\"]]\n",
    "string_select_drive = string_select[string_select[\"in_drive\"]]\n",
    "string_select_achilles = string_select[string_select[\"in_achilles\"]]"
   ]
  },
  {
   "cell_type": "code",
   "execution_count": 203,
   "metadata": {
    "ExecuteTime": {
     "end_time": "2019-10-19T01:58:03.185326Z",
     "start_time": "2019-10-19T01:25:09.901134Z"
    }
   },
   "outputs": [
    {
     "data": {
      "application/vnd.jupyter.widget-view+json": {
       "model_id": "b2da253efc0846dab7096c9d8c813457",
       "version_major": 2,
       "version_minor": 0
      },
      "text/plain": [
       "HBox(children=(IntProgress(value=0, max=142195), HTML(value='')))"
      ]
     },
     "metadata": {},
     "output_type": "display_data"
    },
    {
     "data": {
      "application/vnd.jupyter.widget-view+json": {
       "model_id": "2d2492fbaae646288590d4e1fb8d8bad",
       "version_major": 2,
       "version_minor": 0
      },
      "text/plain": [
       "HBox(children=(IntProgress(value=0, max=86240), HTML(value='')))"
      ]
     },
     "metadata": {},
     "output_type": "display_data"
    },
    {
     "data": {
      "application/vnd.jupyter.widget-view+json": {
       "model_id": "f12db522b7964fdeb93db9b86173f25b",
       "version_major": 2,
       "version_minor": 0
      },
      "text/plain": [
       "HBox(children=(IntProgress(value=0, max=136334), HTML(value='')))"
      ]
     },
     "metadata": {},
     "output_type": "display_data"
    }
   ],
   "source": [
    "def meth_dependency_correlate(row, dependency_set):\n",
    "    meth_name = row[\"gene1_loci\"]\n",
    "    dependency_name = row[\"gene2_name\"]\n",
    "    \n",
    "    meth = tssclust_meth[meth_name].dropna()\n",
    "    dependency = dependency_set[dependency_name].dropna()\n",
    "    \n",
    "    meth, dependency = meth.align(dependency, axis=0, join=\"inner\")\n",
    "    \n",
    "    r, pval = pearsonr(meth, dependency)\n",
    "    \n",
    "    row[\"corr\"] = r\n",
    "    row[\"pval\"] = pval\n",
    "    row[\"n\"] = len(meth)\n",
    "    \n",
    "    return row\n",
    "\n",
    "string_select_avana = string_select_avana.progress_apply(meth_dependency_correlate, \n",
    "                                                         dependency_set=avana, axis=1)\n",
    "\n",
    "string_select_drive = string_select_drive.progress_apply(meth_dependency_correlate, \n",
    "                                                         dependency_set=drive, axis=1)\n",
    "\n",
    "string_select_achilles = string_select_achilles.progress_apply(meth_dependency_correlate, \n",
    "                                                         dependency_set=achilles, axis=1)"
   ]
  },
  {
   "cell_type": "code",
   "execution_count": 204,
   "metadata": {
    "ExecuteTime": {
     "end_time": "2019-10-19T01:59:54.836830Z",
     "start_time": "2019-10-19T01:59:54.775611Z"
    }
   },
   "outputs": [],
   "source": [
    "string_select_avana[\"qval\"] = multipletests(string_select_avana[\"pval\"], alpha=0.01, method=\"fdr_bh\")[1]\n",
    "string_select_drive[\"qval\"] = multipletests(string_select_drive[\"pval\"], alpha=0.01, method=\"fdr_bh\")[1]\n",
    "string_select_achilles[\"qval\"] = multipletests(string_select_achilles[\"pval\"], alpha=0.01, method=\"fdr_bh\")[1]\n",
    "\n"
   ]
  },
  {
   "cell_type": "code",
   "execution_count": 234,
   "metadata": {
    "ExecuteTime": {
     "end_time": "2019-10-19T02:10:12.092656Z",
     "start_time": "2019-10-19T02:10:11.953474Z"
    }
   },
   "outputs": [],
   "source": [
    "string_select_avana = string_select_avana.reset_index()\n",
    "string_select_drive = string_select_drive.reset_index()\n",
    "string_select_achilles = string_select_achilles.reset_index()"
   ]
  },
  {
   "cell_type": "code",
   "execution_count": 244,
   "metadata": {
    "ExecuteTime": {
     "end_time": "2019-10-19T02:13:46.550756Z",
     "start_time": "2019-10-19T02:13:45.833687Z"
    }
   },
   "outputs": [],
   "source": [
    "string_select_avana[\"corr_id\"] = string_select_avana[\"gene1_name\"]+\"-\"+string_select_avana[\"gene2_name\"]\n",
    "string_select_drive[\"corr_id\"] = string_select_drive[\"gene1_name\"]+\"-\"+string_select_drive[\"gene2_name\"]\n",
    "string_select_achilles[\"corr_id\"] = string_select_achilles[\"gene1_name\"]+\"-\"+string_select_achilles[\"gene2_name\"]\n",
    "\n",
    "string_select_avana = string_select_avana.sort_values(by=\"pval\")\n",
    "string_select_drive = string_select_drive.sort_values(by=\"pval\")\n",
    "string_select_achilles = string_select_achilles.sort_values(by=\"pval\")\n",
    "\n",
    "string_select_avana = string_select_avana.drop_duplicates(subset=[\"corr_id\"],keep=\"first\")\n",
    "string_select_drive = string_select_drive.drop_duplicates(subset=[\"corr_id\"],keep=\"first\")\n",
    "string_select_achilles = string_select_achilles.drop_duplicates(subset=[\"corr_id\"],keep=\"first\")"
   ]
  },
  {
   "cell_type": "code",
   "execution_count": 248,
   "metadata": {
    "ExecuteTime": {
     "end_time": "2019-10-19T02:14:05.045702Z",
     "start_time": "2019-10-19T02:14:05.036012Z"
    }
   },
   "outputs": [],
   "source": [
    "string_select_avana[\"pval_rank\"] = string_select_avana[\"pval\"].rank()\n",
    "string_select_drive[\"pval_rank\"] = string_select_drive[\"pval\"].rank()\n",
    "string_select_achilles[\"pval_rank\"] = string_select_achilles[\"pval\"].rank()"
   ]
  },
  {
   "cell_type": "code",
   "execution_count": 314,
   "metadata": {
    "ExecuteTime": {
     "end_time": "2019-10-19T02:27:57.467201Z",
     "start_time": "2019-10-19T02:27:57.457201Z"
    }
   },
   "outputs": [],
   "source": [
    "def plot_meth_dependency(corr_set, ax):\n",
    "\n",
    "    ax.scatter(corr_set[\"corr\"],\n",
    "                -np.log10(corr_set[\"qval\"]),\n",
    "                c=\"lightgray\"\n",
    "               )\n",
    "\n",
    "\n",
    "    select_labels = corr_set[corr_set[\"pval_rank\"]<=10]\n",
    "    for row_name in list(select_labels.index):\n",
    "        row = select_labels.loc[row_name]\n",
    "\n",
    "        ax.text(row[\"corr\"]+0.15,-np.log10(row[\"qval\"])+2,\n",
    "                 row[\"gene1_name\"]+\" \",\n",
    "                 ha=\"right\",\n",
    "                 color=\"#3f72af\")\n",
    "        ax.text(row[\"corr\"]+0.15,-np.log10(row[\"qval\"])+2,\n",
    "                 \"/\",\n",
    "                 ha=\"center\",\n",
    "                 color=\"grey\")\n",
    "        ax.text(row[\"corr\"]+0.15,-np.log10(row[\"qval\"])+2,\n",
    "                 \" \"+row[\"gene2_name\"],\n",
    "                 ha=\"left\",\n",
    "                 color=\"#e23e57\")\n",
    "        \n",
    "    ax.set_xlim(-1,1)\n",
    "    \n",
    "    ax.set_xticks([-1,-0.5,0,0.5,1])\n",
    "\n",
    "    ymax = plt.ylim()[1]\n",
    "\n",
    "    ax.text(1,ymax/30,\n",
    "                 \"Gene X methylation\",\n",
    "                 ha=\"right\",\n",
    "                 color=\"#3f72af\")\n",
    "    ax.text(1,ymax/30,\n",
    "             \"  /\",\n",
    "             ha=\"center\",\n",
    "             color=\"grey\")\n",
    "    ax.text(1,ymax/30+ymax/30,\n",
    "             \"\\nGene Y dependency\",\n",
    "             ha=\"right\",\n",
    "             va=\"top\",\n",
    "             color=\"#e23e57\")\n",
    "\n",
    "    ax.spines[\"top\"].set_visible(False)\n",
    "    ax.spines[\"right\"].set_visible(False)\n",
    "\n",
    "    ax.set_xlabel(\"Pearson correlation\")\n",
    "    ax.set_ylabel(\"$-log_{10}(q-value)$\")"
   ]
  },
  {
   "cell_type": "code",
   "execution_count": 317,
   "metadata": {
    "ExecuteTime": {
     "end_time": "2019-10-19T02:28:46.843221Z",
     "start_time": "2019-10-19T02:28:43.979737Z"
    }
   },
   "outputs": [
    {
     "data": {
      "image/png": "[encoded data removed]",
      "text/plain": [
       "<Figure size 1152x288 with 3 Axes>"
      ]
     },
     "metadata": {
      "needs_background": "light"
     },
     "output_type": "display_data"
    }
   ],
   "source": [
    "plt.figure(figsize=(16,4))\n",
    "\n",
    "ax = plt.subplot(131)\n",
    "plot_meth_dependency(string_select_avana,ax)\n",
    "plt.title(\"Avana\")\n",
    "\n",
    "ax = plt.subplot(132)\n",
    "plot_meth_dependency(string_select_drive,ax)\n",
    "plt.title(\"DRIVE\")\n",
    "\n",
    "ax = plt.subplot(133)\n",
    "plot_meth_dependency(string_select_achilles,ax)\n",
    "plt.title(\"Achilles\")\n",
    "\n",
    "plt.show()"
   ]
  }
 ],
 "metadata": {
  "kernelspec": {
   "display_name": "Python 3",
   "language": "python",
   "name": "python3"
  },
  "language_info": {
   "codemirror_mode": {
    "name": "ipython",
    "version": 3
   },
   "file_extension": ".py",
   "mimetype": "text/x-python",
   "name": "python",
   "nbconvert_exporter": "python",
   "pygments_lexer": "ipython3",
   "version": "3.7.4"
  },
  "toc": {
   "base_numbering": 1,
   "nav_menu": {},
   "number_sections": true,
   "sideBar": true,
   "skip_h1_title": false,
   "title_cell": "Table of Contents",
   "title_sidebar": "Contents",
   "toc_cell": false,
   "toc_position": {},
   "toc_section_display": true,
   "toc_window_display": false
  }
 },
 "nbformat": 4,
 "nbformat_minor": 2
}
