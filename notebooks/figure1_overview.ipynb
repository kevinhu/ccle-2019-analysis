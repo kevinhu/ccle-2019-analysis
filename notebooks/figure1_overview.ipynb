{
 "cells": [
  {
   "cell_type": "code",
   "execution_count": 1,
   "metadata": {
    "ExecuteTime": {
     "end_time": "2019-09-21T23:49:25.747233Z",
     "start_time": "2019-09-21T23:49:24.681887Z"
    }
   },
   "outputs": [],
   "source": [
    "import pandas as pd\n",
    "import numpy as np\n",
    "import seaborn as sns\n",
    "\n",
    "import matplotlib as mpl\n",
    "from matplotlib import pyplot as plt\n",
    "\n",
    "from scipy.stats import zscore\n",
    "\n",
    "from collections import defaultdict, Counter\n",
    "\n",
    "import scipy.spatial as sp\n",
    "import scipy.cluster.hierarchy as hc\n",
    "\n",
    "from matplotlib import cm\n",
    "from matplotlib.colors import ListedColormap, LinearSegmentedColormap"
   ]
  },
  {
   "cell_type": "markdown",
   "metadata": {},
   "source": [
    "# Load annotations"
   ]
  },
  {
   "cell_type": "code",
   "execution_count": 2,
   "metadata": {
    "ExecuteTime": {
     "end_time": "2019-09-21T23:50:03.476194Z",
     "start_time": "2019-09-21T23:49:25.749209Z"
    }
   },
   "outputs": [],
   "source": [
    "cell_line_info = pd.read_csv(\"../data/sample_info.csv\")\n",
    "cell_line_annotations = pd.read_excel(\"../data/41586_2019_1186_MOESM4_ESM.xlsx\",\n",
    "                                      sheet_name=\"Cell Line Annotations\")\n",
    "\n",
    "hs_muts = pd.read_hdf(\"../data/hs_muts.h5\",key=\"hs_muts\")\n",
    "damaging_muts = pd.read_hdf(\"../data/damaging_muts.h5\",key=\"damaging_muts\")\n",
    "tertp = pd.read_excel(\"../data/41586_2019_1186_MOESM8_ESM.xlsx\",skiprows=4)\n",
    "\n",
    "fusions = pd.read_csv(\"../data/CCLE_Fusions_20181130.txt\",sep=\"\\t\")\n",
    "copynumber = pd.read_hdf(\"../data/CCLE_gene_cn.hdf\",key=\"copynumber\")\n",
    "copynumber = copynumber.dropna(how=\"any\",thresh=1000,axis=1)\n",
    "\n",
    "tss1kb_meth = pd.read_hdf(\"../data/CCLE_RRBS_TSS1kb_20181022.hdf\",key=\"tss1kb_meth\")\n",
    "\n",
    "ccle_genex = pd.read_hdf(\"../data/CCLE_RNAseq_rsem_genes_tpm_20180929.hdf\",key=\"ccle_genex\")\n",
    "exonusage = pd.read_hdf(\"../data/CCLE_RNAseq_ExonUsageRatio_20180929.hdf\",key=\"exonusage\")\n",
    "\n",
    "mirna = pd.read_hdf(\"../data/CCLE_miRNA_20181103.hdf\",key=\"mirna\")\n",
    "chromatin_profiling = pd.read_hdf(\"../data/CCLE_GlobalChromatinProfiling_20181130.hdf\",key=\"chromatin_profiling\")\n",
    "rppa = pd.read_hdf(\"../data/CCLE_RPPA_20181003.hdf\",key=\"rppa\")\n",
    "\n",
    "msi = pd.read_excel(\"../data/41586_2019_1186_MOESM10_ESM.xlsx\",sheet_name=\"MSI calls\")\n",
    "absolute = pd.read_excel(\"../data/CCLE_ABSOLUTE_combined_20181227.xlsx\",\n",
    "                         sheet_name = \"ABSOLUTE_combined.table\")"
   ]
  },
  {
   "cell_type": "markdown",
   "metadata": {},
   "source": [
    "# Cell line primary sites"
   ]
  },
  {
   "cell_type": "code",
   "execution_count": 3,
   "metadata": {
    "ExecuteTime": {
     "end_time": "2019-09-21T23:50:03.486194Z",
     "start_time": "2019-09-21T23:50:03.477991Z"
    }
   },
   "outputs": [],
   "source": [
    "subtypes = cell_line_annotations[[\"depMapID\",\"type_refined\"]].set_index(\"depMapID\")\n",
    "subtypes = subtypes[\"type_refined\"]\n",
    "subtypes = subtypes.dropna()\n",
    "subtypes = subtypes.apply(lambda x: x.capitalize().replace(\"_\",\" \"))\n",
    "\n",
    "rename_map = {\"T-cell lymphoma other\":\"Other T-cell lymphoma\",\n",
    "              \"Aml\":\"AML\",\n",
    "              \"Ewings sarcoma\": \"Ewing's sarcoma\",\n",
    "              \"Fibroblast like\":\"Fibroblast-like\",\n",
    "              \"Lung nsc\":\"Lunc, NSC\",\n",
    "              \"Lymphoma hodgkin\":\"Hodgkin's lymphoma\",\n",
    "              \"Lymphoma dlbcl\":\"DLBCL\",\n",
    "              \"T-cell all\":\"T-cell ALL\",\n",
    "              \"B-cell all\":\"B-cell ALL\",\n",
    "              \"Cml\":\"CML\",\n",
    "              \"B-cell lymphoma other\":\"Other B-cell lymphoma\",\n",
    "              \"Leukemia other\":\"Other leukemia\",\n",
    "              \"Lymphoma burkitt\":\"Burkitt's lymphoma\"\n",
    "             }\n",
    "\n",
    "subtypes = subtypes.apply(lambda x:rename_map.get(x,x))"
   ]
  },
  {
   "cell_type": "markdown",
   "metadata": {},
   "source": [
    "# Select annotations"
   ]
  },
  {
   "cell_type": "markdown",
   "metadata": {},
   "source": [
    "## Top recurrent mutations"
   ]
  },
  {
   "cell_type": "code",
   "execution_count": 4,
   "metadata": {
    "ExecuteTime": {
     "end_time": "2019-09-21T23:50:06.950568Z",
     "start_time": "2019-09-21T23:50:03.488359Z"
    }
   },
   "outputs": [],
   "source": [
    "def get_top_muts():\n",
    "    \n",
    "    align_hs_muts, align_damaging_muts = hs_muts.align(damaging_muts,join=\"outer\",axis=1)\n",
    "    align_hs_muts = align_hs_muts.fillna(0)\n",
    "    align_damaging_muts = align_damaging_muts.fillna(0)\n",
    "    \n",
    "    hs_damaging_muts = (align_hs_muts+align_damaging_muts).clip(0,1)\n",
    "        \n",
    "    mut_totals = hs_damaging_muts.sum()\n",
    "    mut_totals = mut_totals.sort_values()\n",
    "    \n",
    "    return hs_damaging_muts[mut_totals.index[-8:]]\n",
    "    \n",
    "muts = get_top_muts()"
   ]
  },
  {
   "cell_type": "markdown",
   "metadata": {},
   "source": [
    "## TERT promoter mutations"
   ]
  },
  {
   "cell_type": "code",
   "execution_count": 5,
   "metadata": {
    "ExecuteTime": {
     "end_time": "2019-09-21T23:50:06.957939Z",
     "start_time": "2019-09-21T23:50:06.952368Z"
    }
   },
   "outputs": [],
   "source": [
    "tertp_mut = tertp[[\"depMapID\",\"TERT_promoter_mutation\"]].set_index(\"depMapID\")!=\"wildtype\""
   ]
  },
  {
   "cell_type": "markdown",
   "metadata": {},
   "source": [
    "## Fusions"
   ]
  },
  {
   "cell_type": "code",
   "execution_count": 6,
   "metadata": {
    "ExecuteTime": {
     "end_time": "2019-09-21T23:50:12.274948Z",
     "start_time": "2019-09-21T23:50:06.959518Z"
    }
   },
   "outputs": [],
   "source": [
    "def get_fusions():\n",
    "\n",
    "    fusions[\"value\"] = 1\n",
    "\n",
    "    fusions_mat = pd.pivot_table(fusions, values=\"value\",\n",
    "                                index=[\"BroadID\"], columns=\"X.FusionName\", fill_value=0)\n",
    "    \n",
    "    fusions_mat.columns = fusions_mat.columns.map(lambda x: x.replace(\"--\",\"-\"))\n",
    "\n",
    "    return fusions_mat[[\"BCR-ABL1\",\"EWSR1-FLI1\",\"KMT2A-MLLT3\"]]\n",
    "\n",
    "select_fusions = get_fusions()"
   ]
  },
  {
   "cell_type": "markdown",
   "metadata": {},
   "source": [
    "## Top continuous annotations"
   ]
  },
  {
   "cell_type": "code",
   "execution_count": 7,
   "metadata": {
    "ExecuteTime": {
     "end_time": "2019-09-21T23:50:12.280180Z",
     "start_time": "2019-09-21T23:50:12.276730Z"
    }
   },
   "outputs": [],
   "source": [
    "def top_variable(annotations, top_n,clip_left=-3,clip_right=3):\n",
    "    \n",
    "    stdevs = annotations.std()\n",
    "    stdevs = stdevs.sort_values()\n",
    "    \n",
    "    top_names = stdevs.index[-top_n:]\n",
    "    \n",
    "    top_annotations = annotations[top_names]\n",
    "    top_annotations = (top_annotations - top_annotations.mean())/top_annotations.std()\n",
    "    \n",
    "    top_annotations = top_annotations.clip(clip_left,clip_right)\n",
    "    \n",
    "    return top_annotations"
   ]
  },
  {
   "cell_type": "code",
   "execution_count": 8,
   "metadata": {
    "ExecuteTime": {
     "end_time": "2019-09-21T23:50:18.419941Z",
     "start_time": "2019-09-21T23:50:12.282172Z"
    }
   },
   "outputs": [],
   "source": [
    "select_copynumber = top_variable(copynumber, 1000)\n",
    "select_meth = top_variable(tss1kb_meth, 1000)\n",
    "select_genex = top_variable(ccle_genex, 1000)\n",
    "select_exonusage = top_variable(exonusage, 1000)\n",
    "select_mirna = top_variable(mirna, 1000)\n",
    "select_chromatin = top_variable(chromatin_profiling, 1000)\n",
    "select_rppa = top_variable(rppa, 1000)\n",
    "\n",
    "select_copynumber.columns = [x + \"_copynumber\" for x in select_copynumber.columns]\n",
    "select_meth.columns = [x + \"_meth\" for x in select_meth.columns]\n",
    "select_genex.columns = [x + \"_genex\" for x in select_genex.columns]\n",
    "select_exonusage.columns = [x + \"_exonusage\" for x in select_exonusage.columns]\n",
    "select_mirna.columns = [x + \"_mirna\" for x in select_mirna.columns]\n",
    "select_chromatin.columns = [x + \"_chromatin\" for x in select_chromatin.columns]\n",
    "select_rppa.columns = [x + \"_rppa\" for x in select_rppa.columns]"
   ]
  },
  {
   "cell_type": "markdown",
   "metadata": {},
   "source": [
    "## MSI, ploidy, and ancestry"
   ]
  },
  {
   "cell_type": "code",
   "execution_count": 9,
   "metadata": {
    "ExecuteTime": {
     "end_time": "2019-09-21T23:50:18.435070Z",
     "start_time": "2019-09-21T23:50:18.421402Z"
    }
   },
   "outputs": [],
   "source": [
    "is_msi = msi[msi[\"CCLE.MSI.call\"].isin(['inferred-MSI','inferred-MSS'])]\n",
    "is_msi = is_msi[[\"depMapID\",\"CCLE.MSI.call\"]].set_index(\"depMapID\")\n",
    "is_msi = is_msi == \"inferred-MSI\"\n",
    "\n",
    "ploidy = absolute[[\"depMapID\",\"ploidy\"]].set_index(\"depMapID\")\n",
    "ploidy = ploidy.loc[~ploidy.index.duplicated(keep='first')]\n",
    "\n",
    "ancestry = cell_line_annotations[[\"inferred_ancestry\",\"depMapID\"]].set_index(\"depMapID\").dropna()"
   ]
  },
  {
   "cell_type": "markdown",
   "metadata": {},
   "source": [
    "# Merge all "
   ]
  },
  {
   "cell_type": "code",
   "execution_count": 10,
   "metadata": {
    "ExecuteTime": {
     "end_time": "2019-09-21T23:50:18.489214Z",
     "start_time": "2019-09-21T23:50:18.436656Z"
    }
   },
   "outputs": [],
   "source": [
    "continuous_annotations = np.concatenate([\n",
    "    select_copynumber.columns,\n",
    "    select_meth.columns,\n",
    "    select_genex.columns,\n",
    "    select_exonusage.columns,\n",
    "    select_mirna.columns,\n",
    "    select_chromatin.columns,\n",
    "    select_rppa.columns,\n",
    "])\n",
    "\n",
    "merged_all = pd.concat([\n",
    "                        subtypes,\n",
    "                        \n",
    "                        muts,\n",
    "                        tertp_mut,\n",
    "                        select_fusions,\n",
    "    \n",
    "                        select_copynumber,\n",
    "                        select_meth,\n",
    "                        select_genex,\n",
    "                        select_exonusage,\n",
    "                        select_mirna,\n",
    "                        select_chromatin,\n",
    "                        select_rppa,\n",
    "                        \n",
    "                        is_msi,\n",
    "                        ploidy,\n",
    "                        ancestry,\n",
    "                       ],join=\"outer\",axis=1,sort=True)"
   ]
  },
  {
   "cell_type": "markdown",
   "metadata": {},
   "source": [
    "## Drop missing values"
   ]
  },
  {
   "cell_type": "code",
   "execution_count": 11,
   "metadata": {
    "ExecuteTime": {
     "end_time": "2019-09-21T23:50:18.733299Z",
     "start_time": "2019-09-21T23:50:18.491078Z"
    }
   },
   "outputs": [],
   "source": [
    "merged_all = merged_all.dropna(how=\"any\",subset=[\"type_refined\"],axis=0)\n",
    "\n",
    "merged_all = merged_all.dropna(how=\"all\",subset=select_copynumber.columns,axis=0)\n",
    "merged_all = merged_all.dropna(how=\"all\",subset=select_meth.columns,axis=0)\n",
    "merged_all = merged_all.dropna(how=\"all\",subset=select_genex.columns,axis=0)\n",
    "merged_all = merged_all.dropna(how=\"all\",subset=select_mirna.columns,axis=0)\n",
    "merged_all = merged_all.dropna(how=\"all\",subset=select_chromatin.columns,axis=0)\n",
    "merged_all = merged_all.dropna(how=\"all\",subset=select_rppa.columns,axis=0)\n",
    "\n",
    "merged_all = merged_all.dropna(how=\"any\",subset=is_msi.columns,axis=0)\n",
    "merged_all = merged_all.dropna(how=\"any\",subset=ploidy.columns,axis=0)\n",
    "merged_all = merged_all.dropna(how=\"any\",subset=ancestry.columns,axis=0)"
   ]
  },
  {
   "cell_type": "markdown",
   "metadata": {},
   "source": [
    "## Drop low-representation lineages"
   ]
  },
  {
   "cell_type": "code",
   "execution_count": 12,
   "metadata": {
    "ExecuteTime": {
     "end_time": "2019-09-21T23:50:18.749084Z",
     "start_time": "2019-09-21T23:50:18.735123Z"
    }
   },
   "outputs": [],
   "source": [
    "type_counts = Counter(merged_all[\"type_refined\"])\n",
    "merged_all[\"type_count\"] = merged_all[\"type_refined\"].apply(lambda x: type_counts[x])\n",
    "merged_all = merged_all[merged_all[\"type_count\"]>=5]"
   ]
  },
  {
   "cell_type": "markdown",
   "metadata": {},
   "source": [
    "## Order subtypes"
   ]
  },
  {
   "cell_type": "code",
   "execution_count": 13,
   "metadata": {
    "ExecuteTime": {
     "end_time": "2019-09-21T23:50:18.778784Z",
     "start_time": "2019-09-21T23:50:18.750654Z"
    }
   },
   "outputs": [],
   "source": [
    "cluster_df = merged_all[continuous_annotations]\n",
    "\n",
    "cluster_df, align_subtypes = cluster_df.align(subtypes,axis=0,join=\"inner\")"
   ]
  },
  {
   "cell_type": "code",
   "execution_count": 14,
   "metadata": {
    "ExecuteTime": {
     "end_time": "2019-09-21T23:50:20.130965Z",
     "start_time": "2019-09-21T23:50:18.780278Z"
    }
   },
   "outputs": [
    {
     "data": {
      "image/png": "[encoded data removed]",
      "text/plain": [
       "<Figure size 432x288 with 1 Axes>"
      ]
     },
     "metadata": {
      "needs_background": "light"
     },
     "output_type": "display_data"
    }
   ],
   "source": [
    "subtype_means = cluster_df.groupby(align_subtypes).mean()\n",
    "\n",
    "subtype_linkage = hc.linkage(subtype_means.fillna(subtype_means.mean()), method='ward')\n",
    "leaf_order = hc.dendrogram(subtype_linkage)[\"leaves\"]\n",
    "\n",
    "subtype_order = np.array(subtype_means.index)[leaf_order]\n",
    "subtype_order = dict(zip(subtype_order,range(len(subtype_order))))"
   ]
  },
  {
   "cell_type": "code",
   "execution_count": 15,
   "metadata": {
    "ExecuteTime": {
     "end_time": "2019-09-21T23:50:20.378066Z",
     "start_time": "2019-09-21T23:50:20.132640Z"
    }
   },
   "outputs": [],
   "source": [
    "merged_all[\"type_order_index\"] = merged_all[\"type_refined\"].apply(lambda x: subtype_order[x])\n",
    "merged_all = merged_all.sort_values(by=\"type_order_index\")\n",
    "\n",
    "def within_subtype_order(subtype_annotations):\n",
    "    continuous = subtype_annotations[continuous_annotations]\n",
    "    \n",
    "    cell_line_linkage = hc.linkage(continuous.fillna(0), method='ward')\n",
    "    leaf_order = hc.dendrogram(cell_line_linkage,no_plot=True)[\"leaves\"]\n",
    "    \n",
    "    return np.array(continuous.index[leaf_order])\n",
    "\n",
    "total_order = pd.DataFrame(merged_all.groupby(\"type_refined\").apply(within_subtype_order))\n",
    "total_order[\"type_order_index\"] = total_order.index.map(lambda x: subtype_order[x])\n",
    "total_order = total_order.sort_values(by=\"type_order_index\")\n",
    "total_order = np.concatenate(total_order[0])\n",
    "\n",
    "merged_all = merged_all.loc[total_order]"
   ]
  },
  {
   "cell_type": "markdown",
   "metadata": {},
   "source": [
    "# Prepare final plot"
   ]
  },
  {
   "cell_type": "markdown",
   "metadata": {},
   "source": [
    "## Subtypes"
   ]
  },
  {
   "cell_type": "code",
   "execution_count": 16,
   "metadata": {
    "ExecuteTime": {
     "end_time": "2019-09-21T23:50:20.395735Z",
     "start_time": "2019-09-21T23:50:20.379635Z"
    }
   },
   "outputs": [],
   "source": [
    "unique_types = pd.DataFrame(merged_all[\"type_refined\"].drop_duplicates(keep=\"first\"))\n",
    "unique_types.index = np.arange(len(unique_types))\n",
    "\n",
    "type_counts = dict(Counter(merged_all[\"type_refined\"]))\n",
    "\n",
    "unique_types[\"count\"] = unique_types[\"type_refined\"].apply(lambda x: type_counts[x])\n",
    "\n",
    "total_lines = unique_types[\"count\"].sum()\n",
    "\n",
    "unique_types[\"cumulative_count\"] = unique_types[\"count\"].cumsum()\n",
    "unique_types[\"cumulative_offset\"] = [0]+list(unique_types[\"cumulative_count\"][:-1])\n",
    "\n",
    "unique_types[\"spaced_position\"] = unique_types.index/len(unique_types)*total_lines+total_lines/len(unique_types)*0.5\n",
    "\n",
    "subtype_palette = sns.color_palette(\"tab20c\", len(unique_types[\"type_refined\"].unique()))\n",
    "subtype_color_map = dict(zip(unique_types[\"type_refined\"].unique(), subtype_palette))\n",
    "subtype_colors = unique_types[\"type_refined\"].map(subtype_color_map)\n",
    "\n",
    "unique_types[\"subtype_color\"] = subtype_colors\n",
    "\n",
    "def plot_subtype(row,ax):\n",
    "    y = [row[\"cumulative_offset\"],\n",
    "         row[\"cumulative_offset\"],\n",
    "         row[\"spaced_position\"],\n",
    "         row[\"cumulative_count\"],\n",
    "         row[\"cumulative_count\"]\n",
    "        ]\n",
    "    \n",
    "    x = [0,-1,-2,-1,0]\n",
    "    \n",
    "    ax.fill(x,y,c=row[\"subtype_color\"])\n",
    "    \n",
    "    ax.plot([-2.75],[row[\"spaced_position\"]],marker=\"o\",c=row[\"subtype_color\"],markersize=8)\n",
    "    \n",
    "    ax.text(-4,row[\"spaced_position\"],row[\"type_refined\"],ha=\"right\",va=\"center\")\n",
    "    \n",
    "    ax.set_xlim(-14,0)\n",
    "    \n",
    "    ax.set_title(\"Cancer type\")\n",
    "\n",
    "def plot_all_subtypes(ax):\n",
    "    \n",
    "    unique_types.apply(plot_subtype,ax=ax,axis=1)\n",
    "    ax.set_ylim(0,total_lines)\n",
    "\n",
    "    ax.axis('off')"
   ]
  },
  {
   "cell_type": "markdown",
   "metadata": {},
   "source": [
    "## Mutations"
   ]
  },
  {
   "cell_type": "code",
   "execution_count": 17,
   "metadata": {
    "ExecuteTime": {
     "end_time": "2019-09-21T23:50:20.401988Z",
     "start_time": "2019-09-21T23:50:20.397521Z"
    }
   },
   "outputs": [],
   "source": [
    "def plot_mutations(ax):\n",
    "    muts_info = merged_all[list(muts.columns)[::-1]+list(tertp_mut.columns)].astype(float)\n",
    "\n",
    "    muts_info = muts_info.rename({\"TERT_promoter_mutation\":\"TERT promoter\"},axis=1)\n",
    "\n",
    "    muts_info = muts_info.fillna(0.5)\n",
    "\n",
    "    muts_cmap = sns.color_palette([\"#ffffff\",\"#eaeaea\",\"#364f6b\"])\n",
    "\n",
    "    sns.heatmap(muts_info,\n",
    "                cmap=muts_cmap,\n",
    "                cbar=False,\n",
    "                yticklabels=False,\n",
    "                ax=ax)\n",
    "    \n",
    "    ax.set_title(\"Mutations\")"
   ]
  },
  {
   "cell_type": "markdown",
   "metadata": {},
   "source": [
    "## Fusions"
   ]
  },
  {
   "cell_type": "code",
   "execution_count": 18,
   "metadata": {
    "ExecuteTime": {
     "end_time": "2019-09-21T23:50:20.406377Z",
     "start_time": "2019-09-21T23:50:20.403678Z"
    }
   },
   "outputs": [],
   "source": [
    "def plot_fusions(ax):\n",
    "    fusions_info = merged_all[select_fusions.columns].astype(float)\n",
    "\n",
    "    fusions_cmap = sns.color_palette([\"#ffffff\",\"#364f6b\"])\n",
    "\n",
    "    sns.heatmap(fusions_info,\n",
    "                cmap=fusions_cmap,\n",
    "                cbar=False,\n",
    "                yticklabels=False,\n",
    "                ax=ax\n",
    "               )\n",
    "    \n",
    "    ax.set_title(\"Fusions\")"
   ]
  },
  {
   "cell_type": "markdown",
   "metadata": {},
   "source": [
    "## Continuous"
   ]
  },
  {
   "cell_type": "code",
   "execution_count": 19,
   "metadata": {
    "ExecuteTime": {
     "end_time": "2019-09-21T23:50:20.411429Z",
     "start_time": "2019-09-21T23:50:20.407774Z"
    }
   },
   "outputs": [],
   "source": [
    "def plot_clustered(continuous_annotations,ax,title):\n",
    "\n",
    "    annotation_linkage = hc.linkage(continuous_annotations.fillna(continuous_annotations.mean()).T, \n",
    "                                    method='ward')\n",
    "    leaf_order = hc.dendrogram(annotation_linkage,no_plot=True)[\"leaves\"]\n",
    "    \n",
    "    annotation_order = np.array(continuous_annotations.columns)[leaf_order]\n",
    "    \n",
    "    sns.heatmap(continuous_annotations.loc[:,annotation_order],\n",
    "                ax=ax,\n",
    "                cbar=False,\n",
    "                xticklabels=False,\n",
    "                yticklabels=False,\n",
    "                cmap=\"bwr\",\n",
    "                rasterized=True\n",
    "               )\n",
    "    \n",
    "    ax.set_title(title)\n"
   ]
  },
  {
   "cell_type": "markdown",
   "metadata": {},
   "source": [
    "## MSI, ploidy, and ancestry"
   ]
  },
  {
   "cell_type": "code",
   "execution_count": 20,
   "metadata": {
    "ExecuteTime": {
     "end_time": "2019-09-21T23:50:20.421359Z",
     "start_time": "2019-09-21T23:50:20.413017Z"
    }
   },
   "outputs": [],
   "source": [
    "def plot_other(ax):\n",
    "\n",
    "    other_annotations = merged_all[[\n",
    "        \"CCLE.MSI.call\", \"ploidy\", \"inferred_ancestry\"]]\n",
    "\n",
    "    other_annotations.columns = [\"MSI\", \"Ploidy\", \"Ancestry\"]\n",
    "\n",
    "    # other_annotations[\"Ploidy\"] = np.log2(other_annotations[\"Ploidy\"])\n",
    "\n",
    "    ancestry_map = {\"African_ancestry\": 0,\n",
    "                    \"Asian_ancestry\": 1, \"European_ancestry\": 2}\n",
    "    other_annotations[\"Ancestry\"] = other_annotations[\"Ancestry\"].apply(\n",
    "        lambda x: ancestry_map[x])\n",
    "\n",
    "    other_annotations = other_annotations.astype(float)\n",
    "\n",
    "    top = cm.get_cmap('Oranges_r', 128)\n",
    "    bottom = cm.get_cmap('Blues', 128)\n",
    "\n",
    "    newcolors = np.vstack((top(np.linspace(0, 1, 128)),\n",
    "                           bottom(np.linspace(0, 1, 128))))\n",
    "\n",
    "    premask = np.tile(np.arange(other_annotations.shape[1]), other_annotations.shape[0]).reshape(\n",
    "        other_annotations.shape)\n",
    "\n",
    "    col = np.ma.array(other_annotations, mask=premask != 0)\n",
    "    ax.imshow(col, aspect=\"auto\",cmap=ListedColormap([\"white\",\"#364f6b\"]))\n",
    "\n",
    "    col = np.ma.array(other_annotations, mask=premask != 1)\n",
    "    ax.imshow(col, aspect=\"auto\",cmap=\"bwr\",vmin=0,vmax=4)\n",
    "\n",
    "    col = np.ma.array(other_annotations, mask=premask != 2)\n",
    "    ax.imshow(col, aspect=\"auto\",cmap=ListedColormap([\"#ff7e67\",\"#a2d5f2\",\"#3f72af\"]))\n",
    "\n",
    "    ax.xaxis.tick_top()\n",
    "    ax.set_xticks([0,1,2])\n",
    "    ax.set_xticklabels([\"MSI\",\"Ploidy\",\"Ancestry\"],rotation=90)\n",
    "\n",
    "    ax.set_yticks([])\n",
    "    ax.spines[\"top\"].set_visible(False)\n",
    "    ax.spines[\"right\"].set_visible(False)\n",
    "    ax.spines[\"left\"].set_visible(False)\n",
    "    ax.spines[\"bottom\"].set_visible(False)"
   ]
  },
  {
   "cell_type": "markdown",
   "metadata": {},
   "source": [
    "# Make final plot"
   ]
  },
  {
   "cell_type": "code",
   "execution_count": 21,
   "metadata": {
    "ExecuteTime": {
     "end_time": "2019-09-21T23:50:20.425651Z",
     "start_time": "2019-09-21T23:50:20.422777Z"
    }
   },
   "outputs": [],
   "source": [
    "def subtype_dendrogram(ax):\n",
    "\n",
    "    hc.dendrogram(subtype_linkage,orientation=\"left\",\n",
    "                  ax=ax,\n",
    "                  color_threshold=0,\n",
    "                  link_color_func=lambda k: \"black\"\n",
    "                 )\n",
    "    \n",
    "    ax.axis(\"off\")"
   ]
  },
  {
   "cell_type": "code",
   "execution_count": null,
   "metadata": {
    "ExecuteTime": {
     "start_time": "2019-09-21T23:49:24.704Z"
    }
   },
   "outputs": [],
   "source": [
    "plt.figure(figsize=(20, 12))\n",
    "\n",
    "spine_color = \"grey\"\n",
    "\n",
    "axes_widths = [2, # dendrogram\n",
    "               7, # subtypes\n",
    "               4, # mutations\n",
    "               2, # fusions\n",
    "               4, # copy number\n",
    "               4, # methylation\n",
    "               4, # mRNA expression\n",
    "               4, # splicing\n",
    "               4, # miRNA\n",
    "               3, # chromatin profiling\n",
    "               4, # RPPA\n",
    "               2, # MSI+ploidy+ancestry\n",
    "              ]\n",
    "total_width = sum(axes_widths)\n",
    "\n",
    "cumulative_widths = [sum(axes_widths[:x]) for x in range(len(axes_widths))]\n",
    "\n",
    "axes = [plt.subplot2grid((1,total_width), (0,cumulative_widths[x]),\n",
    "                         colspan=axes_widths[x]) for x in range(len(axes_widths))]\n",
    "\n",
    "subtype_dendrogram(axes[0])\n",
    "plot_all_subtypes(axes[1])\n",
    "\n",
    "plot_mutations(axes[2])\n",
    "plot_fusions(axes[3])\n",
    "\n",
    "plot_clustered(merged_all[select_copynumber.columns],axes[4],\"Copy\\nnumber\")\n",
    "plot_clustered(merged_all[select_meth.columns],axes[5],\"DNA\\nmethylation\")\n",
    "plot_clustered(merged_all[select_genex.columns],axes[6],\"mRNA\\nexpression\")\n",
    "plot_clustered(merged_all[select_exonusage.columns],axes[7],\"Alternative\\nsplicing\")\n",
    "plot_clustered(merged_all[select_mirna.columns],axes[8],\"miRNA\\nexpression\")\n",
    "plot_clustered(merged_all[select_chromatin.columns],axes[9],\"Chromatin\\nprofiling\")\n",
    "plot_clustered(merged_all[select_rppa.columns],axes[10],\"Protein\\n(RPPA)\")\n",
    "\n",
    "plot_other(axes[11])\n",
    "\n",
    "plt.savefig(\"../plots/figure1.pdf\",dpi=512,bbox_inches=\"tight\")"
   ]
  }
 ],
 "metadata": {
  "kernelspec": {
   "display_name": "Python 3",
   "language": "python",
   "name": "python3"
  },
  "language_info": {
   "codemirror_mode": {
    "name": "ipython",
    "version": 3
   },
   "file_extension": ".py",
   "mimetype": "text/x-python",
   "name": "python",
   "nbconvert_exporter": "python",
   "pygments_lexer": "ipython3",
   "version": "3.7.4"
  },
  "notify_time": "5",
  "toc": {
   "base_numbering": 1,
   "nav_menu": {},
   "number_sections": true,
   "sideBar": true,
   "skip_h1_title": false,
   "title_cell": "Table of Contents",
   "title_sidebar": "Contents",
   "toc_cell": false,
   "toc_position": {},
   "toc_section_display": true,
   "toc_window_display": true
  }
 },
 "nbformat": 4,
 "nbformat_minor": 2
}
