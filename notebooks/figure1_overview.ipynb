{
 "cells": [
  {
   "cell_type": "code",
   "execution_count": 1,
   "metadata": {
    "ExecuteTime": {
     "end_time": "2019-09-21T17:32:36.039840Z",
     "start_time": "2019-09-21T17:32:34.964309Z"
    }
   },
   "outputs": [],
   "source": [
    "import pandas as pd\n",
    "import numpy as np\n",
    "import seaborn as sns\n",
    "\n",
    "import matplotlib as mpl\n",
    "from matplotlib import pyplot as plt\n",
    "\n",
    "from scipy.stats import zscore\n",
    "\n",
    "from collections import defaultdict, Counter"
   ]
  },
  {
   "cell_type": "markdown",
   "metadata": {},
   "source": [
    "# Load annotations"
   ]
  },
  {
   "cell_type": "code",
   "execution_count": 7,
   "metadata": {
    "ExecuteTime": {
     "end_time": "2019-09-21T17:35:36.736201Z",
     "start_time": "2019-09-21T17:35:00.246608Z"
    }
   },
   "outputs": [],
   "source": [
    "cell_line_info = pd.read_csv(\"../data/sample_info.csv\")\n",
    "cell_line_annotations = pd.read_excel(\"../data/41586_2019_1186_MOESM4_ESM.xlsx\",\n",
    "                                      sheet_name=\"Cell Line Annotations\")\n",
    "\n",
    "hs_muts = pd.read_hdf(\"../data/hs_muts.h5\",key=\"hs_muts\")\n",
    "damaging_muts = pd.read_hdf(\"../data/damaging_muts.h5\",key=\"damaging_muts\")\n",
    "tertp = pd.read_excel(\"../data/41586_2019_1186_MOESM8_ESM.xlsx\",skiprows=4)\n",
    "\n",
    "fusions = pd.read_csv(\"../data/CCLE_Fusions_20181130.txt\",sep=\"\\t\")\n",
    "copynumber = pd.read_hdf(\"../data/CCLE_gene_cn.hdf\",key=\"copynumber\")\n",
    "copynumber = copynumber.dropna(how=\"any\",thresh=1000,axis=1)\n",
    "\n",
    "tss1kb_meth = pd.read_hdf(\"../data/CCLE_RRBS_TSS1kb_20181022.hdf\",key=\"tss1kb_meth\")\n",
    "\n",
    "ccle_genex = pd.read_hdf(\"../data/CCLE_RNAseq_rsem_genes_tpm_20180929.hdf\",key=\"ccle_genex\")\n",
    "exonusage = pd.read_hdf(\"../data/CCLE_RNAseq_ExonUsageRatio_20180929.hdf\",key=\"exonusage\")\n",
    "\n",
    "mirna = pd.read_hdf(\"../data/CCLE_miRNA_20181103.hdf\",key=\"mirna\")\n",
    "chromatin_profiling = pd.read_hdf(\"../data/CCLE_GlobalChromatinProfiling_20181130.hdf\",key=\"chromatin_profiling\")\n",
    "rppa = pd.read_hdf(\"../data/CCLE_RPPA_20181003.hdf\",key=\"rppa\")\n",
    "\n",
    "msi = pd.read_excel(\"../data/41586_2019_1186_MOESM10_ESM.xlsx\",sheet_name=\"MSI calls\")\n",
    "absolute = pd.read_excel(\"../data/CCLE_ABSOLUTE_combined_20181227.xlsx\",\n",
    "                         sheet_name = \"ABSOLUTE_combined.table\")"
   ]
  },
  {
   "cell_type": "markdown",
   "metadata": {},
   "source": [
    "# Cell line primary sites"
   ]
  },
  {
   "cell_type": "code",
   "execution_count": 59,
   "metadata": {
    "ExecuteTime": {
     "end_time": "2019-09-21T18:07:50.413985Z",
     "start_time": "2019-09-21T18:07:50.405890Z"
    }
   },
   "outputs": [],
   "source": [
    "subtypes = cell_line_annotations[[\"depMapID\",\"type_refined\"]].set_index(\"depMapID\")\n",
    "subtypes = subtypes[\"type_refined\"]\n",
    "subtypes = subtypes.dropna()\n",
    "subtypes = subtypes.apply(lambda x: x.capitalize().replace(\"_\",\" \"))\n",
    "\n",
    "rename_map = {\"T-cell lymphoma other\":\"Other T-cell lymphoma\",\n",
    "              \"Aml\":\"AML\",\n",
    "              \"Ewings sarcoma\": \"Ewing's sarcoma\",\n",
    "              \"Fibroblast like\":\"Fibroblast-like\",\n",
    "              \"Lung nsc\":\"Lunc, NSC\",\n",
    "              \"Lymphoma hodgkin\":\"Hodgkin's lymphoma\",\n",
    "              \"Lymphoma dlbcl\":\"DLBCL\",\n",
    "              \"T-cell all\":\"T-cell ALL\",\n",
    "              \"B-cell all\":\"B-cell ALL\",\n",
    "              \"Cml\":\"CML\",\n",
    "              \"B-cell lymphoma other\":\"Other B-cell lymphoma\",\n",
    "              \"Leukemia other\":\"Other leukemia\"\n",
    "             }\n",
    "\n",
    "subtypes = subtypes.apply(lambda x:rename_map.get(x,x))"
   ]
  },
  {
   "cell_type": "markdown",
   "metadata": {},
   "source": [
    "# Top recurrent mutations"
   ]
  },
  {
   "cell_type": "code",
   "execution_count": 16,
   "metadata": {
    "ExecuteTime": {
     "end_time": "2019-09-21T17:39:04.563870Z",
     "start_time": "2019-09-21T17:39:01.035172Z"
    }
   },
   "outputs": [],
   "source": [
    "def get_top_muts():\n",
    "    \n",
    "    align_hs_muts, align_damaging_muts = hs_muts.align(damaging_muts,join=\"outer\",axis=1)\n",
    "    align_hs_muts = align_hs_muts.fillna(0)\n",
    "    align_damaging_muts = align_damaging_muts.fillna(0)\n",
    "    \n",
    "    hs_damaging_muts = (align_hs_muts+align_damaging_muts).clip(0,1)\n",
    "        \n",
    "    mut_totals = hs_damaging_muts.sum()\n",
    "    mut_totals = mut_totals.sort_values()\n",
    "    \n",
    "    return hs_damaging_muts[mut_totals.index[-8:]]\n",
    "    \n",
    "muts = get_top_muts()"
   ]
  },
  {
   "cell_type": "markdown",
   "metadata": {},
   "source": [
    "# Fusions"
   ]
  },
  {
   "cell_type": "code",
   "execution_count": 17,
   "metadata": {
    "ExecuteTime": {
     "end_time": "2019-09-21T17:39:10.470656Z",
     "start_time": "2019-09-21T17:39:04.565217Z"
    }
   },
   "outputs": [],
   "source": [
    "def get_fusions():\n",
    "\n",
    "    fusions[\"value\"] = 1\n",
    "\n",
    "    fusions_mat = pd.pivot_table(fusions, values=\"value\",\n",
    "                                index=[\"BroadID\"], columns=\"X.FusionName\", fill_value=0)\n",
    "    \n",
    "    fusions_mat.columns = fusions_mat.columns.map(lambda x: x.replace(\"--\",\"-\"))\n",
    "\n",
    "    return fusions_mat[[\"BCR-ABL1\",\"EWSR1-FLI1\",\"KMT2A-MLLT3\"]]\n",
    "\n",
    "select_fusions = get_fusions()"
   ]
  },
  {
   "cell_type": "markdown",
   "metadata": {},
   "source": [
    "# Top continuous annotations"
   ]
  },
  {
   "cell_type": "code",
   "execution_count": 18,
   "metadata": {
    "ExecuteTime": {
     "end_time": "2019-09-21T17:39:10.475805Z",
     "start_time": "2019-09-21T17:39:10.472374Z"
    }
   },
   "outputs": [],
   "source": [
    "def top_variable(annotations, top_n,clip_left=-3,clip_right=3):\n",
    "    \n",
    "    stdevs = annotations.std()\n",
    "    stdevs = stdevs.sort_values()\n",
    "    \n",
    "    top_names = stdevs.index[-top_n:]\n",
    "    \n",
    "    top_annotations = annotations[top_names]\n",
    "    top_annotations = (top_annotations - top_annotations.mean())/top_annotations.std()\n",
    "    \n",
    "    top_annotations = top_annotations.clip(clip_left,clip_right)\n",
    "    \n",
    "    return top_annotations"
   ]
  },
  {
   "cell_type": "code",
   "execution_count": 19,
   "metadata": {
    "ExecuteTime": {
     "end_time": "2019-09-21T17:39:16.289081Z",
     "start_time": "2019-09-21T17:39:10.477528Z"
    }
   },
   "outputs": [],
   "source": [
    "select_copynumber = top_variable(copynumber, 1000)\n",
    "select_meth = top_variable(tss1kb_meth, 1000)\n",
    "select_genex = top_variable(ccle_genex, 1000)\n",
    "select_exonusage = top_variable(exonusage, 1000)\n",
    "select_mirna = top_variable(mirna, 1000)\n",
    "select_chromatin = top_variable(chromatin_profiling, 1000)\n",
    "select_rppa = top_variable(rppa, 1000)"
   ]
  },
  {
   "cell_type": "markdown",
   "metadata": {},
   "source": [
    "# MSI, ploidy, and ancestry"
   ]
  },
  {
   "cell_type": "code",
   "execution_count": 20,
   "metadata": {
    "ExecuteTime": {
     "end_time": "2019-09-21T17:39:16.301236Z",
     "start_time": "2019-09-21T17:39:16.290724Z"
    }
   },
   "outputs": [],
   "source": [
    "is_msi = msi[msi[\"CCLE.MSI.call\"].isin(['inferred-MSI','inferred-MSS'])]\n",
    "is_msi = is_msi[[\"depMapID\",\"CCLE.MSI.call\"]].set_index(\"depMapID\")\n",
    "is_msi = is_msi == \"inferred-MSI\"\n",
    "\n",
    "ploidy = absolute[[\"depMapID\",\"ploidy\"]].set_index(\"depMapID\")\n",
    "ancestry = cell_line_annotations[[\"inferred_ancestry\",\"depMapID\"]].set_index(\"depMapID\").dropna()"
   ]
  },
  {
   "cell_type": "markdown",
   "metadata": {},
   "source": [
    "# Cluster subtypes"
   ]
  },
  {
   "cell_type": "code",
   "execution_count": 60,
   "metadata": {
    "ExecuteTime": {
     "end_time": "2019-09-21T18:07:52.703230Z",
     "start_time": "2019-09-21T18:07:52.548812Z"
    }
   },
   "outputs": [],
   "source": [
    "cluster_df = pd.concat([select_copynumber,\n",
    "                        select_meth,\n",
    "                        select_genex,\n",
    "                        select_exonusage,\n",
    "                        select_mirna,\n",
    "                        select_chromatin,\n",
    "                        select_rppa\n",
    "                       ],join=\"outer\",axis=1,sort=True)\n",
    "\n",
    "cluster_df, align_subtypes = cluster_df.align(subtypes,axis=0,join=\"inner\")"
   ]
  },
  {
   "cell_type": "code",
   "execution_count": 49,
   "metadata": {
    "ExecuteTime": {
     "end_time": "2019-09-21T18:05:07.951500Z",
     "start_time": "2019-09-21T18:05:06.914524Z"
    }
   },
   "outputs": [],
   "source": [
    "import scipy.spatial as sp\n",
    "import scipy.cluster.hierarchy as hc\n",
    "\n",
    "subtype_means = cluster_df.groupby(align_subtypes).mean()\n",
    "\n",
    "cpg_linkage = hc.linkage(subtype_means.fillna(subtype_means.mean()), method='ward')"
   ]
  },
  {
   "cell_type": "code",
   "execution_count": 58,
   "metadata": {
    "ExecuteTime": {
     "end_time": "2019-09-21T18:07:25.017584Z",
     "start_time": "2019-09-21T18:07:25.013346Z"
    }
   },
   "outputs": [
    {
     "data": {
      "text/plain": [
       "Index(['Lymphoma burkitt', 'Lymphoma dlbcl', 'Other B-cell lymphoma',\n",
       "       'Multiple myeloma', 'Hodgkin's lymphoma', 'Other T-cell lymphoma',\n",
       "       'AML', 'CML', 'T-cell ALL', 'B-cell ALL', 'Other leukemia', 'Other',\n",
       "       'Bile duct', 'Pancreas', 'Colorectal', 'Stomach', 'Cervix', 'Esophagus',\n",
       "       'Upper aerodigestive', 'Urinary tract', 'Breast', 'Lunc, NSC',\n",
       "       'Lung small cell', 'Prostate', 'Medulloblastoma', 'Ewing's sarcoma',\n",
       "       'Neuroblastoma', 'Fibroblast-like', 'Giant cell tumour', 'Liver',\n",
       "       'Endometrium', 'Ovary', 'Kidney', 'Mesothelioma', 'Chondrosarcoma',\n",
       "       'Meningioma', 'Osteosarcoma', 'Melanoma', 'Soft tissue', 'Glioma',\n",
       "       'Thyroid'],\n",
       "      dtype='object', name='type_refined')"
      ]
     },
     "execution_count": 58,
     "metadata": {},
     "output_type": "execute_result"
    }
   ],
   "source": [
    "subtype_means.index[leaf_order]"
   ]
  },
  {
   "cell_type": "code",
   "execution_count": 55,
   "metadata": {
    "ExecuteTime": {
     "end_time": "2019-09-21T18:07:11.966570Z",
     "start_time": "2019-09-21T18:07:11.582180Z"
    }
   },
   "outputs": [
    {
     "data": {
      "image/png": "[encoded data removed]",
      "text/plain": [
       "<Figure size 432x288 with 1 Axes>"
      ]
     },
     "metadata": {
      "needs_background": "light"
     },
     "output_type": "display_data"
    }
   ],
   "source": [
    "leaf_order = hc.dendrogram(cpg_linkage)[\"leaves\"]"
   ]
  }
 ],
 "metadata": {
  "kernelspec": {
   "display_name": "Python 3",
   "language": "python",
   "name": "python3"
  },
  "language_info": {
   "codemirror_mode": {
    "name": "ipython",
    "version": 3
   },
   "file_extension": ".py",
   "mimetype": "text/x-python",
   "name": "python",
   "nbconvert_exporter": "python",
   "pygments_lexer": "ipython3",
   "version": "3.7.4"
  },
  "notify_time": "5",
  "toc": {
   "base_numbering": 1,
   "nav_menu": {},
   "number_sections": true,
   "sideBar": true,
   "skip_h1_title": false,
   "title_cell": "Table of Contents",
   "title_sidebar": "Contents",
   "toc_cell": false,
   "toc_position": {},
   "toc_section_display": true,
   "toc_window_display": false
  }
 },
 "nbformat": 4,
 "nbformat_minor": 2
}
