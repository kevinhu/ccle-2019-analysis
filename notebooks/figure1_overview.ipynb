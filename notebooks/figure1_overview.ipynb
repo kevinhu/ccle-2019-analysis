{
 "cells": [
  {
   "cell_type": "code",
   "execution_count": 1,
   "metadata": {
    "ExecuteTime": {
     "end_time": "2019-09-21T17:32:36.039840Z",
     "start_time": "2019-09-21T17:32:34.964309Z"
    }
   },
   "outputs": [],
   "source": [
    "import pandas as pd\n",
    "import numpy as np\n",
    "import seaborn as sns\n",
    "\n",
    "import matplotlib as mpl\n",
    "from matplotlib import pyplot as plt\n",
    "\n",
    "from scipy.stats import zscore\n",
    "\n",
    "from collections import defaultdict, Counter"
   ]
  },
  {
   "cell_type": "markdown",
   "metadata": {},
   "source": [
    "# Load annotations"
   ]
  },
  {
   "cell_type": "code",
   "execution_count": 7,
   "metadata": {
    "ExecuteTime": {
     "end_time": "2019-09-21T17:35:36.736201Z",
     "start_time": "2019-09-21T17:35:00.246608Z"
    }
   },
   "outputs": [],
   "source": [
    "cell_line_info = pd.read_csv(\"../data/sample_info.csv\")\n",
    "cell_line_annotations = pd.read_excel(\"../data/41586_2019_1186_MOESM4_ESM.xlsx\",\n",
    "                                      sheet_name=\"Cell Line Annotations\")\n",
    "\n",
    "hs_muts = pd.read_hdf(\"../data/hs_muts.h5\",key=\"hs_muts\")\n",
    "damaging_muts = pd.read_hdf(\"../data/damaging_muts.h5\",key=\"damaging_muts\")\n",
    "tertp = pd.read_excel(\"../data/41586_2019_1186_MOESM8_ESM.xlsx\",skiprows=4)\n",
    "\n",
    "fusions = pd.read_csv(\"../data/CCLE_Fusions_20181130.txt\",sep=\"\\t\")\n",
    "copynumber = pd.read_hdf(\"../data/CCLE_gene_cn.hdf\",key=\"copynumber\")\n",
    "copynumber = copynumber.dropna(how=\"any\",thresh=1000,axis=1)\n",
    "\n",
    "tss1kb_meth = pd.read_hdf(\"../data/CCLE_RRBS_TSS1kb_20181022.hdf\",key=\"tss1kb_meth\")\n",
    "\n",
    "ccle_genex = pd.read_hdf(\"../data/CCLE_RNAseq_rsem_genes_tpm_20180929.hdf\",key=\"ccle_genex\")\n",
    "exonusage = pd.read_hdf(\"../data/CCLE_RNAseq_ExonUsageRatio_20180929.hdf\",key=\"exonusage\")\n",
    "\n",
    "mirna = pd.read_hdf(\"../data/CCLE_miRNA_20181103.hdf\",key=\"mirna\")\n",
    "chromatin_profiling = pd.read_hdf(\"../data/CCLE_GlobalChromatinProfiling_20181130.hdf\",key=\"chromatin_profiling\")\n",
    "rppa = pd.read_hdf(\"../data/CCLE_RPPA_20181003.hdf\",key=\"rppa\")\n",
    "\n",
    "msi = pd.read_excel(\"../data/41586_2019_1186_MOESM10_ESM.xlsx\",sheet_name=\"MSI calls\")\n",
    "absolute = pd.read_excel(\"../data/CCLE_ABSOLUTE_combined_20181227.xlsx\",\n",
    "                         sheet_name = \"ABSOLUTE_combined.table\")"
   ]
  },
  {
   "cell_type": "markdown",
   "metadata": {},
   "source": [
    "# Cell line primary sites"
   ]
  },
  {
   "cell_type": "code",
   "execution_count": 59,
   "metadata": {
    "ExecuteTime": {
     "end_time": "2019-09-21T18:07:50.413985Z",
     "start_time": "2019-09-21T18:07:50.405890Z"
    }
   },
   "outputs": [],
   "source": [
    "subtypes = cell_line_annotations[[\"depMapID\",\"type_refined\"]].set_index(\"depMapID\")\n",
    "subtypes = subtypes[\"type_refined\"]\n",
    "subtypes = subtypes.dropna()\n",
    "subtypes = subtypes.apply(lambda x: x.capitalize().replace(\"_\",\" \"))\n",
    "\n",
    "rename_map = {\"T-cell lymphoma other\":\"Other T-cell lymphoma\",\n",
    "              \"Aml\":\"AML\",\n",
    "              \"Ewings sarcoma\": \"Ewing's sarcoma\",\n",
    "              \"Fibroblast like\":\"Fibroblast-like\",\n",
    "              \"Lung nsc\":\"Lunc, NSC\",\n",
    "              \"Lymphoma hodgkin\":\"Hodgkin's lymphoma\",\n",
    "              \"Lymphoma dlbcl\":\"DLBCL\",\n",
    "              \"T-cell all\":\"T-cell ALL\",\n",
    "              \"B-cell all\":\"B-cell ALL\",\n",
    "              \"Cml\":\"CML\",\n",
    "              \"B-cell lymphoma other\":\"Other B-cell lymphoma\",\n",
    "              \"Leukemia other\":\"Other leukemia\"\n",
    "             }\n",
    "\n",
    "subtypes = subtypes.apply(lambda x:rename_map.get(x,x))"
   ]
  },
  {
   "cell_type": "markdown",
   "metadata": {},
   "source": [
    "# Top recurrent mutations"
   ]
  },
  {
   "cell_type": "code",
   "execution_count": 16,
   "metadata": {
    "ExecuteTime": {
     "end_time": "2019-09-21T17:39:04.563870Z",
     "start_time": "2019-09-21T17:39:01.035172Z"
    }
   },
   "outputs": [],
   "source": [
    "def get_top_muts():\n",
    "    \n",
    "    align_hs_muts, align_damaging_muts = hs_muts.align(damaging_muts,join=\"outer\",axis=1)\n",
    "    align_hs_muts = align_hs_muts.fillna(0)\n",
    "    align_damaging_muts = align_damaging_muts.fillna(0)\n",
    "    \n",
    "    hs_damaging_muts = (align_hs_muts+align_damaging_muts).clip(0,1)\n",
    "        \n",
    "    mut_totals = hs_damaging_muts.sum()\n",
    "    mut_totals = mut_totals.sort_values()\n",
    "    \n",
    "    return hs_damaging_muts[mut_totals.index[-8:]]\n",
    "    \n",
    "muts = get_top_muts()"
   ]
  },
  {
   "cell_type": "markdown",
   "metadata": {},
   "source": [
    "# TERT promoter mutations"
   ]
  },
  {
   "cell_type": "code",
   "execution_count": 69,
   "metadata": {
    "ExecuteTime": {
     "end_time": "2019-09-21T18:12:56.345900Z",
     "start_time": "2019-09-21T18:12:56.340664Z"
    }
   },
   "outputs": [],
   "source": [
    "tertp_mut = tertp[[\"depMapID\",\"TERT_promoter_mutation\"]].set_index(\"depMapID\")!=\"wildtype\""
   ]
  },
  {
   "cell_type": "markdown",
   "metadata": {},
   "source": [
    "# Fusions"
   ]
  },
  {
   "cell_type": "code",
   "execution_count": 17,
   "metadata": {
    "ExecuteTime": {
     "end_time": "2019-09-21T17:39:10.470656Z",
     "start_time": "2019-09-21T17:39:04.565217Z"
    }
   },
   "outputs": [],
   "source": [
    "def get_fusions():\n",
    "\n",
    "    fusions[\"value\"] = 1\n",
    "\n",
    "    fusions_mat = pd.pivot_table(fusions, values=\"value\",\n",
    "                                index=[\"BroadID\"], columns=\"X.FusionName\", fill_value=0)\n",
    "    \n",
    "    fusions_mat.columns = fusions_mat.columns.map(lambda x: x.replace(\"--\",\"-\"))\n",
    "\n",
    "    return fusions_mat[[\"BCR-ABL1\",\"EWSR1-FLI1\",\"KMT2A-MLLT3\"]]\n",
    "\n",
    "select_fusions = get_fusions()"
   ]
  },
  {
   "cell_type": "markdown",
   "metadata": {},
   "source": [
    "# Top continuous annotations"
   ]
  },
  {
   "cell_type": "code",
   "execution_count": 18,
   "metadata": {
    "ExecuteTime": {
     "end_time": "2019-09-21T17:39:10.475805Z",
     "start_time": "2019-09-21T17:39:10.472374Z"
    }
   },
   "outputs": [],
   "source": [
    "def top_variable(annotations, top_n,clip_left=-3,clip_right=3):\n",
    "    \n",
    "    stdevs = annotations.std()\n",
    "    stdevs = stdevs.sort_values()\n",
    "    \n",
    "    top_names = stdevs.index[-top_n:]\n",
    "    \n",
    "    top_annotations = annotations[top_names]\n",
    "    top_annotations = (top_annotations - top_annotations.mean())/top_annotations.std()\n",
    "    \n",
    "    top_annotations = top_annotations.clip(clip_left,clip_right)\n",
    "    \n",
    "    return top_annotations"
   ]
  },
  {
   "cell_type": "code",
   "execution_count": 168,
   "metadata": {
    "ExecuteTime": {
     "end_time": "2019-09-21T20:00:15.237894Z",
     "start_time": "2019-09-21T20:00:06.188910Z"
    }
   },
   "outputs": [],
   "source": [
    "select_copynumber = top_variable(copynumber, 1000)\n",
    "select_meth = top_variable(tss1kb_meth, 1000)\n",
    "select_genex = top_variable(ccle_genex, 1000)\n",
    "select_exonusage = top_variable(exonusage, 1000)\n",
    "select_mirna = top_variable(mirna, 1000)\n",
    "select_chromatin = top_variable(chromatin_profiling, 1000)\n",
    "select_rppa = top_variable(rppa, 1000)\n",
    "\n",
    "select_copynumber.columns = [x + \"_copynumber\" for x in select_copynumber.columns]\n",
    "select_meth.columns = [x + \"_meth\" for x in select_meth.columns]\n",
    "select_genex.columns = [x + \"_genex\" for x in select_genex.columns]\n",
    "select_exonusage.columns = [x + \"_exonusage\" for x in select_exonusage.columns]\n",
    "select_mirna.columns = [x + \"_mirna\" for x in select_mirna.columns]\n",
    "select_chromatin.columns = [x + \"_chromatin\" for x in select_chromatin.columns]\n",
    "select_rppa.columns = [x + \"_rppa\" for x in select_rppa.columns]"
   ]
  },
  {
   "cell_type": "markdown",
   "metadata": {},
   "source": [
    "# MSI, ploidy, and ancestry"
   ]
  },
  {
   "cell_type": "code",
   "execution_count": 169,
   "metadata": {
    "ExecuteTime": {
     "end_time": "2019-09-21T20:00:16.292338Z",
     "start_time": "2019-09-21T20:00:16.264613Z"
    }
   },
   "outputs": [],
   "source": [
    "is_msi = msi[msi[\"CCLE.MSI.call\"].isin(['inferred-MSI','inferred-MSS'])]\n",
    "is_msi = is_msi[[\"depMapID\",\"CCLE.MSI.call\"]].set_index(\"depMapID\")\n",
    "is_msi = is_msi == \"inferred-MSI\"\n",
    "\n",
    "ploidy = absolute[[\"depMapID\",\"ploidy\"]].set_index(\"depMapID\")\n",
    "ploidy = ploidy.loc[~ploidy.index.duplicated(keep='first')]\n",
    "\n",
    "ancestry = cell_line_annotations[[\"inferred_ancestry\",\"depMapID\"]].set_index(\"depMapID\").dropna()"
   ]
  },
  {
   "cell_type": "markdown",
   "metadata": {},
   "source": [
    "# Cluster subtypes"
   ]
  },
  {
   "cell_type": "code",
   "execution_count": 170,
   "metadata": {
    "ExecuteTime": {
     "end_time": "2019-09-21T20:00:17.407983Z",
     "start_time": "2019-09-21T20:00:17.270918Z"
    }
   },
   "outputs": [],
   "source": [
    "cluster_df = pd.concat([select_copynumber,\n",
    "                        select_meth,\n",
    "                        select_genex,\n",
    "                        select_exonusage,\n",
    "                        select_mirna,\n",
    "                        select_chromatin,\n",
    "                        select_rppa\n",
    "                       ],join=\"outer\",axis=1,sort=True)\n",
    "\n",
    "cluster_df, align_subtypes = cluster_df.align(subtypes,axis=0,join=\"inner\")"
   ]
  },
  {
   "cell_type": "code",
   "execution_count": 171,
   "metadata": {
    "ExecuteTime": {
     "end_time": "2019-09-21T20:00:20.151142Z",
     "start_time": "2019-09-21T20:00:18.614854Z"
    }
   },
   "outputs": [
    {
     "data": {
      "image/png": "[encoded data removed]",
      "text/plain": [
       "<Figure size 432x288 with 1 Axes>"
      ]
     },
     "metadata": {
      "needs_background": "light"
     },
     "output_type": "display_data"
    }
   ],
   "source": [
    "import scipy.spatial as sp\n",
    "import scipy.cluster.hierarchy as hc\n",
    "\n",
    "subtype_means = cluster_df.groupby(align_subtypes).mean()\n",
    "\n",
    "subtype_linkage = hc.linkage(subtype_means.fillna(subtype_means.mean()), method='ward')\n",
    "leaf_order = hc.dendrogram(subtype_linkage)[\"leaves\"]\n",
    "\n",
    "subtype_order = np.array(subtype_means.index)[leaf_order]\n",
    "subtype_order = dict(zip(subtype_order,range(len(subtype_order))))"
   ]
  },
  {
   "cell_type": "markdown",
   "metadata": {},
   "source": [
    "# Merge all "
   ]
  },
  {
   "cell_type": "code",
   "execution_count": 172,
   "metadata": {
    "ExecuteTime": {
     "end_time": "2019-09-21T20:00:21.178428Z",
     "start_time": "2019-09-21T20:00:21.175122Z"
    }
   },
   "outputs": [],
   "source": [
    "continuous_annotations = np.concatenate([\n",
    "    select_copynumber.columns,\n",
    "    select_meth.columns,\n",
    "    select_genex.columns,\n",
    "    select_exonusage.columns,\n",
    "    select_mirna.columns,\n",
    "    select_chromatin.columns,\n",
    "    select_rppa.columns,\n",
    "])"
   ]
  },
  {
   "cell_type": "code",
   "execution_count": 173,
   "metadata": {
    "ExecuteTime": {
     "end_time": "2019-09-21T20:00:22.532672Z",
     "start_time": "2019-09-21T20:00:22.478539Z"
    }
   },
   "outputs": [],
   "source": [
    "merged_all = pd.concat([\n",
    "                        subtypes,\n",
    "                        \n",
    "                        muts,\n",
    "                        tertp_mut,\n",
    "                        select_fusions,\n",
    "    \n",
    "                        select_copynumber,\n",
    "                        select_meth,\n",
    "                        select_genex,\n",
    "                        select_exonusage,\n",
    "                        select_mirna,\n",
    "                        select_chromatin,\n",
    "                        select_rppa,\n",
    "                        \n",
    "                        is_msi,\n",
    "                        ploidy,\n",
    "                        ancestry,\n",
    "                       ],join=\"outer\",axis=1,sort=True)"
   ]
  },
  {
   "cell_type": "code",
   "execution_count": 174,
   "metadata": {
    "ExecuteTime": {
     "end_time": "2019-09-21T20:00:23.432804Z",
     "start_time": "2019-09-21T20:00:23.224123Z"
    }
   },
   "outputs": [],
   "source": [
    "merged_all = merged_all.dropna(how=\"any\",subset=[\"type_refined\"],axis=0)\n",
    "merged_all = merged_all.dropna(how=\"all\",subset=continuous_annotations,axis=0)\n",
    "merged_all = merged_all.dropna(how=\"any\",subset=is_msi.columns,axis=0)\n",
    "merged_all = merged_all.dropna(how=\"any\",subset=ploidy.columns,axis=0)\n",
    "merged_all = merged_all.dropna(how=\"any\",subset=ancestry.columns,axis=0)"
   ]
  },
  {
   "cell_type": "code",
   "execution_count": 175,
   "metadata": {
    "ExecuteTime": {
     "end_time": "2019-09-21T20:00:24.059966Z",
     "start_time": "2019-09-21T20:00:24.039021Z"
    }
   },
   "outputs": [],
   "source": [
    "merged_all[\"type_order_index\"] = merged_all[\"type_refined\"].apply(lambda x: subtype_order[x])\n",
    "merged_all = merged_all.sort_values(by=\"type_order_index\")"
   ]
  },
  {
   "cell_type": "code",
   "execution_count": 176,
   "metadata": {
    "ExecuteTime": {
     "end_time": "2019-09-21T20:00:24.715647Z",
     "start_time": "2019-09-21T20:00:24.712526Z"
    }
   },
   "outputs": [],
   "source": [
    "def within_subtype_order(subtype_annotations):\n",
    "    continuous = subtype_annotations[continuous_annotations]\n",
    "    \n",
    "    cell_line_linkage = hc.linkage(continuous.fillna(0), method='ward')\n",
    "    leaf_order = hc.dendrogram(cell_line_linkage,no_plot=True)[\"leaves\"]\n",
    "    \n",
    "    return np.array(continuous.index[leaf_order])"
   ]
  },
  {
   "cell_type": "code",
   "execution_count": 177,
   "metadata": {
    "ExecuteTime": {
     "end_time": "2019-09-21T20:00:26.042410Z",
     "start_time": "2019-09-21T20:00:26.024801Z"
    }
   },
   "outputs": [],
   "source": [
    "type_counts = Counter(merged_all[\"type_refined\"])\n",
    "\n",
    "merged_all[\"type_count\"] = merged_all[\"type_refined\"].apply(lambda x: type_counts[x])\n",
    "\n",
    "merged_all = merged_all[merged_all[\"type_count\"]>=5]"
   ]
  },
  {
   "cell_type": "code",
   "execution_count": 178,
   "metadata": {
    "ExecuteTime": {
     "end_time": "2019-09-21T20:00:27.055680Z",
     "start_time": "2019-09-21T20:00:26.778288Z"
    }
   },
   "outputs": [],
   "source": [
    "total_order = pd.DataFrame(merged_all.groupby(\"type_refined\").apply(within_subtype_order))\n",
    "total_order[\"type_order_index\"] = total_order.index.map(lambda x: subtype_order[x])\n",
    "total_order = total_order.sort_values(by=\"type_order_index\")\n",
    "total_order = np.concatenate(total_order[0])\n"
   ]
  },
  {
   "cell_type": "code",
   "execution_count": 179,
   "metadata": {
    "ExecuteTime": {
     "end_time": "2019-09-21T20:00:27.825876Z",
     "start_time": "2019-09-21T20:00:27.807835Z"
    }
   },
   "outputs": [],
   "source": [
    "merged_all = merged_all.loc[total_order]"
   ]
  },
  {
   "cell_type": "code",
   "execution_count": 158,
   "metadata": {
    "ExecuteTime": {
     "end_time": "2019-09-21T19:57:48.505803Z",
     "start_time": "2019-09-21T19:57:48.499598Z"
    }
   },
   "outputs": [
    {
     "data": {
      "text/plain": [
       "['PTEN']"
      ]
     },
     "execution_count": 158,
     "metadata": {},
     "output_type": "execute_result"
    }
   ],
   "source": [
    "column_counts = Counter(merged_all.columns)\n",
    "\n",
    "[x for x in column_counts.keys() if column_counts[x]>1]"
   ]
  },
  {
   "cell_type": "code",
   "execution_count": null,
   "metadata": {},
   "outputs": [],
   "source": [
    "\"PTEN\" in "
   ]
  },
  {
   "cell_type": "code",
   "execution_count": 167,
   "metadata": {
    "ExecuteTime": {
     "end_time": "2019-09-21T19:59:03.690153Z",
     "start_time": "2019-09-21T19:59:03.685247Z"
    }
   },
   "outputs": [
    {
     "data": {
      "text/plain": [
       "ACH-000698    0.242441\n",
       "ACH-000489   -0.695811\n",
       "ACH-000431    0.360386\n",
       "ACH-000707   -2.605445\n",
       "ACH-000509    0.599161\n",
       "                ...   \n",
       "ACH-000428   -0.351209\n",
       "ACH-000655   -0.241845\n",
       "ACH-000273   -2.318684\n",
       "ACH-000504    0.189788\n",
       "ACH-000825    0.831104\n",
       "Name: PTEN, Length: 899, dtype: float64"
      ]
     },
     "execution_count": 167,
     "metadata": {},
     "output_type": "execute_result"
    }
   ],
   "source": [
    "rppa[\"PTEN\"]"
   ]
  },
  {
   "cell_type": "code",
   "execution_count": 154,
   "metadata": {
    "ExecuteTime": {
     "end_time": "2019-09-21T19:56:54.585860Z",
     "start_time": "2019-09-21T19:56:54.565069Z"
    }
   },
   "outputs": [
    {
     "ename": "ValueError",
     "evalue": "Columns index has to be unique for fixed format",
     "output_type": "error",
     "traceback": [
      "\u001b[0;31m---------------------------------------------------------------------------\u001b[0m",
      "\u001b[0;31mValueError\u001b[0m                                Traceback (most recent call last)",
      "\u001b[0;32m<ipython-input-154-a14e74ae2607>\u001b[0m in \u001b[0;36m<module>\u001b[0;34m\u001b[0m\n\u001b[0;32m----> 1\u001b[0;31m \u001b[0mmerged_all\u001b[0m\u001b[0;34m.\u001b[0m\u001b[0mto_hdf\u001b[0m\u001b[0;34m(\u001b[0m\u001b[0;34m\"../data/merged_overview.h5\"\u001b[0m\u001b[0;34m,\u001b[0m\u001b[0mkey\u001b[0m\u001b[0;34m=\u001b[0m\u001b[0;34m\"merged_all\"\u001b[0m\u001b[0;34m)\u001b[0m\u001b[0;34m\u001b[0m\u001b[0;34m\u001b[0m\u001b[0m\n\u001b[0m",
      "\u001b[0;32m~/anaconda3/envs/cenv/lib/python3.7/site-packages/pandas/core/generic.py\u001b[0m in \u001b[0;36mto_hdf\u001b[0;34m(self, path_or_buf, key, **kwargs)\u001b[0m\n\u001b[1;32m   2529\u001b[0m         \u001b[0;32mfrom\u001b[0m \u001b[0mpandas\u001b[0m\u001b[0;34m.\u001b[0m\u001b[0mio\u001b[0m \u001b[0;32mimport\u001b[0m \u001b[0mpytables\u001b[0m\u001b[0;34m\u001b[0m\u001b[0;34m\u001b[0m\u001b[0m\n\u001b[1;32m   2530\u001b[0m \u001b[0;34m\u001b[0m\u001b[0m\n\u001b[0;32m-> 2531\u001b[0;31m         \u001b[0mpytables\u001b[0m\u001b[0;34m.\u001b[0m\u001b[0mto_hdf\u001b[0m\u001b[0;34m(\u001b[0m\u001b[0mpath_or_buf\u001b[0m\u001b[0;34m,\u001b[0m \u001b[0mkey\u001b[0m\u001b[0;34m,\u001b[0m \u001b[0mself\u001b[0m\u001b[0;34m,\u001b[0m \u001b[0;34m**\u001b[0m\u001b[0mkwargs\u001b[0m\u001b[0;34m)\u001b[0m\u001b[0;34m\u001b[0m\u001b[0;34m\u001b[0m\u001b[0m\n\u001b[0m\u001b[1;32m   2532\u001b[0m \u001b[0;34m\u001b[0m\u001b[0m\n\u001b[1;32m   2533\u001b[0m     \u001b[0;32mdef\u001b[0m \u001b[0mto_msgpack\u001b[0m\u001b[0;34m(\u001b[0m\u001b[0mself\u001b[0m\u001b[0;34m,\u001b[0m \u001b[0mpath_or_buf\u001b[0m\u001b[0;34m=\u001b[0m\u001b[0;32mNone\u001b[0m\u001b[0;34m,\u001b[0m \u001b[0mencoding\u001b[0m\u001b[0;34m=\u001b[0m\u001b[0;34m\"utf-8\"\u001b[0m\u001b[0;34m,\u001b[0m \u001b[0;34m**\u001b[0m\u001b[0mkwargs\u001b[0m\u001b[0;34m)\u001b[0m\u001b[0;34m:\u001b[0m\u001b[0;34m\u001b[0m\u001b[0;34m\u001b[0m\u001b[0m\n",
      "\u001b[0;32m~/anaconda3/envs/cenv/lib/python3.7/site-packages/pandas/io/pytables.py\u001b[0m in \u001b[0;36mto_hdf\u001b[0;34m(path_or_buf, key, value, mode, complevel, complib, append, **kwargs)\u001b[0m\n\u001b[1;32m    276\u001b[0m             \u001b[0mpath_or_buf\u001b[0m\u001b[0;34m,\u001b[0m \u001b[0mmode\u001b[0m\u001b[0;34m=\u001b[0m\u001b[0mmode\u001b[0m\u001b[0;34m,\u001b[0m \u001b[0mcomplevel\u001b[0m\u001b[0;34m=\u001b[0m\u001b[0mcomplevel\u001b[0m\u001b[0;34m,\u001b[0m \u001b[0mcomplib\u001b[0m\u001b[0;34m=\u001b[0m\u001b[0mcomplib\u001b[0m\u001b[0;34m\u001b[0m\u001b[0;34m\u001b[0m\u001b[0m\n\u001b[1;32m    277\u001b[0m         ) as store:\n\u001b[0;32m--> 278\u001b[0;31m             \u001b[0mf\u001b[0m\u001b[0;34m(\u001b[0m\u001b[0mstore\u001b[0m\u001b[0;34m)\u001b[0m\u001b[0;34m\u001b[0m\u001b[0;34m\u001b[0m\u001b[0m\n\u001b[0m\u001b[1;32m    279\u001b[0m     \u001b[0;32melse\u001b[0m\u001b[0;34m:\u001b[0m\u001b[0;34m\u001b[0m\u001b[0;34m\u001b[0m\u001b[0m\n\u001b[1;32m    280\u001b[0m         \u001b[0mf\u001b[0m\u001b[0;34m(\u001b[0m\u001b[0mpath_or_buf\u001b[0m\u001b[0;34m)\u001b[0m\u001b[0;34m\u001b[0m\u001b[0;34m\u001b[0m\u001b[0m\n",
      "\u001b[0;32m~/anaconda3/envs/cenv/lib/python3.7/site-packages/pandas/io/pytables.py\u001b[0m in \u001b[0;36m<lambda>\u001b[0;34m(store)\u001b[0m\n\u001b[1;32m    269\u001b[0m         \u001b[0mf\u001b[0m \u001b[0;34m=\u001b[0m \u001b[0;32mlambda\u001b[0m \u001b[0mstore\u001b[0m\u001b[0;34m:\u001b[0m \u001b[0mstore\u001b[0m\u001b[0;34m.\u001b[0m\u001b[0mappend\u001b[0m\u001b[0;34m(\u001b[0m\u001b[0mkey\u001b[0m\u001b[0;34m,\u001b[0m \u001b[0mvalue\u001b[0m\u001b[0;34m,\u001b[0m \u001b[0;34m**\u001b[0m\u001b[0mkwargs\u001b[0m\u001b[0;34m)\u001b[0m\u001b[0;34m\u001b[0m\u001b[0;34m\u001b[0m\u001b[0m\n\u001b[1;32m    270\u001b[0m     \u001b[0;32melse\u001b[0m\u001b[0;34m:\u001b[0m\u001b[0;34m\u001b[0m\u001b[0;34m\u001b[0m\u001b[0m\n\u001b[0;32m--> 271\u001b[0;31m         \u001b[0mf\u001b[0m \u001b[0;34m=\u001b[0m \u001b[0;32mlambda\u001b[0m \u001b[0mstore\u001b[0m\u001b[0;34m:\u001b[0m \u001b[0mstore\u001b[0m\u001b[0;34m.\u001b[0m\u001b[0mput\u001b[0m\u001b[0;34m(\u001b[0m\u001b[0mkey\u001b[0m\u001b[0;34m,\u001b[0m \u001b[0mvalue\u001b[0m\u001b[0;34m,\u001b[0m \u001b[0;34m**\u001b[0m\u001b[0mkwargs\u001b[0m\u001b[0;34m)\u001b[0m\u001b[0;34m\u001b[0m\u001b[0;34m\u001b[0m\u001b[0m\n\u001b[0m\u001b[1;32m    272\u001b[0m \u001b[0;34m\u001b[0m\u001b[0m\n\u001b[1;32m    273\u001b[0m     \u001b[0mpath_or_buf\u001b[0m \u001b[0;34m=\u001b[0m \u001b[0m_stringify_path\u001b[0m\u001b[0;34m(\u001b[0m\u001b[0mpath_or_buf\u001b[0m\u001b[0;34m)\u001b[0m\u001b[0;34m\u001b[0m\u001b[0;34m\u001b[0m\u001b[0m\n",
      "\u001b[0;32m~/anaconda3/envs/cenv/lib/python3.7/site-packages/pandas/io/pytables.py\u001b[0m in \u001b[0;36mput\u001b[0;34m(self, key, value, format, append, **kwargs)\u001b[0m\n\u001b[1;32m    957\u001b[0m             \u001b[0mformat\u001b[0m \u001b[0;34m=\u001b[0m \u001b[0mget_option\u001b[0m\u001b[0;34m(\u001b[0m\u001b[0;34m\"io.hdf.default_format\"\u001b[0m\u001b[0;34m)\u001b[0m \u001b[0;32mor\u001b[0m \u001b[0;34m\"fixed\"\u001b[0m\u001b[0;34m\u001b[0m\u001b[0;34m\u001b[0m\u001b[0m\n\u001b[1;32m    958\u001b[0m         \u001b[0mkwargs\u001b[0m \u001b[0;34m=\u001b[0m \u001b[0mself\u001b[0m\u001b[0;34m.\u001b[0m\u001b[0m_validate_format\u001b[0m\u001b[0;34m(\u001b[0m\u001b[0mformat\u001b[0m\u001b[0;34m,\u001b[0m \u001b[0mkwargs\u001b[0m\u001b[0;34m)\u001b[0m\u001b[0;34m\u001b[0m\u001b[0;34m\u001b[0m\u001b[0m\n\u001b[0;32m--> 959\u001b[0;31m         \u001b[0mself\u001b[0m\u001b[0;34m.\u001b[0m\u001b[0m_write_to_group\u001b[0m\u001b[0;34m(\u001b[0m\u001b[0mkey\u001b[0m\u001b[0;34m,\u001b[0m \u001b[0mvalue\u001b[0m\u001b[0;34m,\u001b[0m \u001b[0mappend\u001b[0m\u001b[0;34m=\u001b[0m\u001b[0mappend\u001b[0m\u001b[0;34m,\u001b[0m \u001b[0;34m**\u001b[0m\u001b[0mkwargs\u001b[0m\u001b[0;34m)\u001b[0m\u001b[0;34m\u001b[0m\u001b[0;34m\u001b[0m\u001b[0m\n\u001b[0m\u001b[1;32m    960\u001b[0m \u001b[0;34m\u001b[0m\u001b[0m\n\u001b[1;32m    961\u001b[0m     \u001b[0;32mdef\u001b[0m \u001b[0mremove\u001b[0m\u001b[0;34m(\u001b[0m\u001b[0mself\u001b[0m\u001b[0;34m,\u001b[0m \u001b[0mkey\u001b[0m\u001b[0;34m,\u001b[0m \u001b[0mwhere\u001b[0m\u001b[0;34m=\u001b[0m\u001b[0;32mNone\u001b[0m\u001b[0;34m,\u001b[0m \u001b[0mstart\u001b[0m\u001b[0;34m=\u001b[0m\u001b[0;32mNone\u001b[0m\u001b[0;34m,\u001b[0m \u001b[0mstop\u001b[0m\u001b[0;34m=\u001b[0m\u001b[0;32mNone\u001b[0m\u001b[0;34m)\u001b[0m\u001b[0;34m:\u001b[0m\u001b[0;34m\u001b[0m\u001b[0;34m\u001b[0m\u001b[0m\n",
      "\u001b[0;32m~/anaconda3/envs/cenv/lib/python3.7/site-packages/pandas/io/pytables.py\u001b[0m in \u001b[0;36m_write_to_group\u001b[0;34m(self, key, value, format, index, append, complib, encoding, **kwargs)\u001b[0m\n\u001b[1;32m   1523\u001b[0m \u001b[0;34m\u001b[0m\u001b[0m\n\u001b[1;32m   1524\u001b[0m         \u001b[0;31m# write the object\u001b[0m\u001b[0;34m\u001b[0m\u001b[0;34m\u001b[0m\u001b[0;34m\u001b[0m\u001b[0m\n\u001b[0;32m-> 1525\u001b[0;31m         \u001b[0ms\u001b[0m\u001b[0;34m.\u001b[0m\u001b[0mwrite\u001b[0m\u001b[0;34m(\u001b[0m\u001b[0mobj\u001b[0m\u001b[0;34m=\u001b[0m\u001b[0mvalue\u001b[0m\u001b[0;34m,\u001b[0m \u001b[0mappend\u001b[0m\u001b[0;34m=\u001b[0m\u001b[0mappend\u001b[0m\u001b[0;34m,\u001b[0m \u001b[0mcomplib\u001b[0m\u001b[0;34m=\u001b[0m\u001b[0mcomplib\u001b[0m\u001b[0;34m,\u001b[0m \u001b[0;34m**\u001b[0m\u001b[0mkwargs\u001b[0m\u001b[0;34m)\u001b[0m\u001b[0;34m\u001b[0m\u001b[0;34m\u001b[0m\u001b[0m\n\u001b[0m\u001b[1;32m   1526\u001b[0m \u001b[0;34m\u001b[0m\u001b[0m\n\u001b[1;32m   1527\u001b[0m         \u001b[0;32mif\u001b[0m \u001b[0ms\u001b[0m\u001b[0;34m.\u001b[0m\u001b[0mis_table\u001b[0m \u001b[0;32mand\u001b[0m \u001b[0mindex\u001b[0m\u001b[0;34m:\u001b[0m\u001b[0;34m\u001b[0m\u001b[0;34m\u001b[0m\u001b[0m\n",
      "\u001b[0;32m~/anaconda3/envs/cenv/lib/python3.7/site-packages/pandas/io/pytables.py\u001b[0m in \u001b[0;36mwrite\u001b[0;34m(self, obj, **kwargs)\u001b[0m\n\u001b[1;32m   3221\u001b[0m             \u001b[0;32mif\u001b[0m \u001b[0mi\u001b[0m \u001b[0;34m==\u001b[0m \u001b[0;36m0\u001b[0m\u001b[0;34m:\u001b[0m\u001b[0;34m\u001b[0m\u001b[0;34m\u001b[0m\u001b[0m\n\u001b[1;32m   3222\u001b[0m                 \u001b[0;32mif\u001b[0m \u001b[0;32mnot\u001b[0m \u001b[0max\u001b[0m\u001b[0;34m.\u001b[0m\u001b[0mis_unique\u001b[0m\u001b[0;34m:\u001b[0m\u001b[0;34m\u001b[0m\u001b[0;34m\u001b[0m\u001b[0m\n\u001b[0;32m-> 3223\u001b[0;31m                     \u001b[0;32mraise\u001b[0m \u001b[0mValueError\u001b[0m\u001b[0;34m(\u001b[0m\u001b[0;34m\"Columns index has to be unique for fixed format\"\u001b[0m\u001b[0;34m)\u001b[0m\u001b[0;34m\u001b[0m\u001b[0;34m\u001b[0m\u001b[0m\n\u001b[0m\u001b[1;32m   3224\u001b[0m             \u001b[0mself\u001b[0m\u001b[0;34m.\u001b[0m\u001b[0mwrite_index\u001b[0m\u001b[0;34m(\u001b[0m\u001b[0;34m\"axis{idx}\"\u001b[0m\u001b[0;34m.\u001b[0m\u001b[0mformat\u001b[0m\u001b[0;34m(\u001b[0m\u001b[0midx\u001b[0m\u001b[0;34m=\u001b[0m\u001b[0mi\u001b[0m\u001b[0;34m)\u001b[0m\u001b[0;34m,\u001b[0m \u001b[0max\u001b[0m\u001b[0;34m)\u001b[0m\u001b[0;34m\u001b[0m\u001b[0;34m\u001b[0m\u001b[0m\n\u001b[1;32m   3225\u001b[0m \u001b[0;34m\u001b[0m\u001b[0m\n",
      "\u001b[0;31mValueError\u001b[0m: Columns index has to be unique for fixed format"
     ]
    }
   ],
   "source": [
    "merged_all.to_hdf(\"../data/merged_overview.h5\",key=\"merged_all\")"
   ]
  }
 ],
 "metadata": {
  "kernelspec": {
   "display_name": "Python 3",
   "language": "python",
   "name": "python3"
  },
  "language_info": {
   "codemirror_mode": {
    "name": "ipython",
    "version": 3
   },
   "file_extension": ".py",
   "mimetype": "text/x-python",
   "name": "python",
   "nbconvert_exporter": "python",
   "pygments_lexer": "ipython3",
   "version": "3.7.4"
  },
  "notify_time": "5",
  "toc": {
   "base_numbering": 1,
   "nav_menu": {},
   "number_sections": true,
   "sideBar": true,
   "skip_h1_title": false,
   "title_cell": "Table of Contents",
   "title_sidebar": "Contents",
   "toc_cell": false,
   "toc_position": {},
   "toc_section_display": true,
   "toc_window_display": false
  }
 },
 "nbformat": 4,
 "nbformat_minor": 2
}
