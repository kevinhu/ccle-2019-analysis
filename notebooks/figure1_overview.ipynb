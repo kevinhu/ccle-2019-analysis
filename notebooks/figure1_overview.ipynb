{
 "cells": [
  {
   "cell_type": "code",
   "execution_count": 1,
   "metadata": {
    "ExecuteTime": {
     "end_time": "2019-09-21T17:32:36.039840Z",
     "start_time": "2019-09-21T17:32:34.964309Z"
    }
   },
   "outputs": [],
   "source": [
    "import pandas as pd\n",
    "import numpy as np\n",
    "import seaborn as sns\n",
    "\n",
    "import matplotlib as mpl\n",
    "from matplotlib import pyplot as plt\n",
    "\n",
    "from scipy.stats import zscore\n",
    "\n",
    "from collections import defaultdict, Counter"
   ]
  },
  {
   "cell_type": "markdown",
   "metadata": {},
   "source": [
    "# Load annotations"
   ]
  },
  {
   "cell_type": "code",
   "execution_count": 7,
   "metadata": {
    "ExecuteTime": {
     "end_time": "2019-09-21T17:35:36.736201Z",
     "start_time": "2019-09-21T17:35:00.246608Z"
    }
   },
   "outputs": [],
   "source": [
    "cell_line_info = pd.read_csv(\"../data/sample_info.csv\")\n",
    "cell_line_annotations = pd.read_excel(\"../data/41586_2019_1186_MOESM4_ESM.xlsx\",\n",
    "                                      sheet_name=\"Cell Line Annotations\")\n",
    "\n",
    "hs_muts = pd.read_hdf(\"../data/hs_muts.h5\",key=\"hs_muts\")\n",
    "damaging_muts = pd.read_hdf(\"../data/damaging_muts.h5\",key=\"damaging_muts\")\n",
    "tertp = pd.read_excel(\"../data/41586_2019_1186_MOESM8_ESM.xlsx\",skiprows=4)\n",
    "\n",
    "fusions = pd.read_csv(\"../data/CCLE_Fusions_20181130.txt\",sep=\"\\t\")\n",
    "copynumber = pd.read_hdf(\"../data/CCLE_gene_cn.hdf\",key=\"copynumber\")\n",
    "copynumber = copynumber.dropna(how=\"any\",thresh=1000,axis=1)\n",
    "\n",
    "tss1kb_meth = pd.read_hdf(\"../data/CCLE_RRBS_TSS1kb_20181022.hdf\",key=\"tss1kb_meth\")\n",
    "\n",
    "ccle_genex = pd.read_hdf(\"../data/CCLE_RNAseq_rsem_genes_tpm_20180929.hdf\",key=\"ccle_genex\")\n",
    "exonusage = pd.read_hdf(\"../data/CCLE_RNAseq_ExonUsageRatio_20180929.hdf\",key=\"exonusage\")\n",
    "\n",
    "mirna = pd.read_hdf(\"../data/CCLE_miRNA_20181103.hdf\",key=\"mirna\")\n",
    "chromatin_profiling = pd.read_hdf(\"../data/CCLE_GlobalChromatinProfiling_20181130.hdf\",key=\"chromatin_profiling\")\n",
    "rppa = pd.read_hdf(\"../data/CCLE_RPPA_20181003.hdf\",key=\"rppa\")\n",
    "\n",
    "msi = pd.read_excel(\"../data/41586_2019_1186_MOESM10_ESM.xlsx\",sheet_name=\"MSI calls\")\n",
    "absolute = pd.read_excel(\"../data/CCLE_ABSOLUTE_combined_20181227.xlsx\",\n",
    "                         sheet_name = \"ABSOLUTE_combined.table\")"
   ]
  },
  {
   "cell_type": "markdown",
   "metadata": {},
   "source": [
    "# Cell line primary sites"
   ]
  },
  {
   "cell_type": "code",
   "execution_count": 200,
   "metadata": {
    "ExecuteTime": {
     "end_time": "2019-09-21T20:05:58.681439Z",
     "start_time": "2019-09-21T20:05:58.669917Z"
    }
   },
   "outputs": [],
   "source": [
    "subtypes = cell_line_annotations[[\"depMapID\",\"type_refined\"]].set_index(\"depMapID\")\n",
    "subtypes = subtypes[\"type_refined\"]\n",
    "subtypes = subtypes.dropna()\n",
    "subtypes = subtypes.apply(lambda x: x.capitalize().replace(\"_\",\" \"))\n",
    "\n",
    "rename_map = {\"T-cell lymphoma other\":\"Other T-cell lymphoma\",\n",
    "              \"Aml\":\"AML\",\n",
    "              \"Ewings sarcoma\": \"Ewing's sarcoma\",\n",
    "              \"Fibroblast like\":\"Fibroblast-like\",\n",
    "              \"Lung nsc\":\"Lunc, NSC\",\n",
    "              \"Lymphoma hodgkin\":\"Hodgkin's lymphoma\",\n",
    "              \"Lymphoma dlbcl\":\"DLBCL\",\n",
    "              \"T-cell all\":\"T-cell ALL\",\n",
    "              \"B-cell all\":\"B-cell ALL\",\n",
    "              \"Cml\":\"CML\",\n",
    "              \"B-cell lymphoma other\":\"Other B-cell lymphoma\",\n",
    "              \"Leukemia other\":\"Other leukemia\",\n",
    "              \"Lymphoma burkitt\":\"Burkitt's lymphoma\"\n",
    "             }\n",
    "\n",
    "subtypes = subtypes.apply(lambda x:rename_map.get(x,x))"
   ]
  },
  {
   "cell_type": "markdown",
   "metadata": {},
   "source": [
    "# Top recurrent mutations"
   ]
  },
  {
   "cell_type": "code",
   "execution_count": 16,
   "metadata": {
    "ExecuteTime": {
     "end_time": "2019-09-21T17:39:04.563870Z",
     "start_time": "2019-09-21T17:39:01.035172Z"
    }
   },
   "outputs": [],
   "source": [
    "def get_top_muts():\n",
    "    \n",
    "    align_hs_muts, align_damaging_muts = hs_muts.align(damaging_muts,join=\"outer\",axis=1)\n",
    "    align_hs_muts = align_hs_muts.fillna(0)\n",
    "    align_damaging_muts = align_damaging_muts.fillna(0)\n",
    "    \n",
    "    hs_damaging_muts = (align_hs_muts+align_damaging_muts).clip(0,1)\n",
    "        \n",
    "    mut_totals = hs_damaging_muts.sum()\n",
    "    mut_totals = mut_totals.sort_values()\n",
    "    \n",
    "    return hs_damaging_muts[mut_totals.index[-8:]]\n",
    "    \n",
    "muts = get_top_muts()"
   ]
  },
  {
   "cell_type": "markdown",
   "metadata": {},
   "source": [
    "# TERT promoter mutations"
   ]
  },
  {
   "cell_type": "code",
   "execution_count": 69,
   "metadata": {
    "ExecuteTime": {
     "end_time": "2019-09-21T18:12:56.345900Z",
     "start_time": "2019-09-21T18:12:56.340664Z"
    }
   },
   "outputs": [],
   "source": [
    "tertp_mut = tertp[[\"depMapID\",\"TERT_promoter_mutation\"]].set_index(\"depMapID\")!=\"wildtype\""
   ]
  },
  {
   "cell_type": "markdown",
   "metadata": {},
   "source": [
    "# Fusions"
   ]
  },
  {
   "cell_type": "code",
   "execution_count": 17,
   "metadata": {
    "ExecuteTime": {
     "end_time": "2019-09-21T17:39:10.470656Z",
     "start_time": "2019-09-21T17:39:04.565217Z"
    }
   },
   "outputs": [],
   "source": [
    "def get_fusions():\n",
    "\n",
    "    fusions[\"value\"] = 1\n",
    "\n",
    "    fusions_mat = pd.pivot_table(fusions, values=\"value\",\n",
    "                                index=[\"BroadID\"], columns=\"X.FusionName\", fill_value=0)\n",
    "    \n",
    "    fusions_mat.columns = fusions_mat.columns.map(lambda x: x.replace(\"--\",\"-\"))\n",
    "\n",
    "    return fusions_mat[[\"BCR-ABL1\",\"EWSR1-FLI1\",\"KMT2A-MLLT3\"]]\n",
    "\n",
    "select_fusions = get_fusions()"
   ]
  },
  {
   "cell_type": "markdown",
   "metadata": {},
   "source": [
    "# Top continuous annotations"
   ]
  },
  {
   "cell_type": "code",
   "execution_count": 18,
   "metadata": {
    "ExecuteTime": {
     "end_time": "2019-09-21T17:39:10.475805Z",
     "start_time": "2019-09-21T17:39:10.472374Z"
    }
   },
   "outputs": [],
   "source": [
    "def top_variable(annotations, top_n,clip_left=-3,clip_right=3):\n",
    "    \n",
    "    stdevs = annotations.std()\n",
    "    stdevs = stdevs.sort_values()\n",
    "    \n",
    "    top_names = stdevs.index[-top_n:]\n",
    "    \n",
    "    top_annotations = annotations[top_names]\n",
    "    top_annotations = (top_annotations - top_annotations.mean())/top_annotations.std()\n",
    "    \n",
    "    top_annotations = top_annotations.clip(clip_left,clip_right)\n",
    "    \n",
    "    return top_annotations"
   ]
  },
  {
   "cell_type": "code",
   "execution_count": 168,
   "metadata": {
    "ExecuteTime": {
     "end_time": "2019-09-21T20:00:15.237894Z",
     "start_time": "2019-09-21T20:00:06.188910Z"
    }
   },
   "outputs": [],
   "source": [
    "select_copynumber = top_variable(copynumber, 1000)\n",
    "select_meth = top_variable(tss1kb_meth, 1000)\n",
    "select_genex = top_variable(ccle_genex, 1000)\n",
    "select_exonusage = top_variable(exonusage, 1000)\n",
    "select_mirna = top_variable(mirna, 1000)\n",
    "select_chromatin = top_variable(chromatin_profiling, 1000)\n",
    "select_rppa = top_variable(rppa, 1000)\n",
    "\n",
    "select_copynumber.columns = [x + \"_copynumber\" for x in select_copynumber.columns]\n",
    "select_meth.columns = [x + \"_meth\" for x in select_meth.columns]\n",
    "select_genex.columns = [x + \"_genex\" for x in select_genex.columns]\n",
    "select_exonusage.columns = [x + \"_exonusage\" for x in select_exonusage.columns]\n",
    "select_mirna.columns = [x + \"_mirna\" for x in select_mirna.columns]\n",
    "select_chromatin.columns = [x + \"_chromatin\" for x in select_chromatin.columns]\n",
    "select_rppa.columns = [x + \"_rppa\" for x in select_rppa.columns]"
   ]
  },
  {
   "cell_type": "markdown",
   "metadata": {},
   "source": [
    "# MSI, ploidy, and ancestry"
   ]
  },
  {
   "cell_type": "code",
   "execution_count": 169,
   "metadata": {
    "ExecuteTime": {
     "end_time": "2019-09-21T20:00:16.292338Z",
     "start_time": "2019-09-21T20:00:16.264613Z"
    }
   },
   "outputs": [],
   "source": [
    "is_msi = msi[msi[\"CCLE.MSI.call\"].isin(['inferred-MSI','inferred-MSS'])]\n",
    "is_msi = is_msi[[\"depMapID\",\"CCLE.MSI.call\"]].set_index(\"depMapID\")\n",
    "is_msi = is_msi == \"inferred-MSI\"\n",
    "\n",
    "ploidy = absolute[[\"depMapID\",\"ploidy\"]].set_index(\"depMapID\")\n",
    "ploidy = ploidy.loc[~ploidy.index.duplicated(keep='first')]\n",
    "\n",
    "ancestry = cell_line_annotations[[\"inferred_ancestry\",\"depMapID\"]].set_index(\"depMapID\").dropna()"
   ]
  },
  {
   "cell_type": "markdown",
   "metadata": {},
   "source": [
    "# Cluster subtypes"
   ]
  },
  {
   "cell_type": "code",
   "execution_count": 206,
   "metadata": {
    "ExecuteTime": {
     "end_time": "2019-09-21T20:06:10.544926Z",
     "start_time": "2019-09-21T20:06:10.444069Z"
    }
   },
   "outputs": [],
   "source": [
    "cluster_df = pd.concat([select_copynumber,\n",
    "                        select_meth,\n",
    "                        select_genex,\n",
    "                        select_exonusage,\n",
    "                        select_mirna,\n",
    "                        select_chromatin,\n",
    "                        select_rppa\n",
    "                       ],join=\"outer\",axis=1,sort=True)\n",
    "\n",
    "cluster_df, align_subtypes = cluster_df.align(subtypes,axis=0,join=\"inner\")"
   ]
  },
  {
   "cell_type": "code",
   "execution_count": 207,
   "metadata": {
    "ExecuteTime": {
     "end_time": "2019-09-21T20:06:12.321331Z",
     "start_time": "2019-09-21T20:06:10.972826Z"
    }
   },
   "outputs": [
    {
     "data": {
      "image/png": "[encoded data removed]",
      "text/plain": [
       "<Figure size 432x288 with 1 Axes>"
      ]
     },
     "metadata": {
      "needs_background": "light"
     },
     "output_type": "display_data"
    }
   ],
   "source": [
    "import scipy.spatial as sp\n",
    "import scipy.cluster.hierarchy as hc\n",
    "\n",
    "subtype_means = cluster_df.groupby(align_subtypes).mean()\n",
    "\n",
    "subtype_linkage = hc.linkage(subtype_means.fillna(subtype_means.mean()), method='ward')\n",
    "leaf_order = hc.dendrogram(subtype_linkage)[\"leaves\"]\n",
    "\n",
    "subtype_order = np.array(subtype_means.index)[leaf_order]\n",
    "subtype_order = dict(zip(subtype_order,range(len(subtype_order))))"
   ]
  },
  {
   "cell_type": "markdown",
   "metadata": {},
   "source": [
    "# Merge all "
   ]
  },
  {
   "cell_type": "code",
   "execution_count": 208,
   "metadata": {
    "ExecuteTime": {
     "end_time": "2019-09-21T20:06:13.071609Z",
     "start_time": "2019-09-21T20:06:13.068430Z"
    }
   },
   "outputs": [],
   "source": [
    "continuous_annotations = np.concatenate([\n",
    "    select_copynumber.columns,\n",
    "    select_meth.columns,\n",
    "    select_genex.columns,\n",
    "    select_exonusage.columns,\n",
    "    select_mirna.columns,\n",
    "    select_chromatin.columns,\n",
    "    select_rppa.columns,\n",
    "])"
   ]
  },
  {
   "cell_type": "code",
   "execution_count": 209,
   "metadata": {
    "ExecuteTime": {
     "end_time": "2019-09-21T20:06:13.485478Z",
     "start_time": "2019-09-21T20:06:13.429553Z"
    }
   },
   "outputs": [],
   "source": [
    "merged_all = pd.concat([\n",
    "                        subtypes,\n",
    "                        \n",
    "                        muts,\n",
    "                        tertp_mut,\n",
    "                        select_fusions,\n",
    "    \n",
    "                        select_copynumber,\n",
    "                        select_meth,\n",
    "                        select_genex,\n",
    "                        select_exonusage,\n",
    "                        select_mirna,\n",
    "                        select_chromatin,\n",
    "                        select_rppa,\n",
    "                        \n",
    "                        is_msi,\n",
    "                        ploidy,\n",
    "                        ancestry,\n",
    "                       ],join=\"outer\",axis=1,sort=True)"
   ]
  },
  {
   "cell_type": "code",
   "execution_count": 210,
   "metadata": {
    "ExecuteTime": {
     "end_time": "2019-09-21T20:06:13.968388Z",
     "start_time": "2019-09-21T20:06:13.716235Z"
    }
   },
   "outputs": [],
   "source": [
    "merged_all = merged_all.dropna(how=\"any\",subset=[\"type_refined\"],axis=0)\n",
    "\n",
    "merged_all = merged_all.dropna(how=\"all\",subset=select_copynumber.columns,axis=0)\n",
    "merged_all = merged_all.dropna(how=\"all\",subset=select_meth.columns,axis=0)\n",
    "merged_all = merged_all.dropna(how=\"all\",subset=select_genex.columns,axis=0)\n",
    "merged_all = merged_all.dropna(how=\"all\",subset=select_mirna.columns,axis=0)\n",
    "merged_all = merged_all.dropna(how=\"all\",subset=select_chromatin.columns,axis=0)\n",
    "merged_all = merged_all.dropna(how=\"all\",subset=select_rppa.columns,axis=0)\n",
    "\n",
    "merged_all = merged_all.dropna(how=\"any\",subset=is_msi.columns,axis=0)\n",
    "merged_all = merged_all.dropna(how=\"any\",subset=ploidy.columns,axis=0)\n",
    "merged_all = merged_all.dropna(how=\"any\",subset=ancestry.columns,axis=0)"
   ]
  },
  {
   "cell_type": "code",
   "execution_count": 211,
   "metadata": {
    "ExecuteTime": {
     "end_time": "2019-09-21T20:06:14.139377Z",
     "start_time": "2019-09-21T20:06:14.123615Z"
    }
   },
   "outputs": [],
   "source": [
    "merged_all[\"type_order_index\"] = merged_all[\"type_refined\"].apply(lambda x: subtype_order[x])\n",
    "merged_all = merged_all.sort_values(by=\"type_order_index\")"
   ]
  },
  {
   "cell_type": "code",
   "execution_count": 212,
   "metadata": {
    "ExecuteTime": {
     "end_time": "2019-09-21T20:06:14.799765Z",
     "start_time": "2019-09-21T20:06:14.796418Z"
    }
   },
   "outputs": [],
   "source": [
    "def within_subtype_order(subtype_annotations):\n",
    "    continuous = subtype_annotations[continuous_annotations]\n",
    "    \n",
    "    cell_line_linkage = hc.linkage(continuous.fillna(0), method='ward')\n",
    "    leaf_order = hc.dendrogram(cell_line_linkage,no_plot=True)[\"leaves\"]\n",
    "    \n",
    "    return np.array(continuous.index[leaf_order])"
   ]
  },
  {
   "cell_type": "code",
   "execution_count": 213,
   "metadata": {
    "ExecuteTime": {
     "end_time": "2019-09-21T20:06:15.178530Z",
     "start_time": "2019-09-21T20:06:15.162737Z"
    }
   },
   "outputs": [],
   "source": [
    "type_counts = Counter(merged_all[\"type_refined\"])\n",
    "\n",
    "merged_all[\"type_count\"] = merged_all[\"type_refined\"].apply(lambda x: type_counts[x])\n",
    "\n",
    "merged_all = merged_all[merged_all[\"type_count\"]>=5]"
   ]
  },
  {
   "cell_type": "code",
   "execution_count": 214,
   "metadata": {
    "ExecuteTime": {
     "end_time": "2019-09-21T20:06:15.892064Z",
     "start_time": "2019-09-21T20:06:15.661346Z"
    }
   },
   "outputs": [],
   "source": [
    "total_order = pd.DataFrame(merged_all.groupby(\"type_refined\").apply(within_subtype_order))\n",
    "total_order[\"type_order_index\"] = total_order.index.map(lambda x: subtype_order[x])\n",
    "total_order = total_order.sort_values(by=\"type_order_index\")\n",
    "total_order = np.concatenate(total_order[0])\n"
   ]
  },
  {
   "cell_type": "code",
   "execution_count": 215,
   "metadata": {
    "ExecuteTime": {
     "end_time": "2019-09-21T20:06:16.994293Z",
     "start_time": "2019-09-21T20:06:16.980443Z"
    }
   },
   "outputs": [],
   "source": [
    "merged_all = merged_all.loc[total_order]"
   ]
  },
  {
   "cell_type": "code",
   "execution_count": 216,
   "metadata": {
    "ExecuteTime": {
     "end_time": "2019-09-21T20:06:17.483428Z",
     "start_time": "2019-09-21T20:06:17.317419Z"
    }
   },
   "outputs": [],
   "source": [
    "merged_all.to_hdf(\"../data/merged_overview.h5\",key=\"merged_all\")"
   ]
  },
  {
   "cell_type": "markdown",
   "metadata": {},
   "source": [
    "# Make final plot"
   ]
  },
  {
   "cell_type": "code",
   "execution_count": 277,
   "metadata": {
    "ExecuteTime": {
     "end_time": "2019-09-21T20:32:28.689498Z",
     "start_time": "2019-09-21T20:32:28.521370Z"
    }
   },
   "outputs": [
    {
     "ename": "TypeError",
     "evalue": "(\"unsupported operand type(s) for -: 'tuple' and 'float'\", 'occurred at index 0')",
     "output_type": "error",
     "traceback": [
      "\u001b[0;31m---------------------------------------------------------------------------\u001b[0m",
      "\u001b[0;31mTypeError\u001b[0m                                 Traceback (most recent call last)",
      "\u001b[0;32m<ipython-input-277-918d3ef3c072>\u001b[0m in \u001b[0;36m<module>\u001b[0;34m\u001b[0m\n\u001b[1;32m     38\u001b[0m \u001b[0;34m\u001b[0m\u001b[0m\n\u001b[1;32m     39\u001b[0m \u001b[0max\u001b[0m \u001b[0;34m=\u001b[0m \u001b[0mplt\u001b[0m\u001b[0;34m.\u001b[0m\u001b[0msubplot\u001b[0m\u001b[0;34m(\u001b[0m\u001b[0;36m111\u001b[0m\u001b[0;34m)\u001b[0m\u001b[0;34m\u001b[0m\u001b[0;34m\u001b[0m\u001b[0m\n\u001b[0;32m---> 40\u001b[0;31m \u001b[0munique_types\u001b[0m\u001b[0;34m.\u001b[0m\u001b[0mapply\u001b[0m\u001b[0;34m(\u001b[0m\u001b[0mplot_subtype\u001b[0m\u001b[0;34m,\u001b[0m\u001b[0max\u001b[0m\u001b[0;34m=\u001b[0m\u001b[0max\u001b[0m\u001b[0;34m,\u001b[0m\u001b[0maxis\u001b[0m\u001b[0;34m=\u001b[0m\u001b[0;36m1\u001b[0m\u001b[0;34m)\u001b[0m\u001b[0;34m\u001b[0m\u001b[0;34m\u001b[0m\u001b[0m\n\u001b[0m\u001b[1;32m     41\u001b[0m \u001b[0;34m\u001b[0m\u001b[0m\n\u001b[1;32m     42\u001b[0m \u001b[0max\u001b[0m\u001b[0;34m.\u001b[0m\u001b[0mset_ylim\u001b[0m\u001b[0;34m(\u001b[0m\u001b[0;36m0\u001b[0m\u001b[0;34m,\u001b[0m\u001b[0mtotal_lines\u001b[0m\u001b[0;34m)\u001b[0m\u001b[0;34m\u001b[0m\u001b[0;34m\u001b[0m\u001b[0m\n",
      "\u001b[0;32m~/anaconda3/envs/cenv/lib/python3.7/site-packages/pandas/core/frame.py\u001b[0m in \u001b[0;36mapply\u001b[0;34m(self, func, axis, broadcast, raw, reduce, result_type, args, **kwds)\u001b[0m\n\u001b[1;32m   6904\u001b[0m             \u001b[0mkwds\u001b[0m\u001b[0;34m=\u001b[0m\u001b[0mkwds\u001b[0m\u001b[0;34m,\u001b[0m\u001b[0;34m\u001b[0m\u001b[0;34m\u001b[0m\u001b[0m\n\u001b[1;32m   6905\u001b[0m         )\n\u001b[0;32m-> 6906\u001b[0;31m         \u001b[0;32mreturn\u001b[0m \u001b[0mop\u001b[0m\u001b[0;34m.\u001b[0m\u001b[0mget_result\u001b[0m\u001b[0;34m(\u001b[0m\u001b[0;34m)\u001b[0m\u001b[0;34m\u001b[0m\u001b[0;34m\u001b[0m\u001b[0m\n\u001b[0m\u001b[1;32m   6907\u001b[0m \u001b[0;34m\u001b[0m\u001b[0m\n\u001b[1;32m   6908\u001b[0m     \u001b[0;32mdef\u001b[0m \u001b[0mapplymap\u001b[0m\u001b[0;34m(\u001b[0m\u001b[0mself\u001b[0m\u001b[0;34m,\u001b[0m \u001b[0mfunc\u001b[0m\u001b[0;34m)\u001b[0m\u001b[0;34m:\u001b[0m\u001b[0;34m\u001b[0m\u001b[0;34m\u001b[0m\u001b[0m\n",
      "\u001b[0;32m~/anaconda3/envs/cenv/lib/python3.7/site-packages/pandas/core/apply.py\u001b[0m in \u001b[0;36mget_result\u001b[0;34m(self)\u001b[0m\n\u001b[1;32m    184\u001b[0m             \u001b[0;32mreturn\u001b[0m \u001b[0mself\u001b[0m\u001b[0;34m.\u001b[0m\u001b[0mapply_raw\u001b[0m\u001b[0;34m(\u001b[0m\u001b[0;34m)\u001b[0m\u001b[0;34m\u001b[0m\u001b[0;34m\u001b[0m\u001b[0m\n\u001b[1;32m    185\u001b[0m \u001b[0;34m\u001b[0m\u001b[0m\n\u001b[0;32m--> 186\u001b[0;31m         \u001b[0;32mreturn\u001b[0m \u001b[0mself\u001b[0m\u001b[0;34m.\u001b[0m\u001b[0mapply_standard\u001b[0m\u001b[0;34m(\u001b[0m\u001b[0;34m)\u001b[0m\u001b[0;34m\u001b[0m\u001b[0;34m\u001b[0m\u001b[0m\n\u001b[0m\u001b[1;32m    187\u001b[0m \u001b[0;34m\u001b[0m\u001b[0m\n\u001b[1;32m    188\u001b[0m     \u001b[0;32mdef\u001b[0m \u001b[0mapply_empty_result\u001b[0m\u001b[0;34m(\u001b[0m\u001b[0mself\u001b[0m\u001b[0;34m)\u001b[0m\u001b[0;34m:\u001b[0m\u001b[0;34m\u001b[0m\u001b[0;34m\u001b[0m\u001b[0m\n",
      "\u001b[0;32m~/anaconda3/envs/cenv/lib/python3.7/site-packages/pandas/core/apply.py\u001b[0m in \u001b[0;36mapply_standard\u001b[0;34m(self)\u001b[0m\n\u001b[1;32m    290\u001b[0m \u001b[0;34m\u001b[0m\u001b[0m\n\u001b[1;32m    291\u001b[0m         \u001b[0;31m# compute the result using the series generator\u001b[0m\u001b[0;34m\u001b[0m\u001b[0;34m\u001b[0m\u001b[0;34m\u001b[0m\u001b[0m\n\u001b[0;32m--> 292\u001b[0;31m         \u001b[0mself\u001b[0m\u001b[0;34m.\u001b[0m\u001b[0mapply_series_generator\u001b[0m\u001b[0;34m(\u001b[0m\u001b[0;34m)\u001b[0m\u001b[0;34m\u001b[0m\u001b[0;34m\u001b[0m\u001b[0m\n\u001b[0m\u001b[1;32m    293\u001b[0m \u001b[0;34m\u001b[0m\u001b[0m\n\u001b[1;32m    294\u001b[0m         \u001b[0;31m# wrap results\u001b[0m\u001b[0;34m\u001b[0m\u001b[0;34m\u001b[0m\u001b[0;34m\u001b[0m\u001b[0m\n",
      "\u001b[0;32m~/anaconda3/envs/cenv/lib/python3.7/site-packages/pandas/core/apply.py\u001b[0m in \u001b[0;36mapply_series_generator\u001b[0;34m(self)\u001b[0m\n\u001b[1;32m    319\u001b[0m             \u001b[0;32mtry\u001b[0m\u001b[0;34m:\u001b[0m\u001b[0;34m\u001b[0m\u001b[0;34m\u001b[0m\u001b[0m\n\u001b[1;32m    320\u001b[0m                 \u001b[0;32mfor\u001b[0m \u001b[0mi\u001b[0m\u001b[0;34m,\u001b[0m \u001b[0mv\u001b[0m \u001b[0;32min\u001b[0m \u001b[0menumerate\u001b[0m\u001b[0;34m(\u001b[0m\u001b[0mseries_gen\u001b[0m\u001b[0;34m)\u001b[0m\u001b[0;34m:\u001b[0m\u001b[0;34m\u001b[0m\u001b[0;34m\u001b[0m\u001b[0m\n\u001b[0;32m--> 321\u001b[0;31m                     \u001b[0mresults\u001b[0m\u001b[0;34m[\u001b[0m\u001b[0mi\u001b[0m\u001b[0;34m]\u001b[0m \u001b[0;34m=\u001b[0m \u001b[0mself\u001b[0m\u001b[0;34m.\u001b[0m\u001b[0mf\u001b[0m\u001b[0;34m(\u001b[0m\u001b[0mv\u001b[0m\u001b[0;34m)\u001b[0m\u001b[0;34m\u001b[0m\u001b[0;34m\u001b[0m\u001b[0m\n\u001b[0m\u001b[1;32m    322\u001b[0m                     \u001b[0mkeys\u001b[0m\u001b[0;34m.\u001b[0m\u001b[0mappend\u001b[0m\u001b[0;34m(\u001b[0m\u001b[0mv\u001b[0m\u001b[0;34m.\u001b[0m\u001b[0mname\u001b[0m\u001b[0;34m)\u001b[0m\u001b[0;34m\u001b[0m\u001b[0;34m\u001b[0m\u001b[0m\n\u001b[1;32m    323\u001b[0m             \u001b[0;32mexcept\u001b[0m \u001b[0mException\u001b[0m \u001b[0;32mas\u001b[0m \u001b[0me\u001b[0m\u001b[0;34m:\u001b[0m\u001b[0;34m\u001b[0m\u001b[0;34m\u001b[0m\u001b[0m\n",
      "\u001b[0;32m~/anaconda3/envs/cenv/lib/python3.7/site-packages/pandas/core/apply.py\u001b[0m in \u001b[0;36mf\u001b[0;34m(x)\u001b[0m\n\u001b[1;32m    110\u001b[0m \u001b[0;34m\u001b[0m\u001b[0m\n\u001b[1;32m    111\u001b[0m             \u001b[0;32mdef\u001b[0m \u001b[0mf\u001b[0m\u001b[0;34m(\u001b[0m\u001b[0mx\u001b[0m\u001b[0;34m)\u001b[0m\u001b[0;34m:\u001b[0m\u001b[0;34m\u001b[0m\u001b[0;34m\u001b[0m\u001b[0m\n\u001b[0;32m--> 112\u001b[0;31m                 \u001b[0;32mreturn\u001b[0m \u001b[0mfunc\u001b[0m\u001b[0;34m(\u001b[0m\u001b[0mx\u001b[0m\u001b[0;34m,\u001b[0m \u001b[0;34m*\u001b[0m\u001b[0margs\u001b[0m\u001b[0;34m,\u001b[0m \u001b[0;34m**\u001b[0m\u001b[0mkwds\u001b[0m\u001b[0;34m)\u001b[0m\u001b[0;34m\u001b[0m\u001b[0;34m\u001b[0m\u001b[0m\n\u001b[0m\u001b[1;32m    113\u001b[0m \u001b[0;34m\u001b[0m\u001b[0m\n\u001b[1;32m    114\u001b[0m         \u001b[0;32melse\u001b[0m\u001b[0;34m:\u001b[0m\u001b[0;34m\u001b[0m\u001b[0;34m\u001b[0m\u001b[0m\n",
      "\u001b[0;32m<ipython-input-277-918d3ef3c072>\u001b[0m in \u001b[0;36mplot_subtype\u001b[0;34m(row, ax)\u001b[0m\n\u001b[1;32m     31\u001b[0m     \u001b[0max\u001b[0m\u001b[0;34m.\u001b[0m\u001b[0mfill\u001b[0m\u001b[0;34m(\u001b[0m\u001b[0mx\u001b[0m\u001b[0;34m,\u001b[0m\u001b[0my\u001b[0m\u001b[0;34m,\u001b[0m\u001b[0mc\u001b[0m\u001b[0;34m=\u001b[0m\u001b[0mrow\u001b[0m\u001b[0;34m[\u001b[0m\u001b[0;34m\"subtype_color\"\u001b[0m\u001b[0;34m]\u001b[0m\u001b[0;34m)\u001b[0m\u001b[0;34m\u001b[0m\u001b[0;34m\u001b[0m\u001b[0m\n\u001b[1;32m     32\u001b[0m \u001b[0;34m\u001b[0m\u001b[0m\n\u001b[0;32m---> 33\u001b[0;31m     \u001b[0mplt\u001b[0m\u001b[0;34m.\u001b[0m\u001b[0mplot\u001b[0m\u001b[0;34m(\u001b[0m\u001b[0;34m-\u001b[0m\u001b[0;36m2\u001b[0m\u001b[0;34m,\u001b[0m\u001b[0mrow\u001b[0m\u001b[0;34m[\u001b[0m\u001b[0;34m\"spaced_position\"\u001b[0m\u001b[0;34m]\u001b[0m\u001b[0;34m,\u001b[0m\u001b[0mmarker\u001b[0m\u001b[0;34m=\u001b[0m\u001b[0;34m\"o\"\u001b[0m\u001b[0;34m,\u001b[0m\u001b[0mc\u001b[0m\u001b[0;34m=\u001b[0m\u001b[0mrow\u001b[0m\u001b[0;34m[\u001b[0m\u001b[0;34m\"subtype_color\"\u001b[0m\u001b[0;34m]\u001b[0m\u001b[0;34m-\u001b[0m\u001b[0;36m0.1\u001b[0m\u001b[0;34m)\u001b[0m\u001b[0;34m\u001b[0m\u001b[0;34m\u001b[0m\u001b[0m\n\u001b[0m\u001b[1;32m     34\u001b[0m \u001b[0;34m\u001b[0m\u001b[0m\n\u001b[1;32m     35\u001b[0m     \u001b[0max\u001b[0m\u001b[0;34m.\u001b[0m\u001b[0mtext\u001b[0m\u001b[0;34m(\u001b[0m\u001b[0;34m-\u001b[0m\u001b[0;36m2.25\u001b[0m\u001b[0;34m,\u001b[0m\u001b[0mrow\u001b[0m\u001b[0;34m[\u001b[0m\u001b[0;34m\"spaced_position\"\u001b[0m\u001b[0;34m]\u001b[0m\u001b[0;34m,\u001b[0m\u001b[0mrow\u001b[0m\u001b[0;34m[\u001b[0m\u001b[0;34m\"type_refined\"\u001b[0m\u001b[0;34m]\u001b[0m\u001b[0;34m,\u001b[0m\u001b[0mha\u001b[0m\u001b[0;34m=\u001b[0m\u001b[0;34m\"right\"\u001b[0m\u001b[0;34m,\u001b[0m\u001b[0mva\u001b[0m\u001b[0;34m=\u001b[0m\u001b[0;34m\"center\"\u001b[0m\u001b[0;34m)\u001b[0m\u001b[0;34m\u001b[0m\u001b[0;34m\u001b[0m\u001b[0m\n",
      "\u001b[0;31mTypeError\u001b[0m: (\"unsupported operand type(s) for -: 'tuple' and 'float'\", 'occurred at index 0')"
     ]
    },
    {
     "data": {
      "image/png": "[encoded data removed]",
      "text/plain": [
       "<Figure size 72x576 with 1 Axes>"
      ]
     },
     "metadata": {
      "needs_background": "light"
     },
     "output_type": "display_data"
    }
   ],
   "source": [
    "unique_types = pd.DataFrame(merged_all[\"type_refined\"].drop_duplicates(keep=\"first\"))\n",
    "unique_types.index = np.arange(len(unique_types))\n",
    "\n",
    "type_counts = dict(Counter(merged_all[\"type_refined\"]))\n",
    "\n",
    "unique_types[\"count\"] = unique_types[\"type_refined\"].apply(lambda x: type_counts[x])\n",
    "\n",
    "total_lines = unique_types[\"count\"].sum()\n",
    "\n",
    "unique_types[\"cumulative_count\"] = unique_types[\"count\"].cumsum()\n",
    "unique_types[\"cumulative_offset\"] = [0]+list(unique_types[\"cumulative_count\"][:-1])\n",
    "\n",
    "unique_types[\"spaced_position\"] = unique_types.index/len(unique_types)*total_lines+total_lines/len(unique_types)*0.5\n",
    "\n",
    "subtype_palette = sns.color_palette(\"tab20\", len(unique_types[\"type_refined\"].unique()))\n",
    "subtype_color_map = dict(zip(unique_types[\"type_refined\"].unique(), subtype_palette))\n",
    "subtype_colors = unique_types[\"type_refined\"].map(subtype_color_map)\n",
    "\n",
    "unique_types[\"subtype_color\"] = subtype_colors\n",
    "\n",
    "def plot_subtype(row,ax):\n",
    "    y = [row[\"cumulative_offset\"],\n",
    "         row[\"cumulative_offset\"],\n",
    "         row[\"spaced_position\"],\n",
    "         row[\"cumulative_count\"],\n",
    "         row[\"cumulative_count\"]\n",
    "        ]\n",
    "    \n",
    "    x = [0,-1,-2,-1,0]\n",
    "    \n",
    "    ax.fill(x,y,c=row[\"subtype_color\"])\n",
    "    \n",
    "    plt.plot(-2,row[\"spaced_position\"],marker=\"o\",c=row[\"subtype_color\"]-0.1)\n",
    "    \n",
    "    ax.text(-2.25,row[\"spaced_position\"],row[\"type_refined\"],ha=\"right\",va=\"center\")\n",
    "\n",
    "plt.figure(figsize=(1,8))\n",
    "\n",
    "ax = plt.subplot(111)\n",
    "unique_types.apply(plot_subtype,ax=ax,axis=1)\n",
    "\n",
    "ax.set_ylim(0,total_lines)\n",
    "\n",
    "ax.axis('off')"
   ]
  },
  {
   "cell_type": "code",
   "execution_count": 256,
   "metadata": {
    "ExecuteTime": {
     "end_time": "2019-09-21T20:26:38.876606Z",
     "start_time": "2019-09-21T20:26:38.856896Z"
    }
   },
   "outputs": [
    {
     "data": {
      "text/html": [
       "<div>\n",
       "<style scoped>\n",
       "    .dataframe tbody tr th:only-of-type {\n",
       "        vertical-align: middle;\n",
       "    }\n",
       "\n",
       "    .dataframe tbody tr th {\n",
       "        vertical-align: top;\n",
       "    }\n",
       "\n",
       "    .dataframe thead th {\n",
       "        text-align: right;\n",
       "    }\n",
       "</style>\n",
       "<table border=\"1\" class=\"dataframe\">\n",
       "  <thead>\n",
       "    <tr style=\"text-align: right;\">\n",
       "      <th></th>\n",
       "      <th>type_refined</th>\n",
       "      <th>count</th>\n",
       "      <th>cumulative_count</th>\n",
       "      <th>cumulative_offset</th>\n",
       "      <th>spaced_position</th>\n",
       "      <th>subtype_color</th>\n",
       "    </tr>\n",
       "  </thead>\n",
       "  <tbody>\n",
       "    <tr>\n",
       "      <th>0</th>\n",
       "      <td>Burkitt's lymphoma</td>\n",
       "      <td>9</td>\n",
       "      <td>9</td>\n",
       "      <td>0</td>\n",
       "      <td>0.000000</td>\n",
       "      <td>(0.12156862745098039, 0.4666666666666667, 0.70...</td>\n",
       "    </tr>\n",
       "    <tr>\n",
       "      <th>1</th>\n",
       "      <td>DLBCL</td>\n",
       "      <td>15</td>\n",
       "      <td>24</td>\n",
       "      <td>24</td>\n",
       "      <td>21.470588</td>\n",
       "      <td>(0.6823529411764706, 0.7803921568627451, 0.909...</td>\n",
       "    </tr>\n",
       "    <tr>\n",
       "      <th>2</th>\n",
       "      <td>Other B-cell lymphoma</td>\n",
       "      <td>12</td>\n",
       "      <td>36</td>\n",
       "      <td>36</td>\n",
       "      <td>42.941176</td>\n",
       "      <td>(1.0, 0.4980392156862745, 0.054901960784313725)</td>\n",
       "    </tr>\n",
       "    <tr>\n",
       "      <th>3</th>\n",
       "      <td>Multiple myeloma</td>\n",
       "      <td>19</td>\n",
       "      <td>55</td>\n",
       "      <td>55</td>\n",
       "      <td>64.411765</td>\n",
       "      <td>(1.0, 0.7333333333333333, 0.47058823529411764)</td>\n",
       "    </tr>\n",
       "    <tr>\n",
       "      <th>4</th>\n",
       "      <td>Hodgkin's lymphoma</td>\n",
       "      <td>6</td>\n",
       "      <td>61</td>\n",
       "      <td>61</td>\n",
       "      <td>85.882353</td>\n",
       "      <td>(0.17254901960784313, 0.6274509803921569, 0.17...</td>\n",
       "    </tr>\n",
       "    <tr>\n",
       "      <th>5</th>\n",
       "      <td>Other T-cell lymphoma</td>\n",
       "      <td>5</td>\n",
       "      <td>66</td>\n",
       "      <td>66</td>\n",
       "      <td>107.352941</td>\n",
       "      <td>(0.596078431372549, 0.8745098039215686, 0.5411...</td>\n",
       "    </tr>\n",
       "    <tr>\n",
       "      <th>6</th>\n",
       "      <td>AML</td>\n",
       "      <td>28</td>\n",
       "      <td>94</td>\n",
       "      <td>94</td>\n",
       "      <td>128.823529</td>\n",
       "      <td>(0.8392156862745098, 0.15294117647058825, 0.15...</td>\n",
       "    </tr>\n",
       "    <tr>\n",
       "      <th>7</th>\n",
       "      <td>CML</td>\n",
       "      <td>12</td>\n",
       "      <td>106</td>\n",
       "      <td>106</td>\n",
       "      <td>150.294118</td>\n",
       "      <td>(1.0, 0.596078431372549, 0.5882352941176471)</td>\n",
       "    </tr>\n",
       "    <tr>\n",
       "      <th>8</th>\n",
       "      <td>T-cell ALL</td>\n",
       "      <td>9</td>\n",
       "      <td>115</td>\n",
       "      <td>115</td>\n",
       "      <td>171.764706</td>\n",
       "      <td>(0.5803921568627451, 0.403921568627451, 0.7411...</td>\n",
       "    </tr>\n",
       "    <tr>\n",
       "      <th>9</th>\n",
       "      <td>B-cell ALL</td>\n",
       "      <td>12</td>\n",
       "      <td>127</td>\n",
       "      <td>127</td>\n",
       "      <td>193.235294</td>\n",
       "      <td>(0.7725490196078432, 0.6901960784313725, 0.835...</td>\n",
       "    </tr>\n",
       "    <tr>\n",
       "      <th>10</th>\n",
       "      <td>Bile duct</td>\n",
       "      <td>6</td>\n",
       "      <td>133</td>\n",
       "      <td>133</td>\n",
       "      <td>214.705882</td>\n",
       "      <td>(0.5490196078431373, 0.33725490196078434, 0.29...</td>\n",
       "    </tr>\n",
       "    <tr>\n",
       "      <th>11</th>\n",
       "      <td>Pancreas</td>\n",
       "      <td>32</td>\n",
       "      <td>165</td>\n",
       "      <td>165</td>\n",
       "      <td>236.176471</td>\n",
       "      <td>(0.7686274509803922, 0.611764705882353, 0.5803...</td>\n",
       "    </tr>\n",
       "    <tr>\n",
       "      <th>12</th>\n",
       "      <td>Colorectal</td>\n",
       "      <td>48</td>\n",
       "      <td>213</td>\n",
       "      <td>213</td>\n",
       "      <td>257.647059</td>\n",
       "      <td>(0.8901960784313725, 0.4666666666666667, 0.760...</td>\n",
       "    </tr>\n",
       "    <tr>\n",
       "      <th>13</th>\n",
       "      <td>Stomach</td>\n",
       "      <td>34</td>\n",
       "      <td>247</td>\n",
       "      <td>247</td>\n",
       "      <td>279.117647</td>\n",
       "      <td>(0.9686274509803922, 0.7137254901960784, 0.823...</td>\n",
       "    </tr>\n",
       "    <tr>\n",
       "      <th>14</th>\n",
       "      <td>Esophagus</td>\n",
       "      <td>20</td>\n",
       "      <td>267</td>\n",
       "      <td>267</td>\n",
       "      <td>300.588235</td>\n",
       "      <td>(0.4980392156862745, 0.4980392156862745, 0.498...</td>\n",
       "    </tr>\n",
       "    <tr>\n",
       "      <th>15</th>\n",
       "      <td>Upper aerodigestive</td>\n",
       "      <td>30</td>\n",
       "      <td>297</td>\n",
       "      <td>297</td>\n",
       "      <td>322.058824</td>\n",
       "      <td>(0.7803921568627451, 0.7803921568627451, 0.780...</td>\n",
       "    </tr>\n",
       "    <tr>\n",
       "      <th>16</th>\n",
       "      <td>Urinary tract</td>\n",
       "      <td>19</td>\n",
       "      <td>316</td>\n",
       "      <td>316</td>\n",
       "      <td>343.529412</td>\n",
       "      <td>(0.7372549019607844, 0.7411764705882353, 0.133...</td>\n",
       "    </tr>\n",
       "    <tr>\n",
       "      <th>17</th>\n",
       "      <td>Breast</td>\n",
       "      <td>44</td>\n",
       "      <td>360</td>\n",
       "      <td>360</td>\n",
       "      <td>365.000000</td>\n",
       "      <td>(0.8588235294117647, 0.8588235294117647, 0.552...</td>\n",
       "    </tr>\n",
       "    <tr>\n",
       "      <th>18</th>\n",
       "      <td>Lunc, NSC</td>\n",
       "      <td>89</td>\n",
       "      <td>449</td>\n",
       "      <td>449</td>\n",
       "      <td>386.470588</td>\n",
       "      <td>(0.09019607843137255, 0.7450980392156863, 0.81...</td>\n",
       "    </tr>\n",
       "    <tr>\n",
       "      <th>19</th>\n",
       "      <td>Lung small cell</td>\n",
       "      <td>44</td>\n",
       "      <td>493</td>\n",
       "      <td>493</td>\n",
       "      <td>407.941176</td>\n",
       "      <td>(0.6196078431372549, 0.8549019607843137, 0.898...</td>\n",
       "    </tr>\n",
       "    <tr>\n",
       "      <th>20</th>\n",
       "      <td>Prostate</td>\n",
       "      <td>6</td>\n",
       "      <td>499</td>\n",
       "      <td>499</td>\n",
       "      <td>429.411765</td>\n",
       "      <td>(0.12156862745098039, 0.4666666666666667, 0.70...</td>\n",
       "    </tr>\n",
       "    <tr>\n",
       "      <th>21</th>\n",
       "      <td>Ewing's sarcoma</td>\n",
       "      <td>5</td>\n",
       "      <td>504</td>\n",
       "      <td>504</td>\n",
       "      <td>450.882353</td>\n",
       "      <td>(0.6823529411764706, 0.7803921568627451, 0.909...</td>\n",
       "    </tr>\n",
       "    <tr>\n",
       "      <th>22</th>\n",
       "      <td>Neuroblastoma</td>\n",
       "      <td>15</td>\n",
       "      <td>519</td>\n",
       "      <td>519</td>\n",
       "      <td>472.352941</td>\n",
       "      <td>(1.0, 0.4980392156862745, 0.054901960784313725)</td>\n",
       "    </tr>\n",
       "    <tr>\n",
       "      <th>23</th>\n",
       "      <td>Fibroblast-like</td>\n",
       "      <td>9</td>\n",
       "      <td>528</td>\n",
       "      <td>528</td>\n",
       "      <td>493.823529</td>\n",
       "      <td>(1.0, 0.7333333333333333, 0.47058823529411764)</td>\n",
       "    </tr>\n",
       "    <tr>\n",
       "      <th>24</th>\n",
       "      <td>Liver</td>\n",
       "      <td>17</td>\n",
       "      <td>545</td>\n",
       "      <td>545</td>\n",
       "      <td>515.294118</td>\n",
       "      <td>(0.17254901960784313, 0.6274509803921569, 0.17...</td>\n",
       "    </tr>\n",
       "    <tr>\n",
       "      <th>25</th>\n",
       "      <td>Endometrium</td>\n",
       "      <td>21</td>\n",
       "      <td>566</td>\n",
       "      <td>566</td>\n",
       "      <td>536.764706</td>\n",
       "      <td>(0.596078431372549, 0.8745098039215686, 0.5411...</td>\n",
       "    </tr>\n",
       "    <tr>\n",
       "      <th>26</th>\n",
       "      <td>Ovary</td>\n",
       "      <td>39</td>\n",
       "      <td>605</td>\n",
       "      <td>605</td>\n",
       "      <td>558.235294</td>\n",
       "      <td>(0.8392156862745098, 0.15294117647058825, 0.15...</td>\n",
       "    </tr>\n",
       "    <tr>\n",
       "      <th>27</th>\n",
       "      <td>Kidney</td>\n",
       "      <td>17</td>\n",
       "      <td>622</td>\n",
       "      <td>622</td>\n",
       "      <td>579.705882</td>\n",
       "      <td>(1.0, 0.596078431372549, 0.5882352941176471)</td>\n",
       "    </tr>\n",
       "    <tr>\n",
       "      <th>28</th>\n",
       "      <td>Mesothelioma</td>\n",
       "      <td>5</td>\n",
       "      <td>627</td>\n",
       "      <td>627</td>\n",
       "      <td>601.176471</td>\n",
       "      <td>(0.5803921568627451, 0.403921568627451, 0.7411...</td>\n",
       "    </tr>\n",
       "    <tr>\n",
       "      <th>29</th>\n",
       "      <td>Osteosarcoma</td>\n",
       "      <td>5</td>\n",
       "      <td>632</td>\n",
       "      <td>632</td>\n",
       "      <td>622.647059</td>\n",
       "      <td>(0.7725490196078432, 0.6901960784313725, 0.835...</td>\n",
       "    </tr>\n",
       "    <tr>\n",
       "      <th>30</th>\n",
       "      <td>Melanoma</td>\n",
       "      <td>42</td>\n",
       "      <td>674</td>\n",
       "      <td>674</td>\n",
       "      <td>644.117647</td>\n",
       "      <td>(0.5490196078431373, 0.33725490196078434, 0.29...</td>\n",
       "    </tr>\n",
       "    <tr>\n",
       "      <th>31</th>\n",
       "      <td>Soft tissue</td>\n",
       "      <td>12</td>\n",
       "      <td>686</td>\n",
       "      <td>686</td>\n",
       "      <td>665.588235</td>\n",
       "      <td>(0.7686274509803922, 0.611764705882353, 0.5803...</td>\n",
       "    </tr>\n",
       "    <tr>\n",
       "      <th>32</th>\n",
       "      <td>Glioma</td>\n",
       "      <td>34</td>\n",
       "      <td>720</td>\n",
       "      <td>720</td>\n",
       "      <td>687.058824</td>\n",
       "      <td>(0.8901960784313725, 0.4666666666666667, 0.760...</td>\n",
       "    </tr>\n",
       "    <tr>\n",
       "      <th>33</th>\n",
       "      <td>Thyroid</td>\n",
       "      <td>10</td>\n",
       "      <td>730</td>\n",
       "      <td>730</td>\n",
       "      <td>708.529412</td>\n",
       "      <td>(0.9686274509803922, 0.7137254901960784, 0.823...</td>\n",
       "    </tr>\n",
       "  </tbody>\n",
       "</table>\n",
       "</div>"
      ],
      "text/plain": [
       "             type_refined  count  cumulative_count  cumulative_offset  \\\n",
       "0      Burkitt's lymphoma      9                 9                  0   \n",
       "1                   DLBCL     15                24                 24   \n",
       "2   Other B-cell lymphoma     12                36                 36   \n",
       "3        Multiple myeloma     19                55                 55   \n",
       "4      Hodgkin's lymphoma      6                61                 61   \n",
       "5   Other T-cell lymphoma      5                66                 66   \n",
       "6                     AML     28                94                 94   \n",
       "7                     CML     12               106                106   \n",
       "8              T-cell ALL      9               115                115   \n",
       "9              B-cell ALL     12               127                127   \n",
       "10              Bile duct      6               133                133   \n",
       "11               Pancreas     32               165                165   \n",
       "12             Colorectal     48               213                213   \n",
       "13                Stomach     34               247                247   \n",
       "14              Esophagus     20               267                267   \n",
       "15    Upper aerodigestive     30               297                297   \n",
       "16          Urinary tract     19               316                316   \n",
       "17                 Breast     44               360                360   \n",
       "18              Lunc, NSC     89               449                449   \n",
       "19        Lung small cell     44               493                493   \n",
       "20               Prostate      6               499                499   \n",
       "21        Ewing's sarcoma      5               504                504   \n",
       "22          Neuroblastoma     15               519                519   \n",
       "23        Fibroblast-like      9               528                528   \n",
       "24                  Liver     17               545                545   \n",
       "25            Endometrium     21               566                566   \n",
       "26                  Ovary     39               605                605   \n",
       "27                 Kidney     17               622                622   \n",
       "28           Mesothelioma      5               627                627   \n",
       "29           Osteosarcoma      5               632                632   \n",
       "30               Melanoma     42               674                674   \n",
       "31            Soft tissue     12               686                686   \n",
       "32                 Glioma     34               720                720   \n",
       "33                Thyroid     10               730                730   \n",
       "\n",
       "    spaced_position                                      subtype_color  \n",
       "0          0.000000  (0.12156862745098039, 0.4666666666666667, 0.70...  \n",
       "1         21.470588  (0.6823529411764706, 0.7803921568627451, 0.909...  \n",
       "2         42.941176    (1.0, 0.4980392156862745, 0.054901960784313725)  \n",
       "3         64.411765     (1.0, 0.7333333333333333, 0.47058823529411764)  \n",
       "4         85.882353  (0.17254901960784313, 0.6274509803921569, 0.17...  \n",
       "5        107.352941  (0.596078431372549, 0.8745098039215686, 0.5411...  \n",
       "6        128.823529  (0.8392156862745098, 0.15294117647058825, 0.15...  \n",
       "7        150.294118       (1.0, 0.596078431372549, 0.5882352941176471)  \n",
       "8        171.764706  (0.5803921568627451, 0.403921568627451, 0.7411...  \n",
       "9        193.235294  (0.7725490196078432, 0.6901960784313725, 0.835...  \n",
       "10       214.705882  (0.5490196078431373, 0.33725490196078434, 0.29...  \n",
       "11       236.176471  (0.7686274509803922, 0.611764705882353, 0.5803...  \n",
       "12       257.647059  (0.8901960784313725, 0.4666666666666667, 0.760...  \n",
       "13       279.117647  (0.9686274509803922, 0.7137254901960784, 0.823...  \n",
       "14       300.588235  (0.4980392156862745, 0.4980392156862745, 0.498...  \n",
       "15       322.058824  (0.7803921568627451, 0.7803921568627451, 0.780...  \n",
       "16       343.529412  (0.7372549019607844, 0.7411764705882353, 0.133...  \n",
       "17       365.000000  (0.8588235294117647, 0.8588235294117647, 0.552...  \n",
       "18       386.470588  (0.09019607843137255, 0.7450980392156863, 0.81...  \n",
       "19       407.941176  (0.6196078431372549, 0.8549019607843137, 0.898...  \n",
       "20       429.411765  (0.12156862745098039, 0.4666666666666667, 0.70...  \n",
       "21       450.882353  (0.6823529411764706, 0.7803921568627451, 0.909...  \n",
       "22       472.352941    (1.0, 0.4980392156862745, 0.054901960784313725)  \n",
       "23       493.823529     (1.0, 0.7333333333333333, 0.47058823529411764)  \n",
       "24       515.294118  (0.17254901960784313, 0.6274509803921569, 0.17...  \n",
       "25       536.764706  (0.596078431372549, 0.8745098039215686, 0.5411...  \n",
       "26       558.235294  (0.8392156862745098, 0.15294117647058825, 0.15...  \n",
       "27       579.705882       (1.0, 0.596078431372549, 0.5882352941176471)  \n",
       "28       601.176471  (0.5803921568627451, 0.403921568627451, 0.7411...  \n",
       "29       622.647059  (0.7725490196078432, 0.6901960784313725, 0.835...  \n",
       "30       644.117647  (0.5490196078431373, 0.33725490196078434, 0.29...  \n",
       "31       665.588235  (0.7686274509803922, 0.611764705882353, 0.5803...  \n",
       "32       687.058824  (0.8901960784313725, 0.4666666666666667, 0.760...  \n",
       "33       708.529412  (0.9686274509803922, 0.7137254901960784, 0.823...  "
      ]
     },
     "execution_count": 256,
     "metadata": {},
     "output_type": "execute_result"
    }
   ],
   "source": [
    "unique_types"
   ]
  }
 ],
 "metadata": {
  "kernelspec": {
   "display_name": "Python 3",
   "language": "python",
   "name": "python3"
  },
  "language_info": {
   "codemirror_mode": {
    "name": "ipython",
    "version": 3
   },
   "file_extension": ".py",
   "mimetype": "text/x-python",
   "name": "python",
   "nbconvert_exporter": "python",
   "pygments_lexer": "ipython3",
   "version": "3.7.4"
  },
  "notify_time": "5",
  "toc": {
   "base_numbering": 1,
   "nav_menu": {},
   "number_sections": true,
   "sideBar": true,
   "skip_h1_title": false,
   "title_cell": "Table of Contents",
   "title_sidebar": "Contents",
   "toc_cell": false,
   "toc_position": {},
   "toc_section_display": true,
   "toc_window_display": false
  }
 },
 "nbformat": 4,
 "nbformat_minor": 2
}
