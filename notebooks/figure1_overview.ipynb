{
 "cells": [
  {
   "cell_type": "code",
   "execution_count": 1,
   "metadata": {
    "ExecuteTime": {
     "end_time": "2019-09-21T16:04:27.094673Z",
     "start_time": "2019-09-21T16:04:25.902155Z"
    }
   },
   "outputs": [],
   "source": [
    "import pandas as pd\n",
    "import numpy as np\n",
    "import seaborn as sns\n",
    "\n",
    "from collections import defaultdict, Counter"
   ]
  },
  {
   "cell_type": "code",
   "execution_count": 14,
   "metadata": {
    "ExecuteTime": {
     "end_time": "2019-09-21T16:20:49.614262Z",
     "start_time": "2019-09-21T16:20:49.596597Z"
    }
   },
   "outputs": [],
   "source": [
    "cell_line_info = pd.read_csv(\"../data/sample_info.csv\")\n",
    "cell_line_annotations = pd.read_excel(\"../data/41586_2019_1186_MOESM4_ESM.xlsx\",\n",
    "                                      sheet_name=\"Cell Line Annotations\")"
   ]
  },
  {
   "cell_type": "code",
   "execution_count": 4,
   "metadata": {
    "ExecuteTime": {
     "end_time": "2019-09-21T16:08:01.207756Z",
     "start_time": "2019-09-21T16:08:01.045289Z"
    }
   },
   "outputs": [],
   "source": [
    "hs_mut_mat = pd.read_hdf(\"../data/hs_muts.h5\",key=\"hs_muts\")\n",
    "damaging_mut_mat = pd.read_hdf(\"../data/damaging_muts.h5\",key=\"damaging_muts\")\n",
    "\n",
    "fusions = pd.read_csv(\"../data/CCLE_Fusions_20181130.txt\",sep=\"\\t\")\n",
    "copynumber = pd.read_hdf(\"../data/CCLE_gene_cn.hdf\",key=\"copynumber\")"
   ]
  },
  {
   "cell_type": "code",
   "execution_count": null,
   "metadata": {},
   "outputs": [],
   "source": [
    "tss1kb_meth = pd.read_hdf(\"../data/CCLE_RRBS_TSS1kb_20181022.hdf\",key=\"tss1kb_meth\")\n",
    "ccle_genex = pd.read_hdf(\"../data/CCLE_RNAseq_rsem_genes_tpm_20180929.hdf\",key=\"ccle_genex\")\n",
    "exonusage = pd.read_hdf(\"../data/CCLE_RNAseq_ExonUsageRatio_20180929.hdf\",key=\"exonusage\")\n",
    "\n",
    "mirna = pd.read_hdf(\"../data/CCLE_miRNA_20181103.hdf\",key=\"mirna\")\n",
    "chromatin_profiling = pd.read_hdf(\"../data/CCLE_GlobalChromatinProfiling_20181130.hdf\",key=\"chromatin_profiling\")\n",
    "rppa = pd.read_hdf(\"../data/CCLE_RPPA_20181003.hdf\",key=\"rppa\")\n",
    "\n"
   ]
  },
  {
   "cell_type": "code",
   "execution_count": 11,
   "metadata": {
    "ExecuteTime": {
     "end_time": "2019-09-21T16:20:27.315280Z",
     "start_time": "2019-09-21T16:20:27.109926Z"
    }
   },
   "outputs": [],
   "source": [
    "msi = pd.read_excel(\"../data/41586_2019_1186_MOESM10_ESM.xlsx\",sheet_name=\"MSI calls\")\n",
    "tertp = pd.read_excel(\"../data/41586_2019_1186_MOESM8_ESM.xlsx\",skiprows=4)"
   ]
  },
  {
   "cell_type": "code",
   "execution_count": 16,
   "metadata": {
    "ExecuteTime": {
     "end_time": "2019-09-21T16:20:58.130762Z",
     "start_time": "2019-09-21T16:20:58.124513Z"
    }
   },
   "outputs": [
    {
     "data": {
      "text/plain": [
       "Index(['DepMap_ID', 'stripped_cell_line_name', 'CCLE Name', 'alias',\n",
       "       'COSMIC_ID', 'lineage', 'lineage_subtype', 'lineage_sub_subtype', 'sex',\n",
       "       'source', 'Achilles_n_replicates', 'cell_line_NNMD', 'culture_type',\n",
       "       'culture_medium', 'cas9_activity', 'RRID', 'sample_collection_site',\n",
       "       'primary_or_metastasis', 'disease', 'disease_subtype', 'age',\n",
       "       'Sanger_model_ID', 'additional_info'],\n",
       "      dtype='object')"
      ]
     },
     "execution_count": 16,
     "metadata": {},
     "output_type": "execute_result"
    }
   ],
   "source": [
    "cell_line_info.columns"
   ]
  }
 ],
 "metadata": {
  "kernelspec": {
   "display_name": "Python 3",
   "language": "python",
   "name": "python3"
  },
  "language_info": {
   "codemirror_mode": {
    "name": "ipython",
    "version": 3
   },
   "file_extension": ".py",
   "mimetype": "text/x-python",
   "name": "python",
   "nbconvert_exporter": "python",
   "pygments_lexer": "ipython3",
   "version": "3.7.4"
  },
  "toc": {
   "base_numbering": 1,
   "nav_menu": {},
   "number_sections": true,
   "sideBar": true,
   "skip_h1_title": false,
   "title_cell": "Table of Contents",
   "title_sidebar": "Contents",
   "toc_cell": false,
   "toc_position": {},
   "toc_section_display": true,
   "toc_window_display": false
  }
 },
 "nbformat": 4,
 "nbformat_minor": 2
}
