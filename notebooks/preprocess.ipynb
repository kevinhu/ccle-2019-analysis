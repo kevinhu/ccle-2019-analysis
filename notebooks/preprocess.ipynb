{
 "cells": [
  {
   "cell_type": "code",
   "execution_count": 35,
   "metadata": {
    "ExecuteTime": {
     "end_time": "2019-09-21T16:10:41.058967Z",
     "start_time": "2019-09-21T16:10:41.055416Z"
    }
   },
   "outputs": [],
   "source": [
    "import pandas as pd\n",
    "import numpy as np\n",
    "import seaborn as sns\n",
    "\n",
    "from collections import defaultdict, Counter\n",
    "\n",
    "def format_name(x):\n",
    "    x_split = x.split(\" (\")\n",
    "    return x_split[0] + \"_\" + x_split[1][:-1]"
   ]
  },
  {
   "cell_type": "markdown",
   "metadata": {},
   "source": [
    "# CCLE name to Achilles ID mapping\n",
    "\n",
    "Cell lines can be identified both by a CCLE name (for instance, \"HELA_CERVIX\") or with an Achilles ID (for instance, \"ACH-001086\"). For consistency, we will use the Achilles ID."
   ]
  },
  {
   "cell_type": "code",
   "execution_count": 25,
   "metadata": {
    "ExecuteTime": {
     "end_time": "2019-09-20T22:18:47.108355Z",
     "start_time": "2019-09-20T22:18:47.077508Z"
    }
   },
   "outputs": [],
   "source": [
    "cell_line_info = pd.read_csv(\"../data/sample_info.csv\")\n",
    "ccle_achilles_map = dict(zip(cell_line_info[\"CCLE Name\"],cell_line_info[\"DepMap_ID\"]))\n",
    "\n",
    "ccle_achilles_map[\"451LU_NS\"] = ccle_achilles_map[\"451LU_SKIN\"]\n",
    "ccle_achilles_map[\"ACN\"] = ccle_achilles_map[\"ACN_AUTONOMIC_GANGLIA\"]\n",
    "ccle_achilles_map[\"CORL321_PLEURA\"] = ccle_achilles_map[\"CORL321_LUNG\"]\n",
    "ccle_achilles_map[\"HS940T_SKIN\"] = ccle_achilles_map[\"HS940T_FIBROBLAST\"]\n",
    "ccle_achilles_map[\"M00921\"] = ccle_achilles_map[\"M00921_SKIN\"]\n",
    "ccle_achilles_map[\"M1203273\"] = ccle_achilles_map[\"M1203273_SKIN\"]\n",
    "ccle_achilles_map[\"MCIXC_AUTONOMIC_GANGLIA\"] = ccle_achilles_map[\"MCIXC_BONE\"]\n",
    "ccle_achilles_map[\"MET2B\"] = ccle_achilles_map[\"MET2B_SKIN\"]\n",
    "ccle_achilles_map[\"RF48_STOMACH\"] = ccle_achilles_map[\"RF48_HAEMATOPOIETIC_AND_LYMPHOID_TISSUE\"]\n",
    "ccle_achilles_map[\"RH1_SOFT_TISSUE\"] = ccle_achilles_map[\"RH1_BONE\"]\n",
    "ccle_achilles_map[\"S117_SOFT_TISSUE\"] = ccle_achilles_map[\"S117_THYROID\"]\n",
    "ccle_achilles_map[\"SKN_URINARY_TRACT\"] = ccle_achilles_map[\"SKN_ENDOMETRIUM\"]\n",
    "ccle_achilles_map[\"SW13_ADRENAL_GLAND\"] = ccle_achilles_map[\"SW13_ADRENAL_CORTEX\"]\n",
    "ccle_achilles_map[\"SW626_OVARY\"] = ccle_achilles_map[\"SW626_LARGE_INTESTINE\"]\n",
    "ccle_achilles_map[\"SW954_VULVA\"] = ccle_achilles_map[\"SW954_CERVIX\"]\n",
    "ccle_achilles_map[\"TASK1_BONE\"] = ccle_achilles_map[\"TASK1_CENTRAL_NERVOUS_SYSTEM\"]\n",
    "ccle_achilles_map[\"WM793B_SKIN\"] = ccle_achilles_map[\"WM793_SKIN\"]\n",
    "ccle_achilles_map[\"HS751T_HAEMATOPOIETIC_AND_LYMPHOID_TISSUE\"] = ccle_achilles_map[\"HS751T_FIBROBLAST\"]\n",
    "ccle_achilles_map[\"HS604T_HAEMATOPOIETIC_AND_LYMPHOID_TISSUE\"] = ccle_achilles_map[\"HS604T_FIBROBLAST\"]\n",
    "ccle_achilles_map[\"HS274T_BREAST\"] = ccle_achilles_map[\"HS274T_FIBROBLAST\"]\n",
    "ccle_achilles_map[\"AZ521_STOMACH\"] = ccle_achilles_map[\"AZ521_SMALL_INTESTINE\"]\n",
    "ccle_achilles_map[\"HS895T_SKIN\"] = ccle_achilles_map[\"HS895T_FIBROBLAST\"]\n",
    "ccle_achilles_map[\"T173_BONE\"] = ccle_achilles_map[\"T173_FIBROBLAST\"]\n",
    "ccle_achilles_map[\"HS870T_BONE\"] = ccle_achilles_map[\"HS870T_FIBROBLAST\"]\n",
    "ccle_achilles_map[\"HS255T_LARGE_INTESTINE\"] = ccle_achilles_map[\"HS255T_FIBROBLAST\"]\n",
    "ccle_achilles_map[\"HS675T_LARGE_INTESTINE\"] = ccle_achilles_map[\"HS675T_FIBROBLAST\"]\n",
    "ccle_achilles_map[\"HS839T_SKIN\"] = ccle_achilles_map[\"HS839T_FIBROBLAST\"]\n",
    "ccle_achilles_map[\"HS819T_BONE\"] = ccle_achilles_map[\"HS819T_FIBROBLAST\"]\n",
    "ccle_achilles_map[\"TO175T_HAEMATOPOIETIC_AND_LYMPHOID_TISSUE\"] = ccle_achilles_map[\"TO175T_FIBROBLAST\"]\n",
    "ccle_achilles_map[\"HS840T_UPPER_AERODIGESTIVE_TRACT\"] = ccle_achilles_map[\"HS840T_FIBROBLAST\"]\n",
    "ccle_achilles_map[\"HS229T_LUNG\"] = ccle_achilles_map[\"HS229T_FIBROBLAST\"]\n",
    "ccle_achilles_map[\"HS616T_HAEMATOPOIETIC_AND_LYMPHOID_TISSUE\"] = ccle_achilles_map[\"HS616T_FIBROBLAST\"]\n",
    "ccle_achilles_map[\"HS600T_SKIN\"] = ccle_achilles_map[\"HS600T_FIBROBLAST\"]\n",
    "ccle_achilles_map[\"TE159T_SOFT_TISSUE\"] = ccle_achilles_map[\"TE159T_FIBROBLAST\"]\n",
    "ccle_achilles_map[\"HLFA_LUNG\"] = ccle_achilles_map[\"HLFA_FIBROBLAST\"]\n",
    "ccle_achilles_map[\"HS606T_BREAST\"] = ccle_achilles_map[\"HS606T_FIBROBLAST\"]\n",
    "ccle_achilles_map[\"RS5_PLEURA\"] = ccle_achilles_map[\"RS5_FIBROBLAST\"]\n",
    "ccle_achilles_map[\"HS834T_SKIN\"] = ccle_achilles_map[\"HS834T_FIBROBLAST\"]\n",
    "ccle_achilles_map[\"TE125T_SOFT_TISSUE\"] = ccle_achilles_map[\"TE125T_FIBROBLAST\"]\n",
    "ccle_achilles_map[\"HS281T_BREAST\"] = ccle_achilles_map[\"HS281T_FIBROBLAST\"]\n",
    "ccle_achilles_map[\"HS863T_BONE\"] = ccle_achilles_map[\"HS863T_FIBROBLAST\"]\n",
    "ccle_achilles_map[\"HS343T_BREAST\"] = ccle_achilles_map[\"HS343T_FIBROBLAST\"]\n",
    "ccle_achilles_map[\"HS888T_BONE\"] = ccle_achilles_map[\"HS888T_FIBROBLAST\"]\n",
    "ccle_achilles_map[\"HS739T_BREAST\"] = ccle_achilles_map[\"HS739T_FIBROBLAST\"]\n",
    "ccle_achilles_map[\"X5637_URINARY_TRACT\"] = ccle_achilles_map[\"5637_URINARY_TRACT\"]\n",
    "ccle_achilles_map[\"HS618T_LUNG\"] = ccle_achilles_map[\"HS618T_FIBROBLAST\"]\n",
    "ccle_achilles_map[\"HS742T_BREAST\"] = ccle_achilles_map[\"HS742T_FIBROBLAST\"]\n",
    "ccle_achilles_map[\"X59M_OVARY\"] = ccle_achilles_map[\"59M_OVARY\"]\n",
    "ccle_achilles_map[\"ALEXANDERCELLS_LIVER\"] = ccle_achilles_map[\"PLCPRF5_LIVER\"]\n",
    "ccle_achilles_map[\"HS688AT_SKIN\"] = ccle_achilles_map[\"HS688AT_FIBROBLAST\"]\n",
    "ccle_achilles_map[\"HS822T_BONE\"] = ccle_achilles_map[\"HS822T_FIBROBLAST\"]\n",
    "ccle_achilles_map[\"HS737T_BONE\"] = ccle_achilles_map[\"HS737T_FIBROBLAST\"]\n",
    "ccle_achilles_map[\"X143B_BONE\"] = ccle_achilles_map[\"143B_BONE\"]\n",
    "ccle_achilles_map[\"X769P_KIDNEY\"] = ccle_achilles_map[\"769P_KIDNEY\"]\n",
    "ccle_achilles_map[\"X786O_KIDNEY\"] = ccle_achilles_map[\"786O_KIDNEY\"]\n",
    "ccle_achilles_map[\"X42MGBA_CENTRAL_NERVOUS_SYSTEM\"] = ccle_achilles_map[\"42MGBA_CENTRAL_NERVOUS_SYSTEM\"]\n",
    "ccle_achilles_map[\"X1321N1_CENTRAL_NERVOUS_SYSTEM\"] = ccle_achilles_map[\"1321N1_CENTRAL_NERVOUS_SYSTEM\"]\n",
    "ccle_achilles_map[\"X8MGBA_CENTRAL_NERVOUS_SYSTEM\"] = ccle_achilles_map[\"8MGBA_CENTRAL_NERVOUS_SYSTEM\"]\n",
    "ccle_achilles_map[\"X22RV1_PROSTATE\"] = ccle_achilles_map[\"22RV1_PROSTATE\"]\n",
    "ccle_achilles_map[\"BJHTERT_SKIN\"] = ccle_achilles_map[\"BJHTERT_FIBROBLAST\"]\n",
    "ccle_achilles_map[\"TIG3TD_LUNG\"] = ccle_achilles_map[\"TIG3TD_FIBROBLAST\"]\n",
    "ccle_achilles_map[\"HS172T_URINARY_TRACT\"] = ccle_achilles_map[\"HS172T_FIBROBLAST\"]\n",
    "ccle_achilles_map[\"X8305C_THYROID\"] = ccle_achilles_map[\"8305C_THYROID\"]\n",
    "ccle_achilles_map[\"DM3_PLEURA\"] = ccle_achilles_map[\"DM3_FIBROBLAST\"]\n",
    "ccle_achilles_map[\"HS698T_LARGE_INTESTINE\"] = ccle_achilles_map[\"HS698T_FIBROBLAST\"]\n",
    "ccle_achilles_map[\"HS934T_SKIN\"] = ccle_achilles_map[\"HS934T_FIBROBLAST\"]\n",
    "ccle_achilles_map[\"HS821T_BONE\"] = ccle_achilles_map[\"HS821T_FIBROBLAST\"]\n",
    "ccle_achilles_map[\"X8505C_THYROID\"] = ccle_achilles_map[\"8505C_THYROID\"]\n",
    "ccle_achilles_map[\"X697_HAEMATOPOIETIC_AND_LYMPHOID_TISSUE\"] = ccle_achilles_map[\"697_HAEMATOPOIETIC_AND_LYMPHOID_TISSUE\"]\n",
    "ccle_achilles_map[\"X2313287_STOMACH\"] = ccle_achilles_map[\"2313287_STOMACH\"]\n",
    "ccle_achilles_map[\"X639V_URINARY_TRACT\"] = ccle_achilles_map[\"639V_URINARY_TRACT\"]\n",
    "ccle_achilles_map[\"X647V_URINARY_TRACT\"] = ccle_achilles_map[\"647V_URINARY_TRACT\"]\n",
    "ccle_achilles_map[\"GISTT1_GASTROINTESTINAL_TRACT\"] = ccle_achilles_map[\"GISTT1_STOMACH\"]\n",
    "ccle_achilles_map[\"93T449_SOFT_TISSUE\"] = \"ACH-001794\"\n",
    "ccle_achilles_map['95T1000_SOFT_TISSUE'] = \"ACH-001796\"\n",
    "ccle_achilles_map['C396_BONE'] = \"ACH-001818\"\n",
    "ccle_achilles_map['CCLP1_BILIARY_TRACT'] = \"ACH-001959\"\n",
    "ccle_achilles_map['CCSW1_BILIARY_TRACT'] = \"ACH-001960\"\n",
    "ccle_achilles_map['CII_HAEMATOPOIETIC_AND_LYMPHOID_TISSUE'] = \"ACH-001484\"\n",
    "ccle_achilles_map['H357_UPPER_AERODIGESTIVE_TRACT'] = \"ACH-001509\"\n",
    "ccle_achilles_map['HB1119_HAEMATOPOIETIC_AND_LYMPHOID_TISSUE'] = \"ACH-001736\"\n",
    "ccle_achilles_map['ICC108_BILIARY_TRACT'] = 'ACH-001836'\n",
    "ccle_achilles_map['ICC12_BILIARY_TRACT'] = \"ACH-001838\"\n",
    "ccle_achilles_map['ICC2_BILIARY_TRACT'] = \"ACH-001842\"\n",
    "ccle_achilles_map['ICC8_BILIARY_TRACT'] = \"ACH-001848\"\n",
    "ccle_achilles_map['ICC9_BILIARY_TRACT'] = \"ACH-001849\"\n",
    "ccle_achilles_map['KE97_STOMACH'] = \"ACH-000167\"\n",
    "ccle_achilles_map['LPS27_SOFT_TISSUE'] = \"ACH-001793\"\n",
    "ccle_achilles_map['LPS6_SOFT_TISSUE'] = \"ACH-001791\"\n",
    "ccle_achilles_map['LS_AUTONOMIC_GANGLIA'] = \"ACH-001548\"\n",
    "ccle_achilles_map['NCIH684_LARGE_INTESTINE'] = \"ACH-000089\"\n",
    "ccle_achilles_map['NGP_AUTONOMIC_GANGLIA'] = \"ACH-001366\"\n",
    "ccle_achilles_map['NHAHTDD_PRIMARY'] = \"ACH-001142\"\n",
    "ccle_achilles_map['OCIM2_HAEMATOPOIETIC_AND_LYMPHOID_TISSUE'] = \"ACH-001618\"\n",
    "ccle_achilles_map['OS252_BONE'] = \"ACH-001814\"\n",
    "ccle_achilles_map['ACH-001316'] = \"ACH-001316\"\n",
    "ccle_achilles_map['PGA1_HAEMATOPOIETIC_AND_LYMPHOID_TISSUE'] = \"ACH-001634\"\n",
    "ccle_achilles_map['RBE_BILIARY_TRACT'] = \"ACH-001856\"\n",
    "ccle_achilles_map['RH18DM_SOFT_TISSUE'] = \"ACH-001790\"\n",
    "ccle_achilles_map['SEMK2_HAEMATOPOIETIC_AND_LYMPHOID_TISSUE'] = \"ACH-001735\"\n",
    "ccle_achilles_map['SG231_BILIARY_TRACT'] = \"ACH-001857\"\n",
    "ccle_achilles_map['SHI1_HAEMATOPOIETIC_AND_LYMPHOID_TISSUE'] = \"ACH-001647\"\n",
    "ccle_achilles_map['SNU638_STOMACH'] = \"ACH-001664\"\n",
    "ccle_achilles_map['SUSA_TESTIS'] = \"ACH-001668\"\n",
    "ccle_achilles_map['WERIRB1_AUTONOMIC_GANGLIA'] = \"ACH-001421\""
   ]
  },
  {
   "cell_type": "markdown",
   "metadata": {},
   "source": [
    "# Gencode v19 definitions\n",
    "\n",
    "The gene expression estimates in the CCLE were computed using the GENCODE v19 definitions. Here we read these in and do some pre-formatting to extract the gene transcripts and ENSEMBL IDs, before saving to an HDF5 file for faster loading."
   ]
  },
  {
   "cell_type": "code",
   "execution_count": 8,
   "metadata": {
    "ExecuteTime": {
     "end_time": "2019-09-20T21:21:38.075248Z",
     "start_time": "2019-09-20T21:21:32.438963Z"
    }
   },
   "outputs": [
    {
     "name": "stderr",
     "output_type": "stream",
     "text": [
      "/Users/khu/anaconda3/envs/cenv/lib/python3.7/site-packages/pandas/core/generic.py:2531: PerformanceWarning: \n",
      "your performance may suffer as PyTables will pickle object types that it cannot\n",
      "map directly to c-types [inferred_type->mixed-integer,key->block1_values] [items->['chrom', 'source', 'type', '.1', 'strand', '.2', 'info', 'ensembl_gene_id', 'gene_name', 'ensembl_tx_id']]\n",
      "\n",
      "  pytables.to_hdf(path_or_buf, key, self, **kwargs)\n"
     ]
    }
   ],
   "source": [
    "g19_definitions = pd.read_csv(\"../data/gencode.v19.genes.v7_model.patched_contigs.gtf.gz\",sep=\"\\t\",skiprows=6,\n",
    "                              names=[\"chrom\",\"source\",\"type\",\"start\",\"end\",\".1\",\"strand\",\".2\",\"info\"])\n",
    "\n",
    "# ENSEMBL gene ID\n",
    "g19_definitions[\"ensembl_gene_id\"] = g19_definitions[\"info\"].apply(\n",
    "    lambda x: x.split(\";\")[0][9:-1])\n",
    "\n",
    "# Gene name (HUGO)\n",
    "g19_definitions[\"gene_name\"] = g19_definitions[\"info\"].apply(\n",
    "    lambda x: x.split(\"gene_name\")[1].split(\";\")[0][2:-1])\n",
    "\n",
    "# ENSEMBL transcript ID\n",
    "g19_definitions[\"ensembl_tx_id\"] = g19_definitions[\"info\"].apply(\n",
    "    lambda x: x.split(\"transcript_id\")[1].split(\";\")[0][2:-1])\n",
    "\n",
    "# ENSEMBL name map\n",
    "ensembl_id_map = dict(zip(g19_gene_definitions[\"ensembl_gene_id\"],g19_gene_definitions[\"gene_name\"]))\n",
    "ensembl_id_map = defaultdict(str, ensembl_id_map)\n",
    "\n",
    "# Export to HDF5\n",
    "g19_definitions.to_hdf(\"../data/gencode.v19.genes.v7_model.patched_contigs.h5\",key=\"g19_definitions\")"
   ]
  },
  {
   "cell_type": "markdown",
   "metadata": {},
   "source": [
    "# RNA-seq\n",
    "\n",
    "The CCLE includes 1,019 cell lines for which deep RNA-sequencing was performed. These were then used to estimate gene expression, transcript expression, and exon inclusion ratios. Here we load these files and save to HDF5 for faster loading."
   ]
  },
  {
   "cell_type": "markdown",
   "metadata": {},
   "source": [
    "## Exon inclusions"
   ]
  },
  {
   "cell_type": "code",
   "execution_count": null,
   "metadata": {},
   "outputs": [],
   "source": [
    "# Change the exon naming scheme\n",
    "def reorder_exon(exon):\n",
    "    exon_split = exon.split(\"_\")\n",
    "    return \"_\".join(exon_split[3:]) + \"_\" + \"_\".join(exon_split[:3])\n",
    "\n",
    "exonusage = pd.read_csv(\"raw/ccle/CCLE_RNAseq_ExonUsageRatio_20180929.gct\",skiprows=2,index_col=0,sep=\"\\t\")\n",
    "exonusage.index = exonusage.index.map(lambda x:reorder_exon(x))\n",
    "\n",
    "# Fix inconsistant NaN values\n",
    "exonusage[exonusage==\"\\tNA\"] = np.nan\n",
    "exonusage[exonusage==\"    NA\"] = np.nan\n",
    "exonusage[exonusage==\"     NA\"] = np.nan\n",
    "exonusage = exonusage.astype(float)\n",
    "\n",
    "# Define columns\n",
    "exon_ids = pd.Series(exonusage.index,index=exonusage.index) + \"_\" + pd.Series(exonusage[\"gene_id\"])\n",
    "exonusage = exonusage.set_index(exon_ids).iloc[:,1:]\n",
    "exonusage = exonusage.T\n",
    "\n",
    "# Map CCLE cell line names to Achilles IDs\n",
    "exonusage.index = exonusage.index.map(lambda x: ccle_achilles_map[x])\n",
    "\n",
    "# Exon inclusion measurements require that the gene is sufficiently expressed.\n",
    "# In the interest of space, we only keep exons with less than 800 missing values\n",
    "exonusage_nans = exonusage.isna().sum(axis=0)\n",
    "sns.distplot(exonusage_nans)\n",
    "exonusage = exonusage[exonusage.columns[exonusage_nans<800]]\n",
    "\n",
    "# We also drop exons with low variability of inclusion (standard deviation less than 0.1)\n",
    "exonusage_stdevs = exonusage.std(axis=0)\n",
    "sns.distplot(exonusage_stdevs)\n",
    "exonusage = exonusage[exonusage.columns[exonusage_stdevs>0.1]]\n",
    "\n",
    "# Export to HDF5\n",
    "exonusage.to_hdf(\"../data/CCLE_RNAseq_ExonUsageRatio_20180929.hdf\",key=\"exonusage\")"
   ]
  },
  {
   "cell_type": "markdown",
   "metadata": {},
   "source": [
    "## Transcript expression"
   ]
  },
  {
   "cell_type": "code",
   "execution_count": null,
   "metadata": {},
   "outputs": [],
   "source": [
    "ccle_transcripts = pd.read_csv(\"../data/CCLE_RNAseq_rsem_transcripts_tpm_20180929.txt\",sep=\"\\t\",index_col=1)\n",
    "ccle_transcripts[\"gene_id\"] = ccle_transcripts[\"gene_id\"].apply(lambda x: ensembl_id_map[x])\n",
    "\n",
    "# Change the transcript naming format\n",
    "gene_transcript_ids = ccle_transcripts[\"gene_id\"] + \"_\" + pd.Series(ccle_transcripts.index,index=ccle_transcripts.index)\n",
    "ccle_transcripts = ccle_transcripts.set_index(gene_transcript_ids)\n",
    "\n",
    "# Pseudo-log transform and name mapping\n",
    "ccle_transcripts = ccle_transcripts.iloc[:,1:]\n",
    "ccle_transcripts = np.log2(ccle_transcripts+1)\n",
    "ccle_transcripts = ccle_transcripts.T\n",
    "ccle_transcripts.index = ccle_transcripts.index.map(lambda x: ccle_achilles_map[x])\n",
    "\n",
    "# Standard deviation filtering\n",
    "ccle_transcript_stdevs = ccle_transcripts.std(axis=0)\n",
    "sns.distplot(ccle_transcript_stdevs)\n",
    "ccle_transcripts = ccle_transcripts[ccle_transcripts.columns[ccle_transcript_stdevs>0.25]]\n",
    "\n",
    "# Export to HDF5\n",
    "ccle_transcripts.to_hdf(\"../data/CCLE_RNAseq_rsem_transcripts_tpm_20180929.hdf\",key=\"ccle_transcripts\")"
   ]
  },
  {
   "cell_type": "markdown",
   "metadata": {},
   "source": [
    "## Gene expression"
   ]
  },
  {
   "cell_type": "code",
   "execution_count": null,
   "metadata": {},
   "outputs": [],
   "source": [
    "ccle_genex = pd.read_csv(\"../data/CCLE_RNAseq_rsem_genes_tpm_20180929.txt\",sep=\"\\t\",index_col=0)\n",
    "\n",
    "# Drop info columns\n",
    "ccle_genex = ccle_genex.iloc[:,1:]\n",
    "\n",
    "# Map ensembl IDs\n",
    "ccle_gene_names = ccle_genex.index.map(lambda x: ensembl_id_map[x])\n",
    "gene_names_ids = ccle_gene_names + \"_\" + pd.Series(ccle_genex.index,index=ccle_genex.index)\n",
    "ccle_genex = ccle_genex.set_index(gene_names_ids)\n",
    "\n",
    "# Pseudo-log transform and Achilles name map\n",
    "ccle_genex = np.log2(ccle_genex+1)\n",
    "ccle_genex = ccle_genex.T\n",
    "ccle_genex.index = ccle_genex.index.map(lambda x: ccle_achilles_map[x])\n",
    "\n",
    "# Export to HDF5\n",
    "ccle_genex.to_hdf(\"../data/CCLE_RNAseq_rsem_genes_tpm_20180929.hdf\",key=\"ccle_genex\")"
   ]
  },
  {
   "cell_type": "markdown",
   "metadata": {},
   "source": [
    "# RRBS\n",
    "\n",
    "The CCLE includes reduced-representation bisulfite sequencing (RRBS) profiling of 843 cell lines, which measures methylation levels at CpG sites across the genome. We aggregated these CpG-level estimates to look at methylation of gene promoter regions, promoter-proximal CpG clusters, and enhancer segments. "
   ]
  },
  {
   "cell_type": "markdown",
   "metadata": {},
   "source": [
    "## Promoter regions (1kb ahead of the TSS)"
   ]
  },
  {
   "cell_type": "code",
   "execution_count": null,
   "metadata": {},
   "outputs": [],
   "source": [
    "tss1kb_meth = pd.read_csv(\"../data/CCLE_RRBS_TSS1kb_20181022.txt\",sep=\"\\t\",index_col=0)\n",
    "\n",
    "# Drop info columns\n",
    "tss1kb_meth = tss1kb_meth.iloc[:-1,2:]\n",
    "tss1kb_meth = tss1kb_meth.T\n",
    "\n",
    "# Achilles name map\n",
    "tss1kb_meth.index = tss1kb_meth.index.map(lambda x: ccle_achilles_map[x])\n",
    "\n",
    "# Fix inconsistant NaN values\n",
    "tss1kb_meth[tss1kb_meth==\"\\tNA\"] = np.nan\n",
    "tss1kb_meth[tss1kb_meth==\"    NA\"] = np.nan\n",
    "tss1kb_meth[tss1kb_meth==\"     NA\"] = np.nan\n",
    "tss1kb_meth = tss1kb_meth.astype(float)\n",
    "\n",
    "# Standard deviation filtering\n",
    "tss1kb_meth_stds = tss1kb_meth.std(axis=0)\n",
    "sns.distplot(tss1kb_meth_stds)\n",
    "tss1kb_meth = tss1kb_meth[tss1kb_meth.columns[tss1kb_meth_stds>0.05]]\n",
    "\n",
    "# Export to HDF5\n",
    "tss1kb_meth.to_hdf(\"../data/CCLE_RRBS_TSS1kb_20181022.hdf\",key=\"tss1kb_meth\")"
   ]
  },
  {
   "cell_type": "markdown",
   "metadata": {},
   "source": [
    "## Promoter region clusters"
   ]
  },
  {
   "cell_type": "code",
   "execution_count": null,
   "metadata": {},
   "outputs": [],
   "source": [
    "tssclust_meth = pd.read_csv(\"../data/CCLE_RRBS_tss_CpG_clusters_20181022.txt\",sep=\"\\t\",index_col=0)\n",
    "\n",
    "# Drop info columns\n",
    "tssclust_meth = tssclust_meth.iloc[:-1,2:]\n",
    "tssclust_meth = tssclust_meth.T\n",
    "\n",
    "# Achilles name map\n",
    "tssclust_meth.index = tssclust_meth.index.map(lambda x: ccle_achilles_map[x])\n",
    "\n",
    "# Fix inconsistant NaN values\n",
    "tssclust_meth[tssclust_meth==\"\\tNA\"] = np.nan\n",
    "tssclust_meth[tssclust_meth==\"    NA\"] = np.nan\n",
    "tssclust_meth[tssclust_meth==\"     NA\"] = np.nan\n",
    "tssclust_meth = tssclust_meth.astype(float)\n",
    "\n",
    "# Standard deviation filtering\n",
    "tssclust_meth_stds = tssclust_meth.std(axis=0)\n",
    "sns.distplot(tssclust_meth_stds)\n",
    "tssclust_meth = tssclust_meth[tssclust_meth.columns[tssclust_meth_stds>0.05]]\n",
    "\n",
    "# Export to HDF5\n",
    "tssclust_meth.to_hdf(\"../data/CCLE_RRBS_tss_CpG_clusters_20181022.hdf\",key=\"tssclust_meth\")"
   ]
  },
  {
   "cell_type": "markdown",
   "metadata": {},
   "source": [
    "# miRNA profiling"
   ]
  },
  {
   "cell_type": "code",
   "execution_count": null,
   "metadata": {},
   "outputs": [],
   "source": [
    "mirna = pd.read_csv(\"../data/CCLE_miRNA_20181103.gct.txt\",sep=\"\\t\",skiprows=2)\n",
    "mirna.index = mirna[\"Description\"] + \"_\" + mirna[\"Name\"].apply(lambda x: x[1:])\n",
    "\n",
    "# Drop info columns and log2-transform\n",
    "mirna = mirna.iloc[:,2:]\n",
    "mirna = np.log2(mirna.T)\n",
    "\n",
    "# Achilles name map\n",
    "mirna.index = mirna.index.map(lambda x: ccle_achilles_map[x])\n",
    "\n",
    "# Export to HDF5\n",
    "mirna.to_hdf(\"../data/CCLE_miRNA_20181103.hdf\",key=\"mirna\")"
   ]
  },
  {
   "cell_type": "markdown",
   "metadata": {},
   "source": [
    "# RPPA"
   ]
  },
  {
   "cell_type": "code",
   "execution_count": null,
   "metadata": {},
   "outputs": [],
   "source": [
    "rppa = pd.read_csv(\"../data/CCLE_RPPA_20181003.csv\",index_col=0)\n",
    "rppa.index = rppa.index.map(lambda x: name_mappings.name_map[x])\n",
    "rppa.to_hdf(\"../data/CCLE_RPPA_20181003.hdf\",key=\"rppa\")"
   ]
  },
  {
   "cell_type": "markdown",
   "metadata": {},
   "source": [
    "# Chromatin profiling"
   ]
  },
  {
   "cell_type": "code",
   "execution_count": 30,
   "metadata": {
    "ExecuteTime": {
     "end_time": "2019-09-21T16:06:14.139065Z",
     "start_time": "2019-09-21T16:06:13.874132Z"
    }
   },
   "outputs": [],
   "source": [
    "chromatin_profiling = pd.read_csv(\"../data/CCLE_GlobalChromatinProfiling_20181130.csv\",index_col=1).iloc[:,1:]\n",
    "chromatin_profiling.to_hdf(\"../data/CCLE_GlobalChromatinProfiling_20181130.hdf\",key=\"chromatin_profiling\")"
   ]
  },
  {
   "cell_type": "markdown",
   "metadata": {},
   "source": [
    "# Copy number estimates"
   ]
  },
  {
   "cell_type": "code",
   "execution_count": 39,
   "metadata": {
    "ExecuteTime": {
     "end_time": "2019-09-21T16:12:04.886963Z",
     "start_time": "2019-09-21T16:11:21.182769Z"
    }
   },
   "outputs": [],
   "source": [
    "copynumber = pd.read_csv(\"../data/CCLE_gene_cn.csv\",index_col=0)\n",
    "copynumber.columns = copynumber.columns.map(lambda x: format_name(x))\n",
    "copynumber.to_hdf(\"../data/CCLE_gene_cn.hdf\",key=\"copynumber\")"
   ]
  },
  {
   "cell_type": "markdown",
   "metadata": {},
   "source": [
    "# Mutation profiling"
   ]
  },
  {
   "cell_type": "code",
   "execution_count": 41,
   "metadata": {
    "ExecuteTime": {
     "end_time": "2019-09-21T16:30:43.873961Z",
     "start_time": "2019-09-21T16:30:35.879376Z"
    }
   },
   "outputs": [
    {
     "name": "stderr",
     "output_type": "stream",
     "text": [
      "/Users/khu/anaconda3/envs/cenv/lib/python3.7/site-packages/IPython/core/interactiveshell.py:3058: DtypeWarning: Columns (4,20,23,26,27,28,29,30,31,32,33) have mixed types. Specify dtype option on import or set low_memory=False.\n",
      "  interactivity=interactivity, compiler=compiler, result=result)\n",
      "/Users/khu/anaconda3/envs/cenv/lib/python3.7/site-packages/numpy/lib/arraysetops.py:569: FutureWarning: elementwise comparison failed; returning scalar instead, but in the future will perform elementwise comparison\n",
      "  mask |= (ar1 == a)\n"
     ]
    }
   ],
   "source": [
    "mutation_calls = pd.read_csv(\"../data/depmap_19Q1_mutation_calls.csv\",index_col=0)\n"
   ]
  },
  {
   "cell_type": "code",
   "execution_count": 43,
   "metadata": {
    "ExecuteTime": {
     "end_time": "2019-09-21T16:30:58.632708Z",
     "start_time": "2019-09-21T16:30:58.535773Z"
    }
   },
   "outputs": [
    {
     "data": {
      "text/plain": [
       "1601"
      ]
     },
     "execution_count": 43,
     "metadata": {},
     "output_type": "execute_result"
    }
   ],
   "source": [
    "len(set(mutation_calls[\"DepMap_ID\"]))"
   ]
  },
  {
   "cell_type": "code",
   "execution_count": 50,
   "metadata": {
    "ExecuteTime": {
     "end_time": "2019-09-21T16:38:01.874213Z",
     "start_time": "2019-09-21T16:37:39.237000Z"
    }
   },
   "outputs": [
    {
     "name": "stderr",
     "output_type": "stream",
     "text": [
      "/Users/khu/anaconda3/envs/cenv/lib/python3.7/site-packages/ipykernel_launcher.py:16: SettingWithCopyWarning: \n",
      "A value is trying to be set on a copy of a slice from a DataFrame.\n",
      "Try using .loc[row_indexer,col_indexer] = value instead\n",
      "\n",
      "See the caveats in the documentation: http://pandas.pydata.org/pandas-docs/stable/user_guide/indexing.html#returning-a-view-versus-a-copy\n",
      "  app.launch_new_instance()\n",
      "/Users/khu/anaconda3/envs/cenv/lib/python3.7/site-packages/ipykernel_launcher.py:17: SettingWithCopyWarning: \n",
      "A value is trying to be set on a copy of a slice from a DataFrame.\n",
      "Try using .loc[row_indexer,col_indexer] = value instead\n",
      "\n",
      "See the caveats in the documentation: http://pandas.pydata.org/pandas-docs/stable/user_guide/indexing.html#returning-a-view-versus-a-copy\n"
     ]
    }
   ],
   "source": [
    "mutation_calls = pd.read_csv(\n",
    "    \"../data/depmap_19Q1_mutation_calls.csv\", index_col=0)\n",
    "\n",
    "unique_lines = sorted(list(set(mutation_calls[\"DepMap_ID\"])))\n",
    "unique_lines = pd.Series(index=unique_lines)\n",
    "\n",
    "damaging_muts = mutation_calls[mutation_calls[\"Variant_annotation\"] == \"damaging\"]\n",
    "hs_muts = mutation_calls[(mutation_calls[\"isCOSMIChotspot\"] == True) | (\n",
    "    mutation_calls[\"isTCGAhotspot\"] == True)]\n",
    "\n",
    "# Counts of each mutation\n",
    "damaging_counts = Counter(damaging_muts[\"Hugo_Symbol\"])\n",
    "hs_counts = Counter(hs_muts[\"Hugo_Symbol\"])\n",
    "\n",
    "damaging_muts[\"count\"] = damaging_muts[\"Hugo_Symbol\"].apply(\n",
    "    lambda x: damaging_counts[x])\n",
    "hs_muts[\"count\"] = hs_muts[\"Hugo_Symbol\"].apply(lambda x: hs_counts[x])\n",
    "\n",
    "# Keep recurrently mutated genes\n",
    "damaging_muts = damaging_muts[damaging_muts[\"count\"] >= 1]\n",
    "hs_muts = hs_muts[hs_muts[\"count\"] >= 1]\n",
    "\n",
    "damaging_muts[\"id\"] = damaging_muts[\"Hugo_Symbol\"] + \\\n",
    "    \"_\" + damaging_muts[\"DepMap_ID\"]\n",
    "hs_muts[\"id\"] = hs_muts[\"Hugo_Symbol\"] + \"_\" + hs_muts[\"DepMap_ID\"]\n",
    "\n",
    "# Drop double-mutated instances\n",
    "damaging_muts = damaging_muts.drop_duplicates(subset=[\"id\"], keep=\"first\")\n",
    "hs_muts = hs_muts.drop_duplicates(subset=[\"id\"], keep=\"first\")\n",
    "\n",
    "# Dummy value for pivoting\n",
    "hs_muts[\"value\"] = 1\n",
    "damaging_muts[\"value\"] = 1\n",
    "\n",
    "# Pivot from list of cell lines + mutations to cell lines vs. mutations\n",
    "hs_mut_mat = pd.pivot_table(hs_muts, values=\"value\",\n",
    "                            index=[\"DepMap_ID\"], columns=\"Hugo_Symbol\", fill_value=0)\n",
    "damaging_mut_mat = pd.pivot_table(damaging_muts, values=\"value\",\n",
    "                                  index=[\"DepMap_ID\"], columns=\"Hugo_Symbol\", fill_value=0)\n",
    "\n",
    "hs_mut_mat,_ = hs_mut_mat.align(unique_lines,join=\"right\",axis=0)\n",
    "damaging_mut_mat,_ = damaging_mut_mat.align(unique_lines,join=\"right\",axis=0)\n",
    "\n",
    "hs_mut_mat = hs_mut_mat.fillna(0)\n",
    "damaging_mut_mat = damaging_mut_mat.fillna(0)\n",
    "\n",
    "# Export to HDF5\n",
    "hs_mut_mat.to_hdf(\"../data/hs_muts.h5\", key=\"hs_muts\")\n",
    "damaging_mut_mat.to_hdf(\"../data/damaging_muts.h5\", key=\"damaging_muts\")"
   ]
  },
  {
   "cell_type": "markdown",
   "metadata": {},
   "source": [
    "# Dependency profiling"
   ]
  },
  {
   "cell_type": "markdown",
   "metadata": {},
   "source": [
    "## Avana CRISPR-cas9"
   ]
  },
  {
   "cell_type": "code",
   "execution_count": 5,
   "metadata": {
    "ExecuteTime": {
     "end_time": "2019-09-20T22:13:18.099172Z",
     "start_time": "2019-09-20T22:13:05.342972Z"
    }
   },
   "outputs": [],
   "source": [
    "avana = pd.read_csv(\"../data/Achilles_gene_effect.csv\",index_col=0).T\n",
    "\n",
    "avana.index = avana.index.map(lambda x: format_name(x))\n",
    "avana = avana.T\n",
    "\n",
    "avana.to_hdf(\"../data/avana.hdf\",key=\"avana\")"
   ]
  },
  {
   "cell_type": "markdown",
   "metadata": {},
   "source": [
    "## DRIVE RNAi"
   ]
  },
  {
   "cell_type": "code",
   "execution_count": 27,
   "metadata": {
    "ExecuteTime": {
     "end_time": "2019-09-20T22:18:55.128728Z",
     "start_time": "2019-09-20T22:18:54.427340Z"
    }
   },
   "outputs": [],
   "source": [
    "drive = pd.read_csv(\"../data/D2_DRIVE_gene_dep_scores.csv\",index_col=0)\n",
    "\n",
    "drive.index = drive.index.map(lambda x: format_name(x))\n",
    "drive = drive.T\n",
    "drive.index = drive.index.map(lambda x: ccle_achilles_map[x])\n",
    "\n",
    "drive.to_hdf(\"../data/demeter2-drive_v12-gene-effect.hdf\",key=\"drive\")"
   ]
  },
  {
   "cell_type": "markdown",
   "metadata": {},
   "source": [
    "## Achilles RNAi"
   ]
  },
  {
   "cell_type": "code",
   "execution_count": 29,
   "metadata": {
    "ExecuteTime": {
     "end_time": "2019-09-20T22:19:14.693724Z",
     "start_time": "2019-09-20T22:19:12.930541Z"
    }
   },
   "outputs": [],
   "source": [
    "achilles = pd.read_csv(\"../data/D2_Achilles_gene_dep_scores.csv\",index_col=0)\n",
    "\n",
    "achilles.index = achilles.index.map(lambda x: format_name(x))\n",
    "achilles = achilles.T\n",
    "achilles.index = achilles.index.map(lambda x: ccle_achilles_map[x])\n",
    "\n",
    "achilles.to_hdf(\"../data/demeter2-achilles_v13-gene-effect.hdf\",key=\"achilles\")"
   ]
  }
 ],
 "metadata": {
  "kernelspec": {
   "display_name": "Python 3",
   "language": "python",
   "name": "python3"
  },
  "language_info": {
   "codemirror_mode": {
    "name": "ipython",
    "version": 3
   },
   "file_extension": ".py",
   "mimetype": "text/x-python",
   "name": "python",
   "nbconvert_exporter": "python",
   "pygments_lexer": "ipython3",
   "version": "3.7.4"
  },
  "notify_time": "5",
  "toc": {
   "base_numbering": 1,
   "nav_menu": {},
   "number_sections": true,
   "sideBar": true,
   "skip_h1_title": false,
   "title_cell": "Table of Contents",
   "title_sidebar": "Contents",
   "toc_cell": false,
   "toc_position": {
    "height": "calc(100% - 180px)",
    "left": "10px",
    "top": "150px",
    "width": "320px"
   },
   "toc_section_display": true,
   "toc_window_display": true
  }
 },
 "nbformat": 4,
 "nbformat_minor": 2
}
