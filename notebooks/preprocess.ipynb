{
 "cells": [
  {
   "cell_type": "code",
   "execution_count": 19,
   "metadata": {
    "ExecuteTime": {
     "end_time": "2019-09-20T21:40:24.448751Z",
     "start_time": "2019-09-20T21:40:23.678233Z"
    }
   },
   "outputs": [],
   "source": [
    "import pandas as pd\n",
    "import numpy as np\n",
    "import seaborn as sns\n",
    "\n",
    "from collections import defaultdict, Counter"
   ]
  },
  {
   "cell_type": "markdown",
   "metadata": {},
   "source": [
    "# CCLE name to Achilles ID mapping\n",
    "\n",
    "Cell lines can be identified both by a CCLE name (for instance, \"HELA_CERVIX\") or with an Achilles ID (for instance, \"ACH-001086\"). For consistency, we will use the Achilles ID."
   ]
  },
  {
   "cell_type": "code",
   "execution_count": 16,
   "metadata": {
    "ExecuteTime": {
     "end_time": "2019-09-20T21:27:21.555504Z",
     "start_time": "2019-09-20T21:27:21.538944Z"
    }
   },
   "outputs": [],
   "source": [
    "cell_line_info = pd.read_csv(\"../data/Cell_lines_annotations_20181226.txt\",sep=\"\\t\")\n",
    "ccle_achilles_map = dict(zip(cell_line_info[\"CCLE_ID\"],cell_line_info[\"depMapID\"]))"
   ]
  },
  {
   "cell_type": "markdown",
   "metadata": {},
   "source": [
    "# Gencode v19 definitions\n",
    "\n",
    "The gene expression estimates in the CCLE were computed using the GENCODE v19 definitions. Here we read these in and do some pre-formatting to extract the gene transcripts and ENSEMBL IDs, before saving to an HDF5 file for faster loading."
   ]
  },
  {
   "cell_type": "code",
   "execution_count": 8,
   "metadata": {
    "ExecuteTime": {
     "end_time": "2019-09-20T21:21:38.075248Z",
     "start_time": "2019-09-20T21:21:32.438963Z"
    }
   },
   "outputs": [
    {
     "name": "stderr",
     "output_type": "stream",
     "text": [
      "/Users/khu/anaconda3/envs/cenv/lib/python3.7/site-packages/pandas/core/generic.py:2531: PerformanceWarning: \n",
      "your performance may suffer as PyTables will pickle object types that it cannot\n",
      "map directly to c-types [inferred_type->mixed-integer,key->block1_values] [items->['chrom', 'source', 'type', '.1', 'strand', '.2', 'info', 'ensembl_gene_id', 'gene_name', 'ensembl_tx_id']]\n",
      "\n",
      "  pytables.to_hdf(path_or_buf, key, self, **kwargs)\n"
     ]
    }
   ],
   "source": [
    "g19_definitions = pd.read_csv(\"../data/gencode.v19.genes.v7_model.patched_contigs.gtf.gz\",sep=\"\\t\",skiprows=6,\n",
    "                              names=[\"chrom\",\"source\",\"type\",\"start\",\"end\",\".1\",\"strand\",\".2\",\"info\"])\n",
    "\n",
    "# ENSEMBL gene ID\n",
    "g19_definitions[\"ensembl_gene_id\"] = g19_definitions[\"info\"].apply(\n",
    "    lambda x: x.split(\";\")[0][9:-1])\n",
    "\n",
    "# Gene name (HUGO)\n",
    "g19_definitions[\"gene_name\"] = g19_definitions[\"info\"].apply(\n",
    "    lambda x: x.split(\"gene_name\")[1].split(\";\")[0][2:-1])\n",
    "\n",
    "# ENSEMBL transcript ID\n",
    "g19_definitions[\"ensembl_tx_id\"] = g19_definitions[\"info\"].apply(\n",
    "    lambda x: x.split(\"transcript_id\")[1].split(\";\")[0][2:-1])\n",
    "\n",
    "# ENSEMBL name map\n",
    "ensembl_id_map = dict(zip(g19_gene_definitions[\"ensembl_gene_id\"],g19_gene_definitions[\"gene_name\"]))\n",
    "ensembl_id_map = defaultdict(str, ensembl_id_map)\n",
    "\n",
    "# Export to HDF5\n",
    "g19_definitions.to_hdf(\"../data/gencode.v19.genes.v7_model.patched_contigs.h5\",key=\"g19_definitions\")"
   ]
  },
  {
   "cell_type": "markdown",
   "metadata": {},
   "source": [
    "# RNA-seq\n",
    "\n",
    "The CCLE includes 1,019 cell lines for which deep RNA-sequencing was performed. These were then used to estimate gene expression, transcript expression, and exon inclusion ratios. Here we load these files and save to HDF5 for faster loading."
   ]
  },
  {
   "cell_type": "markdown",
   "metadata": {},
   "source": [
    "## Exon inclusions"
   ]
  },
  {
   "cell_type": "code",
   "execution_count": null,
   "metadata": {},
   "outputs": [],
   "source": [
    "# Change the exon naming scheme\n",
    "def reorder_exon(exon):\n",
    "    exon_split = exon.split(\"_\")\n",
    "    return \"_\".join(exon_split[3:]) + \"_\" + \"_\".join(exon_split[:3])\n",
    "\n",
    "exonusage = pd.read_csv(\"raw/ccle/CCLE_RNAseq_ExonUsageRatio_20180929.gct\",skiprows=2,index_col=0,sep=\"\\t\")\n",
    "exonusage.index = exonusage.index.map(lambda x:reorder_exon(x))\n",
    "\n",
    "# Fix inconsistant NaN values\n",
    "exonusage[exonusage==\"\\tNA\"] = np.nan\n",
    "exonusage[exonusage==\"    NA\"] = np.nan\n",
    "exonusage[exonusage==\"     NA\"] = np.nan\n",
    "exonusage = exonusage.astype(float)\n",
    "\n",
    "# Define columns\n",
    "exon_ids = pd.Series(exonusage.index,index=exonusage.index) + \"_\" + pd.Series(exonusage[\"gene_id\"])\n",
    "exonusage = exonusage.set_index(exon_ids).iloc[:,1:]\n",
    "exonusage = exonusage.T\n",
    "\n",
    "# Map CCLE cell line names to Achilles IDs\n",
    "exonusage.index = exonusage.index.map(lambda x: ccle_achilles_map[x])\n",
    "\n",
    "# Exon inclusion measurements require that the gene is sufficiently expressed.\n",
    "# In the interest of space, we only keep exons with less than 800 missing values\n",
    "exonusage_nans = exonusage.isna().sum(axis=0)\n",
    "sns.distplot(exonusage_nans)\n",
    "exonusage = exonusage[exonusage.columns[exonusage_nans<800]]\n",
    "\n",
    "# We also drop exons with low variability of inclusion (standard deviation less than 0.1)\n",
    "exonusage_stdevs = exonusage.std(axis=0)\n",
    "sns.distplot(exonusage_stdevs)\n",
    "exonusage = exonusage[exonusage.columns[exonusage_stdevs>0.1]]\n",
    "\n",
    "# Export to HDF5\n",
    "exonusage.to_hdf(\"../data/CCLE_RNAseq_ExonUsageRatio_20180929.hdf\",key=\"exonusage\")"
   ]
  },
  {
   "cell_type": "markdown",
   "metadata": {},
   "source": [
    "## Transcript expression"
   ]
  },
  {
   "cell_type": "code",
   "execution_count": null,
   "metadata": {},
   "outputs": [],
   "source": [
    "ccle_transcripts = pd.read_csv(\"../data/CCLE_RNAseq_rsem_transcripts_tpm_20180929.txt\",sep=\"\\t\",index_col=1)\n",
    "ccle_transcripts[\"gene_id\"] = ccle_transcripts[\"gene_id\"].apply(lambda x: ensembl_id_map[x])\n",
    "\n",
    "# Change the transcript naming format\n",
    "gene_transcript_ids = ccle_transcripts[\"gene_id\"] + \"_\" + pd.Series(ccle_transcripts.index,index=ccle_transcripts.index)\n",
    "ccle_transcripts = ccle_transcripts.set_index(gene_transcript_ids)\n",
    "\n",
    "# Pseudo-log transform and name mapping\n",
    "ccle_transcripts = ccle_transcripts.iloc[:,1:]\n",
    "ccle_transcripts = np.log2(ccle_transcripts+1)\n",
    "ccle_transcripts = ccle_transcripts.T\n",
    "ccle_transcripts.index = ccle_transcripts.index.map(lambda x: ccle_achilles_map[x])\n",
    "\n",
    "# Standard deviation filtering\n",
    "ccle_transcript_stdevs = ccle_transcripts.std(axis=0)\n",
    "sns.distplot(ccle_transcript_stdevs)\n",
    "ccle_transcripts = ccle_transcripts[ccle_transcripts.columns[ccle_transcript_stdevs>0.25]]\n",
    "\n",
    "# Export to HDF5\n",
    "ccle_transcripts.to_hdf(\"../data/CCLE_RNAseq_rsem_transcripts_tpm_20180929.hdf\",key=\"ccle_transcripts\")"
   ]
  },
  {
   "cell_type": "markdown",
   "metadata": {},
   "source": [
    "## Gene expression"
   ]
  },
  {
   "cell_type": "code",
   "execution_count": null,
   "metadata": {},
   "outputs": [],
   "source": [
    "ccle_genex = pd.read_csv(\"../data/CCLE_RNAseq_rsem_genes_tpm_20180929.txt\",sep=\"\\t\",index_col=0)\n",
    "\n",
    "# Drop info columns\n",
    "ccle_genex = ccle_genex.iloc[:,1:]\n",
    "\n",
    "# Map ensembl IDs\n",
    "ccle_gene_names = ccle_genex.index.map(lambda x: ensembl_id_map[x])\n",
    "gene_names_ids = ccle_gene_names + \"_\" + pd.Series(ccle_genex.index,index=ccle_genex.index)\n",
    "ccle_genex = ccle_genex.set_index(gene_names_ids)\n",
    "\n",
    "# Pseudo-log transform and Achilles name map\n",
    "ccle_genex = np.log2(ccle_genex+1)\n",
    "ccle_genex = ccle_genex.T\n",
    "ccle_genex.index = ccle_genex.index.map(lambda x: ccle_achilles_map[x])\n",
    "\n",
    "# Export to HDF5\n",
    "ccle_genex.to_hdf(\"../data/CCLE_RNAseq_rsem_genes_tpm_20180929.hdf\",key=\"ccle_genex\")"
   ]
  },
  {
   "cell_type": "markdown",
   "metadata": {},
   "source": [
    "# RRBS\n",
    "\n",
    "The CCLE includes reduced-representation bisulfite sequencing (RRBS) profiling of 843 cell lines, which measures methylation levels at CpG sites across the genome. We aggregated these CpG-level estimates to look at methylation of gene promoter regions, promoter-proximal CpG clusters, and enhancer segments. "
   ]
  },
  {
   "cell_type": "markdown",
   "metadata": {},
   "source": [
    "## Promoter regions (1kb ahead of the TSS)"
   ]
  },
  {
   "cell_type": "code",
   "execution_count": null,
   "metadata": {},
   "outputs": [],
   "source": [
    "tss1kb_meth = pd.read_csv(\"../data/CCLE_RRBS_TSS1kb_20181022.txt\",sep=\"\\t\",index_col=0)\n",
    "\n",
    "# Drop info columns\n",
    "tss1kb_meth = tss1kb_meth.iloc[:-1,2:]\n",
    "tss1kb_meth = tss1kb_meth.T\n",
    "\n",
    "# Achilles name map\n",
    "tss1kb_meth.index = tss1kb_meth.index.map(lambda x: ccle_achilles_map[x])\n",
    "\n",
    "# Fix inconsistant NaN values\n",
    "tss1kb_meth[tss1kb_meth==\"\\tNA\"] = np.nan\n",
    "tss1kb_meth[tss1kb_meth==\"    NA\"] = np.nan\n",
    "tss1kb_meth[tss1kb_meth==\"     NA\"] = np.nan\n",
    "tss1kb_meth = tss1kb_meth.astype(float)\n",
    "\n",
    "# Standard deviation filtering\n",
    "tss1kb_meth_stds = tss1kb_meth.std(axis=0)\n",
    "sns.distplot(tss1kb_meth_stds)\n",
    "tss1kb_meth = tss1kb_meth[tss1kb_meth.columns[tss1kb_meth_stds>0.05]]\n",
    "\n",
    "# Export to HDF5\n",
    "tss1kb_meth.to_hdf(\"../data/CCLE_RRBS_TSS1kb_20181022.hdf\",key=\"tss1kb_meth\")"
   ]
  },
  {
   "cell_type": "markdown",
   "metadata": {},
   "source": [
    "## Promoter region clusters"
   ]
  },
  {
   "cell_type": "code",
   "execution_count": null,
   "metadata": {},
   "outputs": [],
   "source": [
    "tssclust_meth = pd.read_csv(\"../data/CCLE_RRBS_tss_CpG_clusters_20181022.txt\",sep=\"\\t\",index_col=0)\n",
    "\n",
    "# Drop info columns\n",
    "tssclust_meth = tssclust_meth.iloc[:-1,2:]\n",
    "tssclust_meth = tssclust_meth.T\n",
    "\n",
    "# Achilles name map\n",
    "tssclust_meth.index = tssclust_meth.index.map(lambda x: ccle_achilles_map[x])\n",
    "\n",
    "# Fix inconsistant NaN values\n",
    "tssclust_meth[tssclust_meth==\"\\tNA\"] = np.nan\n",
    "tssclust_meth[tssclust_meth==\"    NA\"] = np.nan\n",
    "tssclust_meth[tssclust_meth==\"     NA\"] = np.nan\n",
    "tssclust_meth = tssclust_meth.astype(float)\n",
    "\n",
    "# Standard deviation filtering\n",
    "tssclust_meth_stds = tssclust_meth.std(axis=0)\n",
    "sns.distplot(tssclust_meth_stds)\n",
    "tssclust_meth = tssclust_meth[tssclust_meth.columns[tssclust_meth_stds>0.05]]\n",
    "\n",
    "# Export to HDF5\n",
    "tssclust_meth.to_hdf(\"../data/CCLE_RRBS_tss_CpG_clusters_20181022.hdf\",key=\"tssclust_meth\")"
   ]
  },
  {
   "cell_type": "markdown",
   "metadata": {},
   "source": [
    "# miRNA profiling"
   ]
  },
  {
   "cell_type": "code",
   "execution_count": null,
   "metadata": {},
   "outputs": [],
   "source": [
    "mirna = pd.read_csv(\"../data/CCLE_miRNA_20181103.gct.txt\",sep=\"\\t\",skiprows=2)\n",
    "mirna.index = mirna[\"Description\"] + \"_\" + mirna[\"Name\"].apply(lambda x: x[1:])\n",
    "\n",
    "# Drop info columns and log2-transform\n",
    "mirna = mirna.iloc[:,2:]\n",
    "mirna = np.log2(mirna.T)\n",
    "\n",
    "# Achilles name map\n",
    "mirna.index = mirna.index.map(lambda x: ccle_achilles_map[x])\n",
    "\n",
    "# Export to HDF5\n",
    "mirna.to_hdf(\"../data/CCLE_miRNA_20181103.hdf\",key=\"mirna\")"
   ]
  },
  {
   "cell_type": "markdown",
   "metadata": {},
   "source": [
    "# Mutation profiling"
   ]
  },
  {
   "cell_type": "code",
   "execution_count": 20,
   "metadata": {
    "ExecuteTime": {
     "end_time": "2019-09-20T21:40:29.663872Z",
     "start_time": "2019-09-20T21:40:25.373625Z"
    }
   },
   "outputs": [
    {
     "name": "stderr",
     "output_type": "stream",
     "text": [
      "/Users/khu/anaconda3/envs/cenv/lib/python3.7/site-packages/ipykernel_launcher.py:7: SettingWithCopyWarning: \n",
      "A value is trying to be set on a copy of a slice from a DataFrame.\n",
      "Try using .loc[row_indexer,col_indexer] = value instead\n",
      "\n",
      "See the caveats in the documentation: http://pandas.pydata.org/pandas-docs/stable/user_guide/indexing.html#returning-a-view-versus-a-copy\n",
      "  import sys\n",
      "/Users/khu/anaconda3/envs/cenv/lib/python3.7/site-packages/ipykernel_launcher.py:8: SettingWithCopyWarning: \n",
      "A value is trying to be set on a copy of a slice from a DataFrame.\n",
      "Try using .loc[row_indexer,col_indexer] = value instead\n",
      "\n",
      "See the caveats in the documentation: http://pandas.pydata.org/pandas-docs/stable/user_guide/indexing.html#returning-a-view-versus-a-copy\n",
      "  \n"
     ]
    }
   ],
   "source": [
    "mutation_calls = pd.read_csv(\"../data/depmap_19Q1_mutation_calls.csv\",index_col=0)\n",
    "\n",
    "damaging_muts = mutation_calls[mutation_calls[\"Variant_annotation\"]==\"damaging\"]\n",
    "hs_muts = mutation_calls[(mutation_calls[\"isCOSMIChotspot\"]==True)|(mutation_calls[\"isTCGAhotspot\"]==True)]\n",
    "\n",
    "# Counts of each mutation\n",
    "damaging_counts = Counter(damaging_muts[\"Hugo_Symbol\"])\n",
    "hs_counts = Counter(hs_muts[\"Hugo_Symbol\"])\n",
    "\n",
    "damaging_muts[\"count\"] = damaging_muts[\"Hugo_Symbol\"].apply(lambda x: damaging_counts[x])\n",
    "hs_muts[\"count\"] = hs_muts[\"Hugo_Symbol\"].apply(lambda x: hs_counts[x])\n",
    "\n",
    "# Keep recurrently mutated genes\n",
    "damaging_muts = damaging_muts[damaging_muts[\"count\"]>=8]\n",
    "hs_muts = hs_muts[hs_muts[\"count\"]>=8]\n",
    "\n",
    "damaging_muts[\"id\"] = damaging_muts[\"Hugo_Symbol\"] + \"_\" + damaging_muts[\"DepMap_ID\"]\n",
    "hs_muts[\"id\"] = hs_muts[\"Hugo_Symbol\"] + \"_\" + hs_muts[\"DepMap_ID\"]\n",
    "\n",
    "# Drop double-mutated instances\n",
    "damaging_muts = damaging_muts.drop_duplicates(subset=[\"id\"],keep=\"first\")\n",
    "hs_muts = hs_muts.drop_duplicates(subset=[\"id\"],keep=\"first\")\n",
    "\n",
    "# Dummy value for pivoting\n",
    "hs_muts[\"value\"] = 1\n",
    "damaging_muts[\"value\"] = 1\n",
    "\n",
    "# Pivot from list of cell lines + mutations to cell lines vs. mutations\n",
    "hs_mut_mat = pd.pivot_table(hs_muts, values=\"value\", index=[\n",
    "                            \"DepMap_ID\"], columns=\"Hugo_Symbol\", fill_value=0)\n",
    "damaging_mut_mat = pd.pivot_table(damaging_muts, values=\"value\", index=[\n",
    "                                  \"DepMap_ID\"], columns=\"Hugo_Symbol\", fill_value=0)\n",
    "\n",
    "# Export to HDF5\n",
    "hs_mut_mat.to_hdf(\"../data/hs_muts.h5\",key=\"hs_muts\")\n",
    "damaging_mut_mat.to_hdf(\"../data/damaging_muts.h5\",key=\"damaging_muts\")"
   ]
  }
 ],
 "metadata": {
  "kernelspec": {
   "display_name": "Python 3",
   "language": "python",
   "name": "python3"
  },
  "language_info": {
   "codemirror_mode": {
    "name": "ipython",
    "version": 3
   },
   "file_extension": ".py",
   "mimetype": "text/x-python",
   "name": "python",
   "nbconvert_exporter": "python",
   "pygments_lexer": "ipython3",
   "version": "3.7.4"
  },
  "toc": {
   "base_numbering": 1,
   "nav_menu": {},
   "number_sections": true,
   "sideBar": true,
   "skip_h1_title": false,
   "title_cell": "Table of Contents",
   "title_sidebar": "Contents",
   "toc_cell": false,
   "toc_position": {},
   "toc_section_display": true,
   "toc_window_display": true
  }
 },
 "nbformat": 4,
 "nbformat_minor": 2
}
